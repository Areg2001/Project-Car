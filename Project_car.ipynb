{
  "cells": [
    {
      "cell_type": "markdown",
      "metadata": {
        "id": "VVl8OBomyURh"
      },
      "source": [
        "#ՀՀ շուկայում մեքենաների գները․ Աշխատանք տվյալների հետ\n",
        "Picsart Academy. Data Science 2022\n",
        "Սերգեյ Հայրապետյան, Արեգ Մելքոնյան"
      ]
    },
    {
      "cell_type": "markdown",
      "metadata": {
        "id": "zujcTarZzNNW"
      },
      "source": [
        "![Personal_Lending_AutoLoans_L.webp](data:image/webp;base64,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)"
      ]
    },
    {
      "cell_type": "markdown",
      "metadata": {
        "id": "VHclslFw0a8G"
      },
      "source": [
        "#  1) About Project "
      ]
    },
    {
      "cell_type": "markdown",
      "metadata": {
        "id": "L2g4lP9R0_R3"
      },
      "source": [
        "**Նախագծի նպատակն է ստեղծել Հայաստանում վաճառվող ավտոմեքենաների տվյալների շտեմարան և կատարել բնութագրական վերլուծություն։**\n",
        "\n",
        "Տվյալների աղբյուր է ընտրվել ավտոմեքենաների վաճառքի խոշոր  վեբ կայքերից մեկը՝ auto.am-ը։"
      ]
    },
    {
      "cell_type": "markdown",
      "metadata": {
        "id": "KPQvXAU91niM"
      },
      "source": [
        "Բնութագրիչների ցանկը ներկայացված է ստորև․\n",
        "1. մակնիշ\n",
        "2. մոդել\n",
        "3. արտադրման տարի\n",
        "4. արժեք\n",
        "5. թափք\n",
        "6. ղեկ\n",
        "7. փոխանցման տուփ\n",
        "8. շարժիչ\n",
        "9. քարշակ\n",
        "10. մաքսազերծված է"
      ]
    },
    {
      "cell_type": "markdown",
      "metadata": {
        "id": "IA08S5Yv2Cj2"
      },
      "source": [
        "## 1.1 Data Source"
      ]
    },
    {
      "cell_type": "markdown",
      "metadata": {
        "id": "WDvm-2Co2wtY"
      },
      "source": [
        "1) https://auto.am/  կայք։\n",
        "Տվյալները դուրս են բերվելու web scraping-ի միջոցով։"
      ]
    },
    {
      "cell_type": "markdown",
      "metadata": {
        "id": "Iemy0jjv5hIx"
      },
      "source": [
        "## 1.2 Defining outcomes\n"
      ]
    },
    {
      "cell_type": "markdown",
      "metadata": {
        "id": "VDqEYNuB29UE"
      },
      "source": [
        "**Տվյալների վերլուծության արդյունքում նախատեսվում է ստանալ հետևյալ հարցերի պատասխանները․**\n",
        "  ****\n",
        "  * **Ո՞ր մակնիշի ավտոմեքենաների գներն են ամենաշատը տարբերվում**\n",
        "  * **Ո՞ր մակնիշի ավտոմեքենաների ունեն ամենաշատ պահանջարկը , գների վարիացիան ըստ մակնիշների**\n",
        "  * **Ո՞ր մակնիշի ավտոմեքենաներն են գերակշռում վաճառքում**\n",
        "  ****\n",
        "\n",
        "\n",
        "  * **Որո՞նք են ամենաթանկ ավտոմեքենաները**\n",
        "  * **Որո՞նք են ամենաթանկ  ավտոմեքենաների մոդելները**\n",
        "  * **Ինչպե՞ս է նկարագրվում ավտոմեքենաների միջին գնի բաշխումը**\n",
        "\n",
        "  ****\n",
        "\n",
        "  * **Ի՞նչ թափքով ավտոմեքենաներն են ամենաշատը ներկայացված**\n",
        "  * **Ինչպե՞ս է տարբերվում միջին գինն ըստ մեքենայի գույնի**\n",
        "  * **Ինչպե՞ս է տարբերվում միջին գինն ըստ մեքենայի ղեկի**\n",
        "  * **Ինչպե՞ս է տարբերվում միջին գինն ըստ մեքենայի փոխանցման տուփի**\n",
        "  * **Ո՞ր մոդելում է առավելապես տարբերվում ղեկի տարբերությամբ ավտոմեքենաների գները**\n",
        "  \n",
        "  ****\n",
        "  * **Ո՞ր մակնիշներն են ավելի տարածված**\n",
        "  * **Ինչպե՞ս են տարբերվում ավտոմեքենաների գները ըստ գույների**\n",
        "  * **Որո՞նք են մակնիշներում մեծ մասնաբաժին ունեցող մոդելները**\n",
        "  ****"
      ]
    },
    {
      "cell_type": "markdown",
      "metadata": {
        "id": "gOAweDyf5Xrj"
      },
      "source": [
        "# 2) Web scraping"
      ]
    },
    {
      "cell_type": "markdown",
      "metadata": {
        "id": "e13X77UgAO9x"
      },
      "source": [
        "##2.1 Website scraping code"
      ]
    },
    {
      "cell_type": "markdown",
      "metadata": {
        "id": "5KXlsBpmIxDG"
      },
      "source": [
        "WebSite scraping code"
      ]
    },
    {
      "cell_type": "code",
      "execution_count": null,
      "metadata": {
        "id": "25e0LL_EXpdt",
        "colab": {
          "base_uri": "https://localhost:8080/"
        },
        "outputId": "542dc170-4546-45b0-aa1e-cab4c516bafd"
      },
      "outputs": [
        {
          "output_type": "stream",
          "name": "stdout",
          "text": [
            "Mounted at /content/drive\n"
          ]
        }
      ],
      "source": [
        "from google.colab import drive\n",
        "drive.mount('/content/drive')"
      ]
    },
    {
      "cell_type": "code",
      "execution_count": null,
      "metadata": {
        "id": "4VuSH9qB_jkR"
      },
      "outputs": [],
      "source": [
        "# moduls for scrapping\n",
        "from selenium import webdriver\n",
        "from selenium.webdriver.common.by import By\n",
        "import time\n",
        "\n",
        "# Chrome browser \n",
        "driver = webdriver.Chrome()\n",
        "\n",
        "def write_in_csv(data):\n",
        "  \"\"\"This function is writing into csv file.\"\"\"\n",
        "\n",
        "  data = data.text.split(\"է\")\n",
        "    \n",
        "  for info in data:\n",
        "      with open(\"data.csv\", \"a\") as f:\n",
        "          f.write(info)\n",
        "          f.write(\"\\n\")\n",
        "          \n",
        "        \n",
        "#Taking data page-by-page.\n",
        "for i in range(1, 500):\n",
        "    url = '''https://auto.am/search/passenger-cars?q={\"category\":\"1\",\"page\":\"''' + \\\n",
        "          str(i) + \\\n",
        "          '''\",\"sort\":\"latest\",\"layout\":\"list\",\"user\":{\"dealer\":\"0\",\"id\":\"\"},\"year\":{\"gt\":\"1911\",\"lt\":\"2024\"},''' + \\\n",
        "          '''\"usdprice\":{\"gt\":\"0\",\"lt\":\"100000000\"},\"mileage\":{\"gt\":\"10\",\"lt\":\"1000000\"}}'''\n",
        "    driver.get(url)\n",
        "    \n",
        "    time.sleep(4)\n",
        "    elements = driver.find_elements(By.CLASS_NAME, \"list\")\n",
        "\n",
        "    # Writing scrapped page in csv\n",
        "    for item in elements:    \n",
        "        write_in_csv(item)\n",
        "    "
      ]
    },
    {
      "cell_type": "code",
      "execution_count": null,
      "metadata": {
        "id": "RRXKF0oAnXPq"
      },
      "outputs": [],
      "source": [
        "sep = [\"$\", \"Պ\", \"պ\", \"֏\", \"€\"]\n",
        "\n",
        "# write the data without useless data\n",
        "with open(\"cars.csv\", \"a\") as file: \n",
        "    with open(\"data.csv\") as file1:\n",
        "        for row in file1:\n",
        "            if not row.strip():\n",
        "                file.write(\"\\n\")\n",
        "\n",
        "            if row[0] in sep:\n",
        "                file.write(row)\n",
        "\n",
        "            else:\n",
        "                try:\n",
        "                    if int(row[0]):\n",
        "                        file.write(row)  \n",
        "                except:\n",
        "                    pass   "
      ]
    },
    {
      "cell_type": "markdown",
      "metadata": {
        "id": "tX2Ul5TzI5fN"
      },
      "source": [
        "Create csv file"
      ]
    },
    {
      "cell_type": "code",
      "execution_count": null,
      "metadata": {
        "id": "VZCcAxPUJjI8"
      },
      "outputs": [],
      "source": [
        "import csv\n",
        "\n",
        "# write the data of each car in lines\n",
        "with open('cars.csv', 'r') as file:\n",
        "    lines = file.readlines()\n",
        "\n",
        "data = []\n",
        "\n",
        "temp_list = []\n",
        "\n",
        "for line in lines:\n",
        "    if not line.strip():\n",
        "        if temp_list:\n",
        "            data.append(temp_list)\n",
        "            temp_list = []\n",
        "    else:\n",
        "        temp_list.append(line.strip())\n",
        "\n",
        "data.append(temp_list)\n",
        "\n",
        "with open('example.csv', 'w', newline='') as csv_file:\n",
        "    writer = csv.writer(csv_file)\n",
        "\n",
        "    for row in data:\n",
        "        writer.writerow(row)                            "
      ]
    },
    {
      "cell_type": "code",
      "execution_count": null,
      "metadata": {
        "id": "YN1n8I5SE_5b"
      },
      "outputs": [],
      "source": [
        "# cleaning all useless data and writing it into csv file.\n",
        "with open(\"file.csv\", \"r\") as file, open(\"final.csv\", \"a\") as file1:\n",
        "    \n",
        "    for line in file:\n",
        "        line = line.split(\",\")\n",
        "        line[1] = line[1].replace(\"  \", \",\")\n",
        "        line[1] = line[1].replace(\" \", \",\", 1)\n",
        "        \n",
        "        for i in range(len(line)):\n",
        "            line[i] = line[i].replace('\"', \"\")\n",
        "            \n",
        "        line.remove(line[-2])\n",
        "        \n",
        "        if len(line[-2]) > 12:\n",
        "             line.remove(line[-2])\n",
        "        \n",
        "                    \n",
        "        for item in line[3:]:\n",
        "            try:\n",
        "                if item[1].isdigit() or item[1].isascii():\n",
        "                     line.remove(item)\n",
        "            except:\n",
        "                pass      \n",
        "            \n",
        "        if len(line) > 9:\n",
        "                line.remove(line[-2])\n",
        "                    \n",
        "        for item in line:\n",
        "            if len(line) != 9:\n",
        "                break\n",
        "            \n",
        "            file1.write(item)\n",
        "            file1.write(\",\")\n",
        "            "
      ]
    },
    {
      "cell_type": "markdown",
      "metadata": {
        "id": "IYcvlNi-YLSn"
      },
      "source": [
        "##2.2 The Dataset"
      ]
    },
    {
      "cell_type": "code",
      "execution_count": null,
      "metadata": {
        "id": "vxEZ6IXQYacQ"
      },
      "outputs": [],
      "source": [
        "import pandas as pd\n",
        "import numpy as np\n",
        "import matplotlib.pyplot as plt\n",
        "import seaborn as sns"
      ]
    },
    {
      "cell_type": "code",
      "execution_count": null,
      "metadata": {
        "id": "KRTGfzH4dpQX"
      },
      "outputs": [],
      "source": [
        "from google.colab import files\n",
        "import io"
      ]
    },
    {
      "cell_type": "code",
      "execution_count": null,
      "metadata": {
        "colab": {
          "base_uri": "https://localhost:8080/",
          "height": 73
        },
        "id": "at4TUAwubs-6",
        "outputId": "10650bcc-19c7-4553-aa7f-ead0d82b9983"
      },
      "outputs": [
        {
          "output_type": "display_data",
          "data": {
            "text/plain": [
              "<IPython.core.display.HTML object>"
            ],
            "text/html": [
              "\n",
              "     <input type=\"file\" id=\"files-3f676777-d0a3-43d1-839b-6ffa39cd2776\" name=\"files[]\" multiple disabled\n",
              "        style=\"border:none\" />\n",
              "     <output id=\"result-3f676777-d0a3-43d1-839b-6ffa39cd2776\">\n",
              "      Upload widget is only available when the cell has been executed in the\n",
              "      current browser session. Please rerun this cell to enable.\n",
              "      </output>\n",
              "      <script>// Copyright 2017 Google LLC\n",
              "//\n",
              "// Licensed under the Apache License, Version 2.0 (the \"License\");\n",
              "// you may not use this file except in compliance with the License.\n",
              "// You may obtain a copy of the License at\n",
              "//\n",
              "//      http://www.apache.org/licenses/LICENSE-2.0\n",
              "//\n",
              "// Unless required by applicable law or agreed to in writing, software\n",
              "// distributed under the License is distributed on an \"AS IS\" BASIS,\n",
              "// WITHOUT WARRANTIES OR CONDITIONS OF ANY KIND, either express or implied.\n",
              "// See the License for the specific language governing permissions and\n",
              "// limitations under the License.\n",
              "\n",
              "/**\n",
              " * @fileoverview Helpers for google.colab Python module.\n",
              " */\n",
              "(function(scope) {\n",
              "function span(text, styleAttributes = {}) {\n",
              "  const element = document.createElement('span');\n",
              "  element.textContent = text;\n",
              "  for (const key of Object.keys(styleAttributes)) {\n",
              "    element.style[key] = styleAttributes[key];\n",
              "  }\n",
              "  return element;\n",
              "}\n",
              "\n",
              "// Max number of bytes which will be uploaded at a time.\n",
              "const MAX_PAYLOAD_SIZE = 100 * 1024;\n",
              "\n",
              "function _uploadFiles(inputId, outputId) {\n",
              "  const steps = uploadFilesStep(inputId, outputId);\n",
              "  const outputElement = document.getElementById(outputId);\n",
              "  // Cache steps on the outputElement to make it available for the next call\n",
              "  // to uploadFilesContinue from Python.\n",
              "  outputElement.steps = steps;\n",
              "\n",
              "  return _uploadFilesContinue(outputId);\n",
              "}\n",
              "\n",
              "// This is roughly an async generator (not supported in the browser yet),\n",
              "// where there are multiple asynchronous steps and the Python side is going\n",
              "// to poll for completion of each step.\n",
              "// This uses a Promise to block the python side on completion of each step,\n",
              "// then passes the result of the previous step as the input to the next step.\n",
              "function _uploadFilesContinue(outputId) {\n",
              "  const outputElement = document.getElementById(outputId);\n",
              "  const steps = outputElement.steps;\n",
              "\n",
              "  const next = steps.next(outputElement.lastPromiseValue);\n",
              "  return Promise.resolve(next.value.promise).then((value) => {\n",
              "    // Cache the last promise value to make it available to the next\n",
              "    // step of the generator.\n",
              "    outputElement.lastPromiseValue = value;\n",
              "    return next.value.response;\n",
              "  });\n",
              "}\n",
              "\n",
              "/**\n",
              " * Generator function which is called between each async step of the upload\n",
              " * process.\n",
              " * @param {string} inputId Element ID of the input file picker element.\n",
              " * @param {string} outputId Element ID of the output display.\n",
              " * @return {!Iterable<!Object>} Iterable of next steps.\n",
              " */\n",
              "function* uploadFilesStep(inputId, outputId) {\n",
              "  const inputElement = document.getElementById(inputId);\n",
              "  inputElement.disabled = false;\n",
              "\n",
              "  const outputElement = document.getElementById(outputId);\n",
              "  outputElement.innerHTML = '';\n",
              "\n",
              "  const pickedPromise = new Promise((resolve) => {\n",
              "    inputElement.addEventListener('change', (e) => {\n",
              "      resolve(e.target.files);\n",
              "    });\n",
              "  });\n",
              "\n",
              "  const cancel = document.createElement('button');\n",
              "  inputElement.parentElement.appendChild(cancel);\n",
              "  cancel.textContent = 'Cancel upload';\n",
              "  const cancelPromise = new Promise((resolve) => {\n",
              "    cancel.onclick = () => {\n",
              "      resolve(null);\n",
              "    };\n",
              "  });\n",
              "\n",
              "  // Wait for the user to pick the files.\n",
              "  const files = yield {\n",
              "    promise: Promise.race([pickedPromise, cancelPromise]),\n",
              "    response: {\n",
              "      action: 'starting',\n",
              "    }\n",
              "  };\n",
              "\n",
              "  cancel.remove();\n",
              "\n",
              "  // Disable the input element since further picks are not allowed.\n",
              "  inputElement.disabled = true;\n",
              "\n",
              "  if (!files) {\n",
              "    return {\n",
              "      response: {\n",
              "        action: 'complete',\n",
              "      }\n",
              "    };\n",
              "  }\n",
              "\n",
              "  for (const file of files) {\n",
              "    const li = document.createElement('li');\n",
              "    li.append(span(file.name, {fontWeight: 'bold'}));\n",
              "    li.append(span(\n",
              "        `(${file.type || 'n/a'}) - ${file.size} bytes, ` +\n",
              "        `last modified: ${\n",
              "            file.lastModifiedDate ? file.lastModifiedDate.toLocaleDateString() :\n",
              "                                    'n/a'} - `));\n",
              "    const percent = span('0% done');\n",
              "    li.appendChild(percent);\n",
              "\n",
              "    outputElement.appendChild(li);\n",
              "\n",
              "    const fileDataPromise = new Promise((resolve) => {\n",
              "      const reader = new FileReader();\n",
              "      reader.onload = (e) => {\n",
              "        resolve(e.target.result);\n",
              "      };\n",
              "      reader.readAsArrayBuffer(file);\n",
              "    });\n",
              "    // Wait for the data to be ready.\n",
              "    let fileData = yield {\n",
              "      promise: fileDataPromise,\n",
              "      response: {\n",
              "        action: 'continue',\n",
              "      }\n",
              "    };\n",
              "\n",
              "    // Use a chunked sending to avoid message size limits. See b/62115660.\n",
              "    let position = 0;\n",
              "    do {\n",
              "      const length = Math.min(fileData.byteLength - position, MAX_PAYLOAD_SIZE);\n",
              "      const chunk = new Uint8Array(fileData, position, length);\n",
              "      position += length;\n",
              "\n",
              "      const base64 = btoa(String.fromCharCode.apply(null, chunk));\n",
              "      yield {\n",
              "        response: {\n",
              "          action: 'append',\n",
              "          file: file.name,\n",
              "          data: base64,\n",
              "        },\n",
              "      };\n",
              "\n",
              "      let percentDone = fileData.byteLength === 0 ?\n",
              "          100 :\n",
              "          Math.round((position / fileData.byteLength) * 100);\n",
              "      percent.textContent = `${percentDone}% done`;\n",
              "\n",
              "    } while (position < fileData.byteLength);\n",
              "  }\n",
              "\n",
              "  // All done.\n",
              "  yield {\n",
              "    response: {\n",
              "      action: 'complete',\n",
              "    }\n",
              "  };\n",
              "}\n",
              "\n",
              "scope.google = scope.google || {};\n",
              "scope.google.colab = scope.google.colab || {};\n",
              "scope.google.colab._files = {\n",
              "  _uploadFiles,\n",
              "  _uploadFilesContinue,\n",
              "};\n",
              "})(self);\n",
              "</script> "
            ]
          },
          "metadata": {}
        },
        {
          "output_type": "stream",
          "name": "stdout",
          "text": [
            "Saving cars.csv to cars (1).csv\n"
          ]
        }
      ],
      "source": [
        "# Uploading file.\n",
        "data = files.upload()"
      ]
    },
    {
      "cell_type": "code",
      "execution_count": null,
      "metadata": {
        "id": "UUDlW38kb_KI"
      },
      "outputs": [],
      "source": [
        "# Creating DataFrame.\n",
        "df = pd.read_csv(io.StringIO(data['cars.csv'].decode('utf-8')), on_bad_lines='skip')"
      ]
    },
    {
      "cell_type": "code",
      "execution_count": null,
      "metadata": {
        "id": "JOVv7WS6KX4i"
      },
      "outputs": [],
      "source": [
        "# Cleaning empty column.\n",
        "df.drop(\"Unnamed: 0\", inplace=True, axis=1)"
      ]
    },
    {
      "cell_type": "code",
      "execution_count": null,
      "metadata": {
        "colab": {
          "base_uri": "https://localhost:8080/",
          "height": 424
        },
        "id": "CyTl7lb9e2gv",
        "outputId": "1364f044-eb36-4d98-d37e-beaf9d93d9b9"
      },
      "outputs": [
        {
          "output_type": "execute_result",
          "data": {
            "text/plain": [
              "         Price  Year        Make               Model      Mileage  Body style  \\\n",
              "0      $ 7 600  2021  Volkswagen                Polo    38000 կմ        Սեդան   \n",
              "1     $ 41 000  2020  Mitsubishi              Pajero       10 կմ    Ամենագնաց   \n",
              "2      $ 6 000  2005      Nissan               Tiida   156000 կմ        Սեդան   \n",
              "3      $ 6 400  2006      Toyota  Land Cruiser Prado   170000 կմ    Ամենագնաց   \n",
              "4     $ 13 000  2019     Hyundai                Kona  28393 մղոն    Ամենագնաց   \n",
              "...        ...   ...         ...                 ...          ...         ...   \n",
              "9551  $ 15 700  2018      Toyota              Tundra    19374 կմ        Պիկապ   \n",
              "9552   $ 6 700  2018         Kia            Sportage    18347 կմ    Ամենագնաց   \n",
              "9553  $ 12 300  2016      Toyota              Tundra    23714 կմ        Պիկապ   \n",
              "9554  $ 13 500  2017      Toyota              Tundra    23417 կմ        Պիկապ   \n",
              "9555  $ 12 700  2016      Toyota              Tundra    22574 կմ        Պիկապ   \n",
              "\n",
              "           Gearbox Hand drive   Engine         Color   Custom cleared  \n",
              "0      Մեխանիկական        Ձախ   Բենզին        Սպիտակ   մաքսազերծված չ  \n",
              "1          Ավտոմատ        Ձախ   Բենզին        Սպիտակ     Մաքսազերծված  \n",
              "2          Ավտոմատ        Ձախ      Գազ     Այլ գույն     Մաքսազերծված  \n",
              "3          Ավտոմատ        Ձախ    Դիզել            Սև   մաքսազերծված չ  \n",
              "4          Ավտոմատ        Ձախ   Բենզին   Արծաթագույն   մաքսազերծված չ  \n",
              "...            ...        ...      ...           ...              ...  \n",
              "9551       Ավտոմատ        Ձախ   Բենզին            Սև   մաքսազերծված չ  \n",
              "9552       Ավտոմատ        Ձախ   Բենզին   Արծաթագույն   մաքսազերծված չ  \n",
              "9553       Ավտոմատ        Ձախ   Բենզին    Մոխրագույն   մաքսազերծված չ  \n",
              "9554       Ավտոմատ        Ձախ   Բենզին        Սպիտակ   մաքսազերծված չ  \n",
              "9555       Ավտոմատ        Ձախ   Բենզին            Սև   մաքսազերծված չ  \n",
              "\n",
              "[9556 rows x 11 columns]"
            ],
            "text/html": [
              "\n",
              "  <div id=\"df-6dac3279-1412-437c-a52d-c5a0ca816cc9\">\n",
              "    <div class=\"colab-df-container\">\n",
              "      <div>\n",
              "<style scoped>\n",
              "    .dataframe tbody tr th:only-of-type {\n",
              "        vertical-align: middle;\n",
              "    }\n",
              "\n",
              "    .dataframe tbody tr th {\n",
              "        vertical-align: top;\n",
              "    }\n",
              "\n",
              "    .dataframe thead th {\n",
              "        text-align: right;\n",
              "    }\n",
              "</style>\n",
              "<table border=\"1\" class=\"dataframe\">\n",
              "  <thead>\n",
              "    <tr style=\"text-align: right;\">\n",
              "      <th></th>\n",
              "      <th>Price</th>\n",
              "      <th>Year</th>\n",
              "      <th>Make</th>\n",
              "      <th>Model</th>\n",
              "      <th>Mileage</th>\n",
              "      <th>Body style</th>\n",
              "      <th>Gearbox</th>\n",
              "      <th>Hand drive</th>\n",
              "      <th>Engine</th>\n",
              "      <th>Color</th>\n",
              "      <th>Custom cleared</th>\n",
              "    </tr>\n",
              "  </thead>\n",
              "  <tbody>\n",
              "    <tr>\n",
              "      <th>0</th>\n",
              "      <td>$ 7 600</td>\n",
              "      <td>2021</td>\n",
              "      <td>Volkswagen</td>\n",
              "      <td>Polo</td>\n",
              "      <td>38000 կմ</td>\n",
              "      <td>Սեդան</td>\n",
              "      <td>Մեխանիկական</td>\n",
              "      <td>Ձախ</td>\n",
              "      <td>Բենզին</td>\n",
              "      <td>Սպիտակ</td>\n",
              "      <td>մաքսազերծված չ</td>\n",
              "    </tr>\n",
              "    <tr>\n",
              "      <th>1</th>\n",
              "      <td>$ 41 000</td>\n",
              "      <td>2020</td>\n",
              "      <td>Mitsubishi</td>\n",
              "      <td>Pajero</td>\n",
              "      <td>10 կմ</td>\n",
              "      <td>Ամենագնաց</td>\n",
              "      <td>Ավտոմատ</td>\n",
              "      <td>Ձախ</td>\n",
              "      <td>Բենզին</td>\n",
              "      <td>Սպիտակ</td>\n",
              "      <td>Մաքսազերծված</td>\n",
              "    </tr>\n",
              "    <tr>\n",
              "      <th>2</th>\n",
              "      <td>$ 6 000</td>\n",
              "      <td>2005</td>\n",
              "      <td>Nissan</td>\n",
              "      <td>Tiida</td>\n",
              "      <td>156000 կմ</td>\n",
              "      <td>Սեդան</td>\n",
              "      <td>Ավտոմատ</td>\n",
              "      <td>Ձախ</td>\n",
              "      <td>Գազ</td>\n",
              "      <td>Այլ գույն</td>\n",
              "      <td>Մաքսազերծված</td>\n",
              "    </tr>\n",
              "    <tr>\n",
              "      <th>3</th>\n",
              "      <td>$ 6 400</td>\n",
              "      <td>2006</td>\n",
              "      <td>Toyota</td>\n",
              "      <td>Land Cruiser Prado</td>\n",
              "      <td>170000 կմ</td>\n",
              "      <td>Ամենագնաց</td>\n",
              "      <td>Ավտոմատ</td>\n",
              "      <td>Ձախ</td>\n",
              "      <td>Դիզել</td>\n",
              "      <td>Սև</td>\n",
              "      <td>մաքսազերծված չ</td>\n",
              "    </tr>\n",
              "    <tr>\n",
              "      <th>4</th>\n",
              "      <td>$ 13 000</td>\n",
              "      <td>2019</td>\n",
              "      <td>Hyundai</td>\n",
              "      <td>Kona</td>\n",
              "      <td>28393 մղոն</td>\n",
              "      <td>Ամենագնաց</td>\n",
              "      <td>Ավտոմատ</td>\n",
              "      <td>Ձախ</td>\n",
              "      <td>Բենզին</td>\n",
              "      <td>Արծաթագույն</td>\n",
              "      <td>մաքսազերծված չ</td>\n",
              "    </tr>\n",
              "    <tr>\n",
              "      <th>...</th>\n",
              "      <td>...</td>\n",
              "      <td>...</td>\n",
              "      <td>...</td>\n",
              "      <td>...</td>\n",
              "      <td>...</td>\n",
              "      <td>...</td>\n",
              "      <td>...</td>\n",
              "      <td>...</td>\n",
              "      <td>...</td>\n",
              "      <td>...</td>\n",
              "      <td>...</td>\n",
              "    </tr>\n",
              "    <tr>\n",
              "      <th>9551</th>\n",
              "      <td>$ 15 700</td>\n",
              "      <td>2018</td>\n",
              "      <td>Toyota</td>\n",
              "      <td>Tundra</td>\n",
              "      <td>19374 կմ</td>\n",
              "      <td>Պիկապ</td>\n",
              "      <td>Ավտոմատ</td>\n",
              "      <td>Ձախ</td>\n",
              "      <td>Բենզին</td>\n",
              "      <td>Սև</td>\n",
              "      <td>մաքսազերծված չ</td>\n",
              "    </tr>\n",
              "    <tr>\n",
              "      <th>9552</th>\n",
              "      <td>$ 6 700</td>\n",
              "      <td>2018</td>\n",
              "      <td>Kia</td>\n",
              "      <td>Sportage</td>\n",
              "      <td>18347 կմ</td>\n",
              "      <td>Ամենագնաց</td>\n",
              "      <td>Ավտոմատ</td>\n",
              "      <td>Ձախ</td>\n",
              "      <td>Բենզին</td>\n",
              "      <td>Արծաթագույն</td>\n",
              "      <td>մաքսազերծված չ</td>\n",
              "    </tr>\n",
              "    <tr>\n",
              "      <th>9553</th>\n",
              "      <td>$ 12 300</td>\n",
              "      <td>2016</td>\n",
              "      <td>Toyota</td>\n",
              "      <td>Tundra</td>\n",
              "      <td>23714 կմ</td>\n",
              "      <td>Պիկապ</td>\n",
              "      <td>Ավտոմատ</td>\n",
              "      <td>Ձախ</td>\n",
              "      <td>Բենզին</td>\n",
              "      <td>Մոխրագույն</td>\n",
              "      <td>մաքսազերծված չ</td>\n",
              "    </tr>\n",
              "    <tr>\n",
              "      <th>9554</th>\n",
              "      <td>$ 13 500</td>\n",
              "      <td>2017</td>\n",
              "      <td>Toyota</td>\n",
              "      <td>Tundra</td>\n",
              "      <td>23417 կմ</td>\n",
              "      <td>Պիկապ</td>\n",
              "      <td>Ավտոմատ</td>\n",
              "      <td>Ձախ</td>\n",
              "      <td>Բենզին</td>\n",
              "      <td>Սպիտակ</td>\n",
              "      <td>մաքսազերծված չ</td>\n",
              "    </tr>\n",
              "    <tr>\n",
              "      <th>9555</th>\n",
              "      <td>$ 12 700</td>\n",
              "      <td>2016</td>\n",
              "      <td>Toyota</td>\n",
              "      <td>Tundra</td>\n",
              "      <td>22574 կմ</td>\n",
              "      <td>Պիկապ</td>\n",
              "      <td>Ավտոմատ</td>\n",
              "      <td>Ձախ</td>\n",
              "      <td>Բենզին</td>\n",
              "      <td>Սև</td>\n",
              "      <td>մաքսազերծված չ</td>\n",
              "    </tr>\n",
              "  </tbody>\n",
              "</table>\n",
              "<p>9556 rows × 11 columns</p>\n",
              "</div>\n",
              "      <button class=\"colab-df-convert\" onclick=\"convertToInteractive('df-6dac3279-1412-437c-a52d-c5a0ca816cc9')\"\n",
              "              title=\"Convert this dataframe to an interactive table.\"\n",
              "              style=\"display:none;\">\n",
              "        \n",
              "  <svg xmlns=\"http://www.w3.org/2000/svg\" height=\"24px\"viewBox=\"0 0 24 24\"\n",
              "       width=\"24px\">\n",
              "    <path d=\"M0 0h24v24H0V0z\" fill=\"none\"/>\n",
              "    <path d=\"M18.56 5.44l.94 2.06.94-2.06 2.06-.94-2.06-.94-.94-2.06-.94 2.06-2.06.94zm-11 1L8.5 8.5l.94-2.06 2.06-.94-2.06-.94L8.5 2.5l-.94 2.06-2.06.94zm10 10l.94 2.06.94-2.06 2.06-.94-2.06-.94-.94-2.06-.94 2.06-2.06.94z\"/><path d=\"M17.41 7.96l-1.37-1.37c-.4-.4-.92-.59-1.43-.59-.52 0-1.04.2-1.43.59L10.3 9.45l-7.72 7.72c-.78.78-.78 2.05 0 2.83L4 21.41c.39.39.9.59 1.41.59.51 0 1.02-.2 1.41-.59l7.78-7.78 2.81-2.81c.8-.78.8-2.07 0-2.86zM5.41 20L4 18.59l7.72-7.72 1.47 1.35L5.41 20z\"/>\n",
              "  </svg>\n",
              "      </button>\n",
              "      \n",
              "  <style>\n",
              "    .colab-df-container {\n",
              "      display:flex;\n",
              "      flex-wrap:wrap;\n",
              "      gap: 12px;\n",
              "    }\n",
              "\n",
              "    .colab-df-convert {\n",
              "      background-color: #E8F0FE;\n",
              "      border: none;\n",
              "      border-radius: 50%;\n",
              "      cursor: pointer;\n",
              "      display: none;\n",
              "      fill: #1967D2;\n",
              "      height: 32px;\n",
              "      padding: 0 0 0 0;\n",
              "      width: 32px;\n",
              "    }\n",
              "\n",
              "    .colab-df-convert:hover {\n",
              "      background-color: #E2EBFA;\n",
              "      box-shadow: 0px 1px 2px rgba(60, 64, 67, 0.3), 0px 1px 3px 1px rgba(60, 64, 67, 0.15);\n",
              "      fill: #174EA6;\n",
              "    }\n",
              "\n",
              "    [theme=dark] .colab-df-convert {\n",
              "      background-color: #3B4455;\n",
              "      fill: #D2E3FC;\n",
              "    }\n",
              "\n",
              "    [theme=dark] .colab-df-convert:hover {\n",
              "      background-color: #434B5C;\n",
              "      box-shadow: 0px 1px 3px 1px rgba(0, 0, 0, 0.15);\n",
              "      filter: drop-shadow(0px 1px 2px rgba(0, 0, 0, 0.3));\n",
              "      fill: #FFFFFF;\n",
              "    }\n",
              "  </style>\n",
              "\n",
              "      <script>\n",
              "        const buttonEl =\n",
              "          document.querySelector('#df-6dac3279-1412-437c-a52d-c5a0ca816cc9 button.colab-df-convert');\n",
              "        buttonEl.style.display =\n",
              "          google.colab.kernel.accessAllowed ? 'block' : 'none';\n",
              "\n",
              "        async function convertToInteractive(key) {\n",
              "          const element = document.querySelector('#df-6dac3279-1412-437c-a52d-c5a0ca816cc9');\n",
              "          const dataTable =\n",
              "            await google.colab.kernel.invokeFunction('convertToInteractive',\n",
              "                                                     [key], {});\n",
              "          if (!dataTable) return;\n",
              "\n",
              "          const docLinkHtml = 'Like what you see? Visit the ' +\n",
              "            '<a target=\"_blank\" href=https://colab.research.google.com/notebooks/data_table.ipynb>data table notebook</a>'\n",
              "            + ' to learn more about interactive tables.';\n",
              "          element.innerHTML = '';\n",
              "          dataTable['output_type'] = 'display_data';\n",
              "          await google.colab.output.renderOutput(dataTable, element);\n",
              "          const docLink = document.createElement('div');\n",
              "          docLink.innerHTML = docLinkHtml;\n",
              "          element.appendChild(docLink);\n",
              "        }\n",
              "      </script>\n",
              "    </div>\n",
              "  </div>\n",
              "  "
            ]
          },
          "metadata": {},
          "execution_count": 10
        }
      ],
      "source": [
        "df"
      ]
    },
    {
      "cell_type": "markdown",
      "metadata": {
        "id": "YOGBLIcG0oyl"
      },
      "source": [
        "#3) Data Preprocessing and Cleaning"
      ]
    },
    {
      "cell_type": "markdown",
      "metadata": {
        "id": "6aYn6qlTggEV"
      },
      "source": [
        "**Data Preprocessing Steps**\n",
        "\n",
        "* `price` type convert to float \n",
        "* `year` type convert to int \n",
        "* `milegae` type convert to int\n",
        "* `Hand drive` type convert to int\n",
        "* `Gearbox` type convert to int\n",
        "* `Custom Cleared` type convert to int\n",
        "* `Anomalies` cleaning \n"
      ]
    },
    {
      "cell_type": "code",
      "execution_count": null,
      "metadata": {
        "colab": {
          "base_uri": "https://localhost:8080/"
        },
        "id": "7DNaB0FfkqFO",
        "outputId": "403d0d36-2609-4b92-9cfe-5b3e35c28826"
      },
      "outputs": [
        {
          "output_type": "execute_result",
          "data": {
            "text/plain": [
              "(9556, 11)"
            ]
          },
          "metadata": {},
          "execution_count": 7
        }
      ],
      "source": [
        "df.shape"
      ]
    },
    {
      "cell_type": "code",
      "execution_count": null,
      "metadata": {
        "colab": {
          "base_uri": "https://localhost:8080/"
        },
        "id": "k7rjsn8Hksb_",
        "outputId": "017468a7-c57e-4527-b95b-b9a08bf363d0"
      },
      "outputs": [
        {
          "output_type": "execute_result",
          "data": {
            "text/plain": [
              "Price             object\n",
              "Year               int64\n",
              "Make              object\n",
              "Model             object\n",
              "Mileage           object\n",
              "Body style        object\n",
              "Gearbox           object\n",
              "Hand drive        object\n",
              "Engine            object\n",
              "Color             object\n",
              "Custom cleared    object\n",
              "dtype: object"
            ]
          },
          "metadata": {},
          "execution_count": 8
        }
      ],
      "source": [
        "df.dtypes"
      ]
    },
    {
      "cell_type": "code",
      "execution_count": null,
      "metadata": {
        "colab": {
          "base_uri": "https://localhost:8080/"
        },
        "id": "w-M2iabHimeU",
        "outputId": "dda497a5-3da5-406f-d6d4-3acabdd752ab"
      },
      "outputs": [
        {
          "output_type": "execute_result",
          "data": {
            "text/plain": [
              "Price              0\n",
              "Year               0\n",
              "Make               0\n",
              "Model              0\n",
              "Mileage            0\n",
              "Body style         0\n",
              "Gearbox            0\n",
              "Hand drive         0\n",
              "Engine             0\n",
              "Color              0\n",
              "Custom cleared    40\n",
              "dtype: int64"
            ]
          },
          "metadata": {},
          "execution_count": 10
        }
      ],
      "source": [
        "df.isnull().sum()"
      ]
    },
    {
      "cell_type": "markdown",
      "metadata": {
        "id": "TabGru3H0RbK"
      },
      "source": [
        "##3.1 **Price** type convert to int"
      ]
    },
    {
      "cell_type": "code",
      "execution_count": null,
      "metadata": {
        "id": "cr52ptH1g373"
      },
      "outputs": [],
      "source": [
        "df.loc[df[\"Price\"] == \"Պայմ.\", \"Price\"] = np.nan"
      ]
    },
    {
      "cell_type": "code",
      "execution_count": null,
      "metadata": {
        "id": "DchgSQlgvygI"
      },
      "outputs": [],
      "source": [
        "df['Price'] = df['Price'].where(df['Price'].str.startswith(\"$\"),np.nan)      "
      ]
    },
    {
      "cell_type": "code",
      "execution_count": null,
      "metadata": {
        "colab": {
          "base_uri": "https://localhost:8080/"
        },
        "id": "N_MLtC8IlE9w",
        "outputId": "f476f28a-2971-4450-ab75-5b421bdc7d01"
      },
      "outputs": [
        {
          "output_type": "execute_result",
          "data": {
            "text/plain": [
              "Price             261\n",
              "Year                0\n",
              "Make                0\n",
              "Model               0\n",
              "Mileage             0\n",
              "Body style          0\n",
              "Gearbox             0\n",
              "Hand drive          0\n",
              "Engine              0\n",
              "Color               0\n",
              "Custom cleared     40\n",
              "dtype: int64"
            ]
          },
          "metadata": {},
          "execution_count": 13
        }
      ],
      "source": [
        "df.isnull().sum()"
      ]
    },
    {
      "cell_type": "code",
      "execution_count": null,
      "metadata": {
        "id": "47cr3jWFhA0K"
      },
      "outputs": [],
      "source": [
        "df = df.dropna()"
      ]
    },
    {
      "cell_type": "code",
      "execution_count": null,
      "metadata": {
        "colab": {
          "base_uri": "https://localhost:8080/",
          "height": 206
        },
        "id": "EK_SR8qZrh4b",
        "outputId": "d705ca0e-bd78-4e22-fa2d-f5b58aec16d5"
      },
      "outputs": [
        {
          "output_type": "execute_result",
          "data": {
            "text/plain": [
              "      Price  Year        Make               Model      Mileage  Body style  \\\n",
              "0   $ 7 600  2021  Volkswagen                Polo    38000 կմ        Սեդան   \n",
              "1  $ 41 000  2020  Mitsubishi              Pajero       10 կմ    Ամենագնաց   \n",
              "2   $ 6 000  2005      Nissan               Tiida   156000 կմ        Սեդան   \n",
              "3   $ 6 400  2006      Toyota  Land Cruiser Prado   170000 կմ    Ամենագնաց   \n",
              "4  $ 13 000  2019     Hyundai                Kona  28393 մղոն    Ամենագնաց   \n",
              "\n",
              "        Gearbox Hand drive   Engine         Color   Custom cleared  \n",
              "0   Մեխանիկական        Ձախ   Բենզին        Սպիտակ   մաքսազերծված չ  \n",
              "1       Ավտոմատ        Ձախ   Բենզին        Սպիտակ     Մաքսազերծված  \n",
              "2       Ավտոմատ        Ձախ      Գազ     Այլ գույն     Մաքսազերծված  \n",
              "3       Ավտոմատ        Ձախ    Դիզել            Սև   մաքսազերծված չ  \n",
              "4       Ավտոմատ        Ձախ   Բենզին   Արծաթագույն   մաքսազերծված չ  "
            ],
            "text/html": [
              "\n",
              "  <div id=\"df-87a95b02-9f69-4d13-9c28-675ac0f139db\">\n",
              "    <div class=\"colab-df-container\">\n",
              "      <div>\n",
              "<style scoped>\n",
              "    .dataframe tbody tr th:only-of-type {\n",
              "        vertical-align: middle;\n",
              "    }\n",
              "\n",
              "    .dataframe tbody tr th {\n",
              "        vertical-align: top;\n",
              "    }\n",
              "\n",
              "    .dataframe thead th {\n",
              "        text-align: right;\n",
              "    }\n",
              "</style>\n",
              "<table border=\"1\" class=\"dataframe\">\n",
              "  <thead>\n",
              "    <tr style=\"text-align: right;\">\n",
              "      <th></th>\n",
              "      <th>Price</th>\n",
              "      <th>Year</th>\n",
              "      <th>Make</th>\n",
              "      <th>Model</th>\n",
              "      <th>Mileage</th>\n",
              "      <th>Body style</th>\n",
              "      <th>Gearbox</th>\n",
              "      <th>Hand drive</th>\n",
              "      <th>Engine</th>\n",
              "      <th>Color</th>\n",
              "      <th>Custom cleared</th>\n",
              "    </tr>\n",
              "  </thead>\n",
              "  <tbody>\n",
              "    <tr>\n",
              "      <th>0</th>\n",
              "      <td>$ 7 600</td>\n",
              "      <td>2021</td>\n",
              "      <td>Volkswagen</td>\n",
              "      <td>Polo</td>\n",
              "      <td>38000 կմ</td>\n",
              "      <td>Սեդան</td>\n",
              "      <td>Մեխանիկական</td>\n",
              "      <td>Ձախ</td>\n",
              "      <td>Բենզին</td>\n",
              "      <td>Սպիտակ</td>\n",
              "      <td>մաքսազերծված չ</td>\n",
              "    </tr>\n",
              "    <tr>\n",
              "      <th>1</th>\n",
              "      <td>$ 41 000</td>\n",
              "      <td>2020</td>\n",
              "      <td>Mitsubishi</td>\n",
              "      <td>Pajero</td>\n",
              "      <td>10 կմ</td>\n",
              "      <td>Ամենագնաց</td>\n",
              "      <td>Ավտոմատ</td>\n",
              "      <td>Ձախ</td>\n",
              "      <td>Բենզին</td>\n",
              "      <td>Սպիտակ</td>\n",
              "      <td>Մաքսազերծված</td>\n",
              "    </tr>\n",
              "    <tr>\n",
              "      <th>2</th>\n",
              "      <td>$ 6 000</td>\n",
              "      <td>2005</td>\n",
              "      <td>Nissan</td>\n",
              "      <td>Tiida</td>\n",
              "      <td>156000 կմ</td>\n",
              "      <td>Սեդան</td>\n",
              "      <td>Ավտոմատ</td>\n",
              "      <td>Ձախ</td>\n",
              "      <td>Գազ</td>\n",
              "      <td>Այլ գույն</td>\n",
              "      <td>Մաքսազերծված</td>\n",
              "    </tr>\n",
              "    <tr>\n",
              "      <th>3</th>\n",
              "      <td>$ 6 400</td>\n",
              "      <td>2006</td>\n",
              "      <td>Toyota</td>\n",
              "      <td>Land Cruiser Prado</td>\n",
              "      <td>170000 կմ</td>\n",
              "      <td>Ամենագնաց</td>\n",
              "      <td>Ավտոմատ</td>\n",
              "      <td>Ձախ</td>\n",
              "      <td>Դիզել</td>\n",
              "      <td>Սև</td>\n",
              "      <td>մաքսազերծված չ</td>\n",
              "    </tr>\n",
              "    <tr>\n",
              "      <th>4</th>\n",
              "      <td>$ 13 000</td>\n",
              "      <td>2019</td>\n",
              "      <td>Hyundai</td>\n",
              "      <td>Kona</td>\n",
              "      <td>28393 մղոն</td>\n",
              "      <td>Ամենագնաց</td>\n",
              "      <td>Ավտոմատ</td>\n",
              "      <td>Ձախ</td>\n",
              "      <td>Բենզին</td>\n",
              "      <td>Արծաթագույն</td>\n",
              "      <td>մաքսազերծված չ</td>\n",
              "    </tr>\n",
              "  </tbody>\n",
              "</table>\n",
              "</div>\n",
              "      <button class=\"colab-df-convert\" onclick=\"convertToInteractive('df-87a95b02-9f69-4d13-9c28-675ac0f139db')\"\n",
              "              title=\"Convert this dataframe to an interactive table.\"\n",
              "              style=\"display:none;\">\n",
              "        \n",
              "  <svg xmlns=\"http://www.w3.org/2000/svg\" height=\"24px\"viewBox=\"0 0 24 24\"\n",
              "       width=\"24px\">\n",
              "    <path d=\"M0 0h24v24H0V0z\" fill=\"none\"/>\n",
              "    <path d=\"M18.56 5.44l.94 2.06.94-2.06 2.06-.94-2.06-.94-.94-2.06-.94 2.06-2.06.94zm-11 1L8.5 8.5l.94-2.06 2.06-.94-2.06-.94L8.5 2.5l-.94 2.06-2.06.94zm10 10l.94 2.06.94-2.06 2.06-.94-2.06-.94-.94-2.06-.94 2.06-2.06.94z\"/><path d=\"M17.41 7.96l-1.37-1.37c-.4-.4-.92-.59-1.43-.59-.52 0-1.04.2-1.43.59L10.3 9.45l-7.72 7.72c-.78.78-.78 2.05 0 2.83L4 21.41c.39.39.9.59 1.41.59.51 0 1.02-.2 1.41-.59l7.78-7.78 2.81-2.81c.8-.78.8-2.07 0-2.86zM5.41 20L4 18.59l7.72-7.72 1.47 1.35L5.41 20z\"/>\n",
              "  </svg>\n",
              "      </button>\n",
              "      \n",
              "  <style>\n",
              "    .colab-df-container {\n",
              "      display:flex;\n",
              "      flex-wrap:wrap;\n",
              "      gap: 12px;\n",
              "    }\n",
              "\n",
              "    .colab-df-convert {\n",
              "      background-color: #E8F0FE;\n",
              "      border: none;\n",
              "      border-radius: 50%;\n",
              "      cursor: pointer;\n",
              "      display: none;\n",
              "      fill: #1967D2;\n",
              "      height: 32px;\n",
              "      padding: 0 0 0 0;\n",
              "      width: 32px;\n",
              "    }\n",
              "\n",
              "    .colab-df-convert:hover {\n",
              "      background-color: #E2EBFA;\n",
              "      box-shadow: 0px 1px 2px rgba(60, 64, 67, 0.3), 0px 1px 3px 1px rgba(60, 64, 67, 0.15);\n",
              "      fill: #174EA6;\n",
              "    }\n",
              "\n",
              "    [theme=dark] .colab-df-convert {\n",
              "      background-color: #3B4455;\n",
              "      fill: #D2E3FC;\n",
              "    }\n",
              "\n",
              "    [theme=dark] .colab-df-convert:hover {\n",
              "      background-color: #434B5C;\n",
              "      box-shadow: 0px 1px 3px 1px rgba(0, 0, 0, 0.15);\n",
              "      filter: drop-shadow(0px 1px 2px rgba(0, 0, 0, 0.3));\n",
              "      fill: #FFFFFF;\n",
              "    }\n",
              "  </style>\n",
              "\n",
              "      <script>\n",
              "        const buttonEl =\n",
              "          document.querySelector('#df-87a95b02-9f69-4d13-9c28-675ac0f139db button.colab-df-convert');\n",
              "        buttonEl.style.display =\n",
              "          google.colab.kernel.accessAllowed ? 'block' : 'none';\n",
              "\n",
              "        async function convertToInteractive(key) {\n",
              "          const element = document.querySelector('#df-87a95b02-9f69-4d13-9c28-675ac0f139db');\n",
              "          const dataTable =\n",
              "            await google.colab.kernel.invokeFunction('convertToInteractive',\n",
              "                                                     [key], {});\n",
              "          if (!dataTable) return;\n",
              "\n",
              "          const docLinkHtml = 'Like what you see? Visit the ' +\n",
              "            '<a target=\"_blank\" href=https://colab.research.google.com/notebooks/data_table.ipynb>data table notebook</a>'\n",
              "            + ' to learn more about interactive tables.';\n",
              "          element.innerHTML = '';\n",
              "          dataTable['output_type'] = 'display_data';\n",
              "          await google.colab.output.renderOutput(dataTable, element);\n",
              "          const docLink = document.createElement('div');\n",
              "          docLink.innerHTML = docLinkHtml;\n",
              "          element.appendChild(docLink);\n",
              "        }\n",
              "      </script>\n",
              "    </div>\n",
              "  </div>\n",
              "  "
            ]
          },
          "metadata": {},
          "execution_count": 15
        }
      ],
      "source": [
        "df.head()"
      ]
    },
    {
      "cell_type": "code",
      "execution_count": null,
      "metadata": {
        "id": "ERAoRXZWutma"
      },
      "outputs": [],
      "source": [
        "df[\"Price\"] = df[\"Price\"].str.replace('$','')"
      ]
    },
    {
      "cell_type": "code",
      "execution_count": null,
      "metadata": {
        "id": "-nfPzcgsvMGv"
      },
      "outputs": [],
      "source": [
        "df[\"Price\"] = df[\"Price\"].str.replace(' ','')"
      ]
    },
    {
      "cell_type": "code",
      "execution_count": null,
      "metadata": {
        "id": "zRv0-LIPsQcg"
      },
      "outputs": [],
      "source": [
        "df['Price'] = df['Price'].astype(int)"
      ]
    },
    {
      "cell_type": "code",
      "execution_count": null,
      "metadata": {
        "id": "rf_rBCHmLIi1",
        "colab": {
          "base_uri": "https://localhost:8080/"
        },
        "outputId": "8963416c-e2e6-48ea-a1f8-6d21aaa8dd14"
      },
      "outputs": [
        {
          "output_type": "execute_result",
          "data": {
            "text/plain": [
              "Price              int64\n",
              "Year               int64\n",
              "Make              object\n",
              "Model             object\n",
              "Mileage           object\n",
              "Body style        object\n",
              "Gearbox           object\n",
              "Hand drive        object\n",
              "Engine            object\n",
              "Color             object\n",
              "Custom cleared    object\n",
              "dtype: object"
            ]
          },
          "metadata": {},
          "execution_count": 19
        }
      ],
      "source": [
        "df.dtypes"
      ]
    },
    {
      "cell_type": "markdown",
      "metadata": {
        "id": "IEMxLnyOzeqq"
      },
      "source": [
        "## 3.2 **Mileage** type convert to int, and convert mile  to km"
      ]
    },
    {
      "cell_type": "code",
      "execution_count": null,
      "metadata": {
        "id": "eVMaWm2tzeUC"
      },
      "outputs": [],
      "source": [
        "# deleting tailing 'կմ' substring\n",
        "df[\"Mileage\"] = df[\"Mileage\"].str.replace('կմ','')"
      ]
    },
    {
      "cell_type": "code",
      "execution_count": null,
      "metadata": {
        "id": "aygHTCcZ1wbq"
      },
      "outputs": [],
      "source": [
        "#converts miles to km\n",
        "def miles_to_km(row):\n",
        "    \"\"\"deleting tailing 'մղոն' substring\n",
        "        and convert  mile  to km\"\"\"\n",
        "        \n",
        "    if \"մղոն\" in row[\"Mileage\"]:\n",
        "        distance = float(row[\"Mileage\"].split()[0])\n",
        "        return distance * 1.60934\n",
        "    else:\n",
        "        return row[\"Mileage\"]\n"
      ]
    },
    {
      "cell_type": "code",
      "execution_count": null,
      "metadata": {
        "id": "8v5qIQTM6_HR"
      },
      "outputs": [],
      "source": [
        "df[\"Mileage\"] = df.apply(miles_to_km, axis=1)"
      ]
    },
    {
      "cell_type": "code",
      "execution_count": null,
      "metadata": {
        "id": "3jChhEvC7B81"
      },
      "outputs": [],
      "source": [
        "df['Mileage'] = df['Mileage'].astype(float)"
      ]
    },
    {
      "cell_type": "code",
      "execution_count": null,
      "metadata": {
        "id": "luBhL1137J6D",
        "colab": {
          "base_uri": "https://localhost:8080/"
        },
        "outputId": "2a1bad9a-decb-4e02-e33a-a0f95ad61d53"
      },
      "outputs": [
        {
          "output_type": "execute_result",
          "data": {
            "text/plain": [
              "Price               int64\n",
              "Year                int64\n",
              "Make               object\n",
              "Model              object\n",
              "Mileage           float64\n",
              "Body style         object\n",
              "Gearbox            object\n",
              "Hand drive         object\n",
              "Engine             object\n",
              "Color              object\n",
              "Custom cleared     object\n",
              "dtype: object"
            ]
          },
          "metadata": {},
          "execution_count": 24
        }
      ],
      "source": [
        "df.dtypes"
      ]
    },
    {
      "cell_type": "markdown",
      "metadata": {
        "id": "8RUvB-R78maj"
      },
      "source": [
        "## 3.3 **Hand drive** type \"Ձախ\" convert to 1 and \"Աջ\" to 0"
      ]
    },
    {
      "cell_type": "code",
      "execution_count": null,
      "metadata": {
        "id": "3Vfk6JsBFAic",
        "colab": {
          "base_uri": "https://localhost:8080/"
        },
        "outputId": "43fd8152-5a24-44bf-ab46-eb2261d0dad3"
      },
      "outputs": [
        {
          "output_type": "stream",
          "name": "stderr",
          "text": [
            "<ipython-input-25-57090006c0a0>:2: SettingWithCopyWarning: \n",
            "A value is trying to be set on a copy of a slice from a DataFrame.\n",
            "Try using .loc[row_indexer,col_indexer] = value instead\n",
            "\n",
            "See the caveats in the documentation: https://pandas.pydata.org/pandas-docs/stable/user_guide/indexing.html#returning-a-view-versus-a-copy\n",
            "  df[\"Hand drive\"] = np.where(df[\"Hand drive\"] == \" Ձախ\", 1,\n"
          ]
        }
      ],
      "source": [
        "# change Hand drive type\n",
        "df[\"Hand drive\"] = np.where(df[\"Hand drive\"] == \" Ձախ\", 1,\n",
        "                                np.where(df[\"Hand drive\"] == \" Աջ\", 0, np.nan))"
      ]
    },
    {
      "cell_type": "code",
      "execution_count": null,
      "metadata": {
        "id": "l-mbmiC9qylK",
        "colab": {
          "base_uri": "https://localhost:8080/"
        },
        "outputId": "45b85e83-291b-4823-e92b-59ecd9ee7f23"
      },
      "outputs": [
        {
          "output_type": "execute_result",
          "data": {
            "text/plain": [
              "Price              0\n",
              "Year               0\n",
              "Make               0\n",
              "Model              0\n",
              "Mileage            0\n",
              "Body style         0\n",
              "Gearbox            0\n",
              "Hand drive        47\n",
              "Engine             0\n",
              "Color              0\n",
              "Custom cleared     0\n",
              "dtype: int64"
            ]
          },
          "metadata": {},
          "execution_count": 26
        }
      ],
      "source": [
        "df.isnull().sum()"
      ]
    },
    {
      "cell_type": "code",
      "execution_count": null,
      "metadata": {
        "id": "y89ZgPQyrPJk"
      },
      "outputs": [],
      "source": [
        "df = df.dropna()"
      ]
    },
    {
      "cell_type": "code",
      "execution_count": null,
      "metadata": {
        "colab": {
          "base_uri": "https://localhost:8080/"
        },
        "id": "r9LnhBycDqia",
        "outputId": "7b08211e-c685-4b91-d0ce-4234bcf3c070"
      },
      "outputs": [
        {
          "output_type": "execute_result",
          "data": {
            "text/plain": [
              "(9210, 11)"
            ]
          },
          "metadata": {},
          "execution_count": 28
        }
      ],
      "source": [
        "df.shape"
      ]
    },
    {
      "cell_type": "markdown",
      "metadata": {
        "id": "MVgOrkiZr_1g"
      },
      "source": [
        "## 3.4 **Gearbox** type \"մեխանիկական\" convert to 1 and \"ավտոմատ\" to 0"
      ]
    },
    {
      "cell_type": "code",
      "execution_count": null,
      "metadata": {
        "id": "Gm2Va5LtrlEK"
      },
      "outputs": [],
      "source": [
        "# change Gearbox type\n",
        "df[\"Gearbox\"] = np.where(df[\"Gearbox\"] == \" Մեխանիկական\", 1,\n",
        "                                np.where(df[\"Gearbox\"] == \" Ավտոմատ\", 0, np.nan))"
      ]
    },
    {
      "cell_type": "code",
      "execution_count": null,
      "metadata": {
        "id": "4q6pBG-WstZp",
        "colab": {
          "base_uri": "https://localhost:8080/"
        },
        "outputId": "c359a795-0f60-47cc-c925-eb5d225828f1"
      },
      "outputs": [
        {
          "output_type": "execute_result",
          "data": {
            "text/plain": [
              "Price              0\n",
              "Year               0\n",
              "Make               0\n",
              "Model              0\n",
              "Mileage            0\n",
              "Body style         0\n",
              "Gearbox           75\n",
              "Hand drive         0\n",
              "Engine             0\n",
              "Color              0\n",
              "Custom cleared     0\n",
              "dtype: int64"
            ]
          },
          "metadata": {},
          "execution_count": 30
        }
      ],
      "source": [
        "df.isnull().sum()"
      ]
    },
    {
      "cell_type": "code",
      "execution_count": null,
      "metadata": {
        "colab": {
          "base_uri": "https://localhost:8080/",
          "height": 206
        },
        "id": "mM-GaZrusz8G",
        "outputId": "043d2973-5d7c-4ab8-db5b-e7c653f3aa2b"
      },
      "outputs": [
        {
          "output_type": "execute_result",
          "data": {
            "text/plain": [
              "   Price  Year        Make               Model       Mileage  Body style  \\\n",
              "0   7600  2021  Volkswagen                Polo   38000.00000       Սեդան   \n",
              "1  41000  2020  Mitsubishi              Pajero      10.00000   Ամենագնաց   \n",
              "2   6000  2005      Nissan               Tiida  156000.00000       Սեդան   \n",
              "3   6400  2006      Toyota  Land Cruiser Prado  170000.00000   Ամենագնաց   \n",
              "4  13000  2019     Hyundai                Kona   45693.99062   Ամենագնաց   \n",
              "\n",
              "   Gearbox  Hand drive   Engine         Color   Custom cleared  \n",
              "0      1.0         1.0   Բենզին        Սպիտակ   մաքսազերծված չ  \n",
              "1      0.0         1.0   Բենզին        Սպիտակ     Մաքսազերծված  \n",
              "2      0.0         1.0      Գազ     Այլ գույն     Մաքսազերծված  \n",
              "3      0.0         1.0    Դիզել            Սև   մաքսազերծված չ  \n",
              "4      0.0         1.0   Բենզին   Արծաթագույն   մաքսազերծված չ  "
            ],
            "text/html": [
              "\n",
              "  <div id=\"df-7bba2803-d3f6-4b08-b463-0b0703673055\">\n",
              "    <div class=\"colab-df-container\">\n",
              "      <div>\n",
              "<style scoped>\n",
              "    .dataframe tbody tr th:only-of-type {\n",
              "        vertical-align: middle;\n",
              "    }\n",
              "\n",
              "    .dataframe tbody tr th {\n",
              "        vertical-align: top;\n",
              "    }\n",
              "\n",
              "    .dataframe thead th {\n",
              "        text-align: right;\n",
              "    }\n",
              "</style>\n",
              "<table border=\"1\" class=\"dataframe\">\n",
              "  <thead>\n",
              "    <tr style=\"text-align: right;\">\n",
              "      <th></th>\n",
              "      <th>Price</th>\n",
              "      <th>Year</th>\n",
              "      <th>Make</th>\n",
              "      <th>Model</th>\n",
              "      <th>Mileage</th>\n",
              "      <th>Body style</th>\n",
              "      <th>Gearbox</th>\n",
              "      <th>Hand drive</th>\n",
              "      <th>Engine</th>\n",
              "      <th>Color</th>\n",
              "      <th>Custom cleared</th>\n",
              "    </tr>\n",
              "  </thead>\n",
              "  <tbody>\n",
              "    <tr>\n",
              "      <th>0</th>\n",
              "      <td>7600</td>\n",
              "      <td>2021</td>\n",
              "      <td>Volkswagen</td>\n",
              "      <td>Polo</td>\n",
              "      <td>38000.00000</td>\n",
              "      <td>Սեդան</td>\n",
              "      <td>1.0</td>\n",
              "      <td>1.0</td>\n",
              "      <td>Բենզին</td>\n",
              "      <td>Սպիտակ</td>\n",
              "      <td>մաքսազերծված չ</td>\n",
              "    </tr>\n",
              "    <tr>\n",
              "      <th>1</th>\n",
              "      <td>41000</td>\n",
              "      <td>2020</td>\n",
              "      <td>Mitsubishi</td>\n",
              "      <td>Pajero</td>\n",
              "      <td>10.00000</td>\n",
              "      <td>Ամենագնաց</td>\n",
              "      <td>0.0</td>\n",
              "      <td>1.0</td>\n",
              "      <td>Բենզին</td>\n",
              "      <td>Սպիտակ</td>\n",
              "      <td>Մաքսազերծված</td>\n",
              "    </tr>\n",
              "    <tr>\n",
              "      <th>2</th>\n",
              "      <td>6000</td>\n",
              "      <td>2005</td>\n",
              "      <td>Nissan</td>\n",
              "      <td>Tiida</td>\n",
              "      <td>156000.00000</td>\n",
              "      <td>Սեդան</td>\n",
              "      <td>0.0</td>\n",
              "      <td>1.0</td>\n",
              "      <td>Գազ</td>\n",
              "      <td>Այլ գույն</td>\n",
              "      <td>Մաքսազերծված</td>\n",
              "    </tr>\n",
              "    <tr>\n",
              "      <th>3</th>\n",
              "      <td>6400</td>\n",
              "      <td>2006</td>\n",
              "      <td>Toyota</td>\n",
              "      <td>Land Cruiser Prado</td>\n",
              "      <td>170000.00000</td>\n",
              "      <td>Ամենագնաց</td>\n",
              "      <td>0.0</td>\n",
              "      <td>1.0</td>\n",
              "      <td>Դիզել</td>\n",
              "      <td>Սև</td>\n",
              "      <td>մաքսազերծված չ</td>\n",
              "    </tr>\n",
              "    <tr>\n",
              "      <th>4</th>\n",
              "      <td>13000</td>\n",
              "      <td>2019</td>\n",
              "      <td>Hyundai</td>\n",
              "      <td>Kona</td>\n",
              "      <td>45693.99062</td>\n",
              "      <td>Ամենագնաց</td>\n",
              "      <td>0.0</td>\n",
              "      <td>1.0</td>\n",
              "      <td>Բենզին</td>\n",
              "      <td>Արծաթագույն</td>\n",
              "      <td>մաքսազերծված չ</td>\n",
              "    </tr>\n",
              "  </tbody>\n",
              "</table>\n",
              "</div>\n",
              "      <button class=\"colab-df-convert\" onclick=\"convertToInteractive('df-7bba2803-d3f6-4b08-b463-0b0703673055')\"\n",
              "              title=\"Convert this dataframe to an interactive table.\"\n",
              "              style=\"display:none;\">\n",
              "        \n",
              "  <svg xmlns=\"http://www.w3.org/2000/svg\" height=\"24px\"viewBox=\"0 0 24 24\"\n",
              "       width=\"24px\">\n",
              "    <path d=\"M0 0h24v24H0V0z\" fill=\"none\"/>\n",
              "    <path d=\"M18.56 5.44l.94 2.06.94-2.06 2.06-.94-2.06-.94-.94-2.06-.94 2.06-2.06.94zm-11 1L8.5 8.5l.94-2.06 2.06-.94-2.06-.94L8.5 2.5l-.94 2.06-2.06.94zm10 10l.94 2.06.94-2.06 2.06-.94-2.06-.94-.94-2.06-.94 2.06-2.06.94z\"/><path d=\"M17.41 7.96l-1.37-1.37c-.4-.4-.92-.59-1.43-.59-.52 0-1.04.2-1.43.59L10.3 9.45l-7.72 7.72c-.78.78-.78 2.05 0 2.83L4 21.41c.39.39.9.59 1.41.59.51 0 1.02-.2 1.41-.59l7.78-7.78 2.81-2.81c.8-.78.8-2.07 0-2.86zM5.41 20L4 18.59l7.72-7.72 1.47 1.35L5.41 20z\"/>\n",
              "  </svg>\n",
              "      </button>\n",
              "      \n",
              "  <style>\n",
              "    .colab-df-container {\n",
              "      display:flex;\n",
              "      flex-wrap:wrap;\n",
              "      gap: 12px;\n",
              "    }\n",
              "\n",
              "    .colab-df-convert {\n",
              "      background-color: #E8F0FE;\n",
              "      border: none;\n",
              "      border-radius: 50%;\n",
              "      cursor: pointer;\n",
              "      display: none;\n",
              "      fill: #1967D2;\n",
              "      height: 32px;\n",
              "      padding: 0 0 0 0;\n",
              "      width: 32px;\n",
              "    }\n",
              "\n",
              "    .colab-df-convert:hover {\n",
              "      background-color: #E2EBFA;\n",
              "      box-shadow: 0px 1px 2px rgba(60, 64, 67, 0.3), 0px 1px 3px 1px rgba(60, 64, 67, 0.15);\n",
              "      fill: #174EA6;\n",
              "    }\n",
              "\n",
              "    [theme=dark] .colab-df-convert {\n",
              "      background-color: #3B4455;\n",
              "      fill: #D2E3FC;\n",
              "    }\n",
              "\n",
              "    [theme=dark] .colab-df-convert:hover {\n",
              "      background-color: #434B5C;\n",
              "      box-shadow: 0px 1px 3px 1px rgba(0, 0, 0, 0.15);\n",
              "      filter: drop-shadow(0px 1px 2px rgba(0, 0, 0, 0.3));\n",
              "      fill: #FFFFFF;\n",
              "    }\n",
              "  </style>\n",
              "\n",
              "      <script>\n",
              "        const buttonEl =\n",
              "          document.querySelector('#df-7bba2803-d3f6-4b08-b463-0b0703673055 button.colab-df-convert');\n",
              "        buttonEl.style.display =\n",
              "          google.colab.kernel.accessAllowed ? 'block' : 'none';\n",
              "\n",
              "        async function convertToInteractive(key) {\n",
              "          const element = document.querySelector('#df-7bba2803-d3f6-4b08-b463-0b0703673055');\n",
              "          const dataTable =\n",
              "            await google.colab.kernel.invokeFunction('convertToInteractive',\n",
              "                                                     [key], {});\n",
              "          if (!dataTable) return;\n",
              "\n",
              "          const docLinkHtml = 'Like what you see? Visit the ' +\n",
              "            '<a target=\"_blank\" href=https://colab.research.google.com/notebooks/data_table.ipynb>data table notebook</a>'\n",
              "            + ' to learn more about interactive tables.';\n",
              "          element.innerHTML = '';\n",
              "          dataTable['output_type'] = 'display_data';\n",
              "          await google.colab.output.renderOutput(dataTable, element);\n",
              "          const docLink = document.createElement('div');\n",
              "          docLink.innerHTML = docLinkHtml;\n",
              "          element.appendChild(docLink);\n",
              "        }\n",
              "      </script>\n",
              "    </div>\n",
              "  </div>\n",
              "  "
            ]
          },
          "metadata": {},
          "execution_count": 31
        }
      ],
      "source": [
        "df = df.dropna()\n",
        "df.head()"
      ]
    },
    {
      "cell_type": "markdown",
      "metadata": {
        "id": "b41xGfA7tUD-"
      },
      "source": [
        "## 3.5 **Custom Cleared** type \"մաքսազերծված է\" convert to 1 and \"մաքսազերծված չէ\" to 0"
      ]
    },
    {
      "cell_type": "code",
      "execution_count": null,
      "metadata": {
        "id": "R-9N7gN2tTGR"
      },
      "outputs": [],
      "source": [
        "# change Custom cleared type\n",
        "df[\"Custom cleared\"] = np.where(df[\"Custom cleared\"] == \" Մաքսազերծված\", 1,\n",
        "                                np.where(df[\"Custom cleared\"] == \" մաքսազերծված չ\", 0, np.nan))"
      ]
    },
    {
      "cell_type": "code",
      "execution_count": null,
      "metadata": {
        "id": "3uCZWGRQjrnt",
        "colab": {
          "base_uri": "https://localhost:8080/"
        },
        "outputId": "bf8328a8-4586-4aa1-f4c8-1a3b092d27dd"
      },
      "outputs": [
        {
          "output_type": "execute_result",
          "data": {
            "text/plain": [
              "Price             0\n",
              "Year              0\n",
              "Make              0\n",
              "Model             0\n",
              "Mileage           0\n",
              "Body style        0\n",
              "Gearbox           0\n",
              "Hand drive        0\n",
              "Engine            0\n",
              "Color             0\n",
              "Custom cleared    0\n",
              "dtype: int64"
            ]
          },
          "metadata": {},
          "execution_count": 33
        }
      ],
      "source": [
        "df.isnull().sum()"
      ]
    },
    {
      "cell_type": "code",
      "execution_count": null,
      "metadata": {
        "id": "NbDAsM7C3n-j"
      },
      "outputs": [],
      "source": [
        "df[\"Custom cleared\"] = df[\"Custom cleared\"].astype(int)\n",
        "df[\"Hand drive\"] = df[\"Hand drive\"].astype(int)\n",
        "df[\"Gearbox\"] = df[\"Gearbox\"].astype(int)"
      ]
    },
    {
      "cell_type": "code",
      "execution_count": null,
      "metadata": {
        "colab": {
          "base_uri": "https://localhost:8080/",
          "height": 206
        },
        "id": "PqF1LTfY3wLR",
        "outputId": "c1d44e53-2189-4f48-971c-fa2489f888d9"
      },
      "outputs": [
        {
          "output_type": "execute_result",
          "data": {
            "text/plain": [
              "   Price  Year        Make               Model       Mileage  Body style  \\\n",
              "0   7600  2021  Volkswagen                Polo   38000.00000       Սեդան   \n",
              "1  41000  2020  Mitsubishi              Pajero      10.00000   Ամենագնաց   \n",
              "2   6000  2005      Nissan               Tiida  156000.00000       Սեդան   \n",
              "3   6400  2006      Toyota  Land Cruiser Prado  170000.00000   Ամենագնաց   \n",
              "4  13000  2019     Hyundai                Kona   45693.99062   Ամենագնաց   \n",
              "\n",
              "   Gearbox  Hand drive   Engine         Color  Custom cleared  \n",
              "0        1           1   Բենզին        Սպիտակ               0  \n",
              "1        0           1   Բենզին        Սպիտակ               1  \n",
              "2        0           1      Գազ     Այլ գույն               1  \n",
              "3        0           1    Դիզել            Սև               0  \n",
              "4        0           1   Բենզին   Արծաթագույն               0  "
            ],
            "text/html": [
              "\n",
              "  <div id=\"df-d6da8121-a451-4a05-b929-44f887279b19\">\n",
              "    <div class=\"colab-df-container\">\n",
              "      <div>\n",
              "<style scoped>\n",
              "    .dataframe tbody tr th:only-of-type {\n",
              "        vertical-align: middle;\n",
              "    }\n",
              "\n",
              "    .dataframe tbody tr th {\n",
              "        vertical-align: top;\n",
              "    }\n",
              "\n",
              "    .dataframe thead th {\n",
              "        text-align: right;\n",
              "    }\n",
              "</style>\n",
              "<table border=\"1\" class=\"dataframe\">\n",
              "  <thead>\n",
              "    <tr style=\"text-align: right;\">\n",
              "      <th></th>\n",
              "      <th>Price</th>\n",
              "      <th>Year</th>\n",
              "      <th>Make</th>\n",
              "      <th>Model</th>\n",
              "      <th>Mileage</th>\n",
              "      <th>Body style</th>\n",
              "      <th>Gearbox</th>\n",
              "      <th>Hand drive</th>\n",
              "      <th>Engine</th>\n",
              "      <th>Color</th>\n",
              "      <th>Custom cleared</th>\n",
              "    </tr>\n",
              "  </thead>\n",
              "  <tbody>\n",
              "    <tr>\n",
              "      <th>0</th>\n",
              "      <td>7600</td>\n",
              "      <td>2021</td>\n",
              "      <td>Volkswagen</td>\n",
              "      <td>Polo</td>\n",
              "      <td>38000.00000</td>\n",
              "      <td>Սեդան</td>\n",
              "      <td>1</td>\n",
              "      <td>1</td>\n",
              "      <td>Բենզին</td>\n",
              "      <td>Սպիտակ</td>\n",
              "      <td>0</td>\n",
              "    </tr>\n",
              "    <tr>\n",
              "      <th>1</th>\n",
              "      <td>41000</td>\n",
              "      <td>2020</td>\n",
              "      <td>Mitsubishi</td>\n",
              "      <td>Pajero</td>\n",
              "      <td>10.00000</td>\n",
              "      <td>Ամենագնաց</td>\n",
              "      <td>0</td>\n",
              "      <td>1</td>\n",
              "      <td>Բենզին</td>\n",
              "      <td>Սպիտակ</td>\n",
              "      <td>1</td>\n",
              "    </tr>\n",
              "    <tr>\n",
              "      <th>2</th>\n",
              "      <td>6000</td>\n",
              "      <td>2005</td>\n",
              "      <td>Nissan</td>\n",
              "      <td>Tiida</td>\n",
              "      <td>156000.00000</td>\n",
              "      <td>Սեդան</td>\n",
              "      <td>0</td>\n",
              "      <td>1</td>\n",
              "      <td>Գազ</td>\n",
              "      <td>Այլ գույն</td>\n",
              "      <td>1</td>\n",
              "    </tr>\n",
              "    <tr>\n",
              "      <th>3</th>\n",
              "      <td>6400</td>\n",
              "      <td>2006</td>\n",
              "      <td>Toyota</td>\n",
              "      <td>Land Cruiser Prado</td>\n",
              "      <td>170000.00000</td>\n",
              "      <td>Ամենագնաց</td>\n",
              "      <td>0</td>\n",
              "      <td>1</td>\n",
              "      <td>Դիզել</td>\n",
              "      <td>Սև</td>\n",
              "      <td>0</td>\n",
              "    </tr>\n",
              "    <tr>\n",
              "      <th>4</th>\n",
              "      <td>13000</td>\n",
              "      <td>2019</td>\n",
              "      <td>Hyundai</td>\n",
              "      <td>Kona</td>\n",
              "      <td>45693.99062</td>\n",
              "      <td>Ամենագնաց</td>\n",
              "      <td>0</td>\n",
              "      <td>1</td>\n",
              "      <td>Բենզին</td>\n",
              "      <td>Արծաթագույն</td>\n",
              "      <td>0</td>\n",
              "    </tr>\n",
              "  </tbody>\n",
              "</table>\n",
              "</div>\n",
              "      <button class=\"colab-df-convert\" onclick=\"convertToInteractive('df-d6da8121-a451-4a05-b929-44f887279b19')\"\n",
              "              title=\"Convert this dataframe to an interactive table.\"\n",
              "              style=\"display:none;\">\n",
              "        \n",
              "  <svg xmlns=\"http://www.w3.org/2000/svg\" height=\"24px\"viewBox=\"0 0 24 24\"\n",
              "       width=\"24px\">\n",
              "    <path d=\"M0 0h24v24H0V0z\" fill=\"none\"/>\n",
              "    <path d=\"M18.56 5.44l.94 2.06.94-2.06 2.06-.94-2.06-.94-.94-2.06-.94 2.06-2.06.94zm-11 1L8.5 8.5l.94-2.06 2.06-.94-2.06-.94L8.5 2.5l-.94 2.06-2.06.94zm10 10l.94 2.06.94-2.06 2.06-.94-2.06-.94-.94-2.06-.94 2.06-2.06.94z\"/><path d=\"M17.41 7.96l-1.37-1.37c-.4-.4-.92-.59-1.43-.59-.52 0-1.04.2-1.43.59L10.3 9.45l-7.72 7.72c-.78.78-.78 2.05 0 2.83L4 21.41c.39.39.9.59 1.41.59.51 0 1.02-.2 1.41-.59l7.78-7.78 2.81-2.81c.8-.78.8-2.07 0-2.86zM5.41 20L4 18.59l7.72-7.72 1.47 1.35L5.41 20z\"/>\n",
              "  </svg>\n",
              "      </button>\n",
              "      \n",
              "  <style>\n",
              "    .colab-df-container {\n",
              "      display:flex;\n",
              "      flex-wrap:wrap;\n",
              "      gap: 12px;\n",
              "    }\n",
              "\n",
              "    .colab-df-convert {\n",
              "      background-color: #E8F0FE;\n",
              "      border: none;\n",
              "      border-radius: 50%;\n",
              "      cursor: pointer;\n",
              "      display: none;\n",
              "      fill: #1967D2;\n",
              "      height: 32px;\n",
              "      padding: 0 0 0 0;\n",
              "      width: 32px;\n",
              "    }\n",
              "\n",
              "    .colab-df-convert:hover {\n",
              "      background-color: #E2EBFA;\n",
              "      box-shadow: 0px 1px 2px rgba(60, 64, 67, 0.3), 0px 1px 3px 1px rgba(60, 64, 67, 0.15);\n",
              "      fill: #174EA6;\n",
              "    }\n",
              "\n",
              "    [theme=dark] .colab-df-convert {\n",
              "      background-color: #3B4455;\n",
              "      fill: #D2E3FC;\n",
              "    }\n",
              "\n",
              "    [theme=dark] .colab-df-convert:hover {\n",
              "      background-color: #434B5C;\n",
              "      box-shadow: 0px 1px 3px 1px rgba(0, 0, 0, 0.15);\n",
              "      filter: drop-shadow(0px 1px 2px rgba(0, 0, 0, 0.3));\n",
              "      fill: #FFFFFF;\n",
              "    }\n",
              "  </style>\n",
              "\n",
              "      <script>\n",
              "        const buttonEl =\n",
              "          document.querySelector('#df-d6da8121-a451-4a05-b929-44f887279b19 button.colab-df-convert');\n",
              "        buttonEl.style.display =\n",
              "          google.colab.kernel.accessAllowed ? 'block' : 'none';\n",
              "\n",
              "        async function convertToInteractive(key) {\n",
              "          const element = document.querySelector('#df-d6da8121-a451-4a05-b929-44f887279b19');\n",
              "          const dataTable =\n",
              "            await google.colab.kernel.invokeFunction('convertToInteractive',\n",
              "                                                     [key], {});\n",
              "          if (!dataTable) return;\n",
              "\n",
              "          const docLinkHtml = 'Like what you see? Visit the ' +\n",
              "            '<a target=\"_blank\" href=https://colab.research.google.com/notebooks/data_table.ipynb>data table notebook</a>'\n",
              "            + ' to learn more about interactive tables.';\n",
              "          element.innerHTML = '';\n",
              "          dataTable['output_type'] = 'display_data';\n",
              "          await google.colab.output.renderOutput(dataTable, element);\n",
              "          const docLink = document.createElement('div');\n",
              "          docLink.innerHTML = docLinkHtml;\n",
              "          element.appendChild(docLink);\n",
              "        }\n",
              "      </script>\n",
              "    </div>\n",
              "  </div>\n",
              "  "
            ]
          },
          "metadata": {},
          "execution_count": 37
        }
      ],
      "source": [
        "df.head()"
      ]
    },
    {
      "cell_type": "code",
      "execution_count": null,
      "metadata": {
        "colab": {
          "base_uri": "https://localhost:8080/"
        },
        "id": "pUUi6h5xvAtA",
        "outputId": "152321ac-89fc-4474-f5bb-083de492eb7c"
      },
      "outputs": [
        {
          "output_type": "execute_result",
          "data": {
            "text/plain": [
              "(9135, 11)"
            ]
          },
          "metadata": {},
          "execution_count": 38
        }
      ],
      "source": [
        "df.shape"
      ]
    },
    {
      "cell_type": "markdown",
      "metadata": {
        "id": "KGVBjGwZEpMO"
      },
      "source": [
        "## 3.6 Cleaning anomalies"
      ]
    },
    {
      "cell_type": "code",
      "execution_count": null,
      "metadata": {
        "colab": {
          "base_uri": "https://localhost:8080/"
        },
        "id": "5o6rDTelygy3",
        "outputId": "6942292e-7a4c-4a09-d645-3ffe9c90f613"
      },
      "outputs": [
        {
          "output_type": "execute_result",
          "data": {
            "text/plain": [
              "Price               int64\n",
              "Year                int64\n",
              "Make               object\n",
              "Model              object\n",
              "Mileage           float64\n",
              "Body style         object\n",
              "Gearbox             int64\n",
              "Hand drive          int64\n",
              "Engine             object\n",
              "Color              object\n",
              "Custom cleared      int64\n",
              "dtype: object"
            ]
          },
          "metadata": {},
          "execution_count": 39
        }
      ],
      "source": [
        "df.dtypes"
      ]
    },
    {
      "cell_type": "code",
      "execution_count": null,
      "metadata": {
        "id": "CMeC-UPiYWKP"
      },
      "outputs": [],
      "source": [
        "tesla_engine = (df['Make'] == \"Tesla\") & (df['Engine'] != \" Էլեկտրական\")\n",
        "df.loc[tesla_engine, \"Engine\"] = \" Էլեկտրական\""
      ]
    },
    {
      "cell_type": "code",
      "execution_count": null,
      "metadata": {
        "id": "sDehFTozoZj9",
        "colab": {
          "base_uri": "https://localhost:8080/"
        },
        "outputId": "930087fb-b349-423d-9144-fefeed39ca54"
      },
      "outputs": [
        {
          "output_type": "execute_result",
          "data": {
            "text/plain": [
              "Price             0\n",
              "Year              0\n",
              "Make              0\n",
              "Model             0\n",
              "Mileage           0\n",
              "Body style        0\n",
              "Gearbox           0\n",
              "Hand drive        0\n",
              "Engine            0\n",
              "Color             0\n",
              "Custom cleared    0\n",
              "dtype: int64"
            ]
          },
          "metadata": {},
          "execution_count": 41
        }
      ],
      "source": [
        "df.isnull().sum()"
      ]
    },
    {
      "cell_type": "code",
      "execution_count": null,
      "metadata": {
        "colab": {
          "base_uri": "https://localhost:8080/"
        },
        "id": "XKgJCvUpyk_r",
        "outputId": "8ce91207-e25f-418c-a6eb-0360fe21a899"
      },
      "outputs": [
        {
          "output_type": "execute_result",
          "data": {
            "text/plain": [
              "Price               int64\n",
              "Year                int64\n",
              "Make               object\n",
              "Model              object\n",
              "Mileage           float64\n",
              "Body style         object\n",
              "Gearbox             int64\n",
              "Hand drive          int64\n",
              "Engine             object\n",
              "Color              object\n",
              "Custom cleared      int64\n",
              "dtype: object"
            ]
          },
          "metadata": {},
          "execution_count": 42
        }
      ],
      "source": [
        "df.dtypes"
      ]
    },
    {
      "cell_type": "code",
      "execution_count": null,
      "metadata": {
        "colab": {
          "base_uri": "https://localhost:8080/"
        },
        "id": "Lsbof5EDEJPf",
        "outputId": "93aa1341-30e0-46c1-e71d-7fd551cbbbd9"
      },
      "outputs": [
        {
          "output_type": "execute_result",
          "data": {
            "text/plain": [
              "(9135, 11)"
            ]
          },
          "metadata": {},
          "execution_count": 43
        }
      ],
      "source": [
        "df.shape"
      ]
    },
    {
      "cell_type": "markdown",
      "metadata": {
        "id": "2gRFIpovEIUK"
      },
      "source": [
        "##3.7 The Dataset Summary Statistics"
      ]
    },
    {
      "cell_type": "code",
      "execution_count": null,
      "metadata": {
        "colab": {
          "base_uri": "https://localhost:8080/",
          "height": 300
        },
        "id": "zObOEZ3nEI1D",
        "outputId": "ed6d4cc6-6ca7-4a27-cc83-bbbce2f7cf8c"
      },
      "outputs": [
        {
          "output_type": "execute_result",
          "data": {
            "text/plain": [
              "               Price         Year        Mileage      Gearbox   Hand drive  \\\n",
              "count    9135.000000  9135.000000    9135.000000  9135.000000  9135.000000   \n",
              "mean    13454.088123  2017.494910   59383.957771     0.019485     0.996606   \n",
              "std     16943.925765     3.985598   63567.330001     0.138231     0.058158   \n",
              "min      1000.000000  1953.000000      10.000000     0.000000     0.000000   \n",
              "25%      5200.000000  2017.000000   18396.000000     0.000000     1.000000   \n",
              "50%      9000.000000  2018.000000   24588.000000     0.000000     1.000000   \n",
              "75%     15500.000000  2020.000000   85000.000000     0.000000     1.000000   \n",
              "max    350000.000000  2023.000000  852950.200000     1.000000     1.000000   \n",
              "\n",
              "       Custom cleared  \n",
              "count     9135.000000  \n",
              "mean         0.194198  \n",
              "std          0.395604  \n",
              "min          0.000000  \n",
              "25%          0.000000  \n",
              "50%          0.000000  \n",
              "75%          0.000000  \n",
              "max          1.000000  "
            ],
            "text/html": [
              "\n",
              "  <div id=\"df-ade6e3df-3e8e-4d78-aae9-8d65867fe15f\">\n",
              "    <div class=\"colab-df-container\">\n",
              "      <div>\n",
              "<style scoped>\n",
              "    .dataframe tbody tr th:only-of-type {\n",
              "        vertical-align: middle;\n",
              "    }\n",
              "\n",
              "    .dataframe tbody tr th {\n",
              "        vertical-align: top;\n",
              "    }\n",
              "\n",
              "    .dataframe thead th {\n",
              "        text-align: right;\n",
              "    }\n",
              "</style>\n",
              "<table border=\"1\" class=\"dataframe\">\n",
              "  <thead>\n",
              "    <tr style=\"text-align: right;\">\n",
              "      <th></th>\n",
              "      <th>Price</th>\n",
              "      <th>Year</th>\n",
              "      <th>Mileage</th>\n",
              "      <th>Gearbox</th>\n",
              "      <th>Hand drive</th>\n",
              "      <th>Custom cleared</th>\n",
              "    </tr>\n",
              "  </thead>\n",
              "  <tbody>\n",
              "    <tr>\n",
              "      <th>count</th>\n",
              "      <td>9135.000000</td>\n",
              "      <td>9135.000000</td>\n",
              "      <td>9135.000000</td>\n",
              "      <td>9135.000000</td>\n",
              "      <td>9135.000000</td>\n",
              "      <td>9135.000000</td>\n",
              "    </tr>\n",
              "    <tr>\n",
              "      <th>mean</th>\n",
              "      <td>13454.088123</td>\n",
              "      <td>2017.494910</td>\n",
              "      <td>59383.957771</td>\n",
              "      <td>0.019485</td>\n",
              "      <td>0.996606</td>\n",
              "      <td>0.194198</td>\n",
              "    </tr>\n",
              "    <tr>\n",
              "      <th>std</th>\n",
              "      <td>16943.925765</td>\n",
              "      <td>3.985598</td>\n",
              "      <td>63567.330001</td>\n",
              "      <td>0.138231</td>\n",
              "      <td>0.058158</td>\n",
              "      <td>0.395604</td>\n",
              "    </tr>\n",
              "    <tr>\n",
              "      <th>min</th>\n",
              "      <td>1000.000000</td>\n",
              "      <td>1953.000000</td>\n",
              "      <td>10.000000</td>\n",
              "      <td>0.000000</td>\n",
              "      <td>0.000000</td>\n",
              "      <td>0.000000</td>\n",
              "    </tr>\n",
              "    <tr>\n",
              "      <th>25%</th>\n",
              "      <td>5200.000000</td>\n",
              "      <td>2017.000000</td>\n",
              "      <td>18396.000000</td>\n",
              "      <td>0.000000</td>\n",
              "      <td>1.000000</td>\n",
              "      <td>0.000000</td>\n",
              "    </tr>\n",
              "    <tr>\n",
              "      <th>50%</th>\n",
              "      <td>9000.000000</td>\n",
              "      <td>2018.000000</td>\n",
              "      <td>24588.000000</td>\n",
              "      <td>0.000000</td>\n",
              "      <td>1.000000</td>\n",
              "      <td>0.000000</td>\n",
              "    </tr>\n",
              "    <tr>\n",
              "      <th>75%</th>\n",
              "      <td>15500.000000</td>\n",
              "      <td>2020.000000</td>\n",
              "      <td>85000.000000</td>\n",
              "      <td>0.000000</td>\n",
              "      <td>1.000000</td>\n",
              "      <td>0.000000</td>\n",
              "    </tr>\n",
              "    <tr>\n",
              "      <th>max</th>\n",
              "      <td>350000.000000</td>\n",
              "      <td>2023.000000</td>\n",
              "      <td>852950.200000</td>\n",
              "      <td>1.000000</td>\n",
              "      <td>1.000000</td>\n",
              "      <td>1.000000</td>\n",
              "    </tr>\n",
              "  </tbody>\n",
              "</table>\n",
              "</div>\n",
              "      <button class=\"colab-df-convert\" onclick=\"convertToInteractive('df-ade6e3df-3e8e-4d78-aae9-8d65867fe15f')\"\n",
              "              title=\"Convert this dataframe to an interactive table.\"\n",
              "              style=\"display:none;\">\n",
              "        \n",
              "  <svg xmlns=\"http://www.w3.org/2000/svg\" height=\"24px\"viewBox=\"0 0 24 24\"\n",
              "       width=\"24px\">\n",
              "    <path d=\"M0 0h24v24H0V0z\" fill=\"none\"/>\n",
              "    <path d=\"M18.56 5.44l.94 2.06.94-2.06 2.06-.94-2.06-.94-.94-2.06-.94 2.06-2.06.94zm-11 1L8.5 8.5l.94-2.06 2.06-.94-2.06-.94L8.5 2.5l-.94 2.06-2.06.94zm10 10l.94 2.06.94-2.06 2.06-.94-2.06-.94-.94-2.06-.94 2.06-2.06.94z\"/><path d=\"M17.41 7.96l-1.37-1.37c-.4-.4-.92-.59-1.43-.59-.52 0-1.04.2-1.43.59L10.3 9.45l-7.72 7.72c-.78.78-.78 2.05 0 2.83L4 21.41c.39.39.9.59 1.41.59.51 0 1.02-.2 1.41-.59l7.78-7.78 2.81-2.81c.8-.78.8-2.07 0-2.86zM5.41 20L4 18.59l7.72-7.72 1.47 1.35L5.41 20z\"/>\n",
              "  </svg>\n",
              "      </button>\n",
              "      \n",
              "  <style>\n",
              "    .colab-df-container {\n",
              "      display:flex;\n",
              "      flex-wrap:wrap;\n",
              "      gap: 12px;\n",
              "    }\n",
              "\n",
              "    .colab-df-convert {\n",
              "      background-color: #E8F0FE;\n",
              "      border: none;\n",
              "      border-radius: 50%;\n",
              "      cursor: pointer;\n",
              "      display: none;\n",
              "      fill: #1967D2;\n",
              "      height: 32px;\n",
              "      padding: 0 0 0 0;\n",
              "      width: 32px;\n",
              "    }\n",
              "\n",
              "    .colab-df-convert:hover {\n",
              "      background-color: #E2EBFA;\n",
              "      box-shadow: 0px 1px 2px rgba(60, 64, 67, 0.3), 0px 1px 3px 1px rgba(60, 64, 67, 0.15);\n",
              "      fill: #174EA6;\n",
              "    }\n",
              "\n",
              "    [theme=dark] .colab-df-convert {\n",
              "      background-color: #3B4455;\n",
              "      fill: #D2E3FC;\n",
              "    }\n",
              "\n",
              "    [theme=dark] .colab-df-convert:hover {\n",
              "      background-color: #434B5C;\n",
              "      box-shadow: 0px 1px 3px 1px rgba(0, 0, 0, 0.15);\n",
              "      filter: drop-shadow(0px 1px 2px rgba(0, 0, 0, 0.3));\n",
              "      fill: #FFFFFF;\n",
              "    }\n",
              "  </style>\n",
              "\n",
              "      <script>\n",
              "        const buttonEl =\n",
              "          document.querySelector('#df-ade6e3df-3e8e-4d78-aae9-8d65867fe15f button.colab-df-convert');\n",
              "        buttonEl.style.display =\n",
              "          google.colab.kernel.accessAllowed ? 'block' : 'none';\n",
              "\n",
              "        async function convertToInteractive(key) {\n",
              "          const element = document.querySelector('#df-ade6e3df-3e8e-4d78-aae9-8d65867fe15f');\n",
              "          const dataTable =\n",
              "            await google.colab.kernel.invokeFunction('convertToInteractive',\n",
              "                                                     [key], {});\n",
              "          if (!dataTable) return;\n",
              "\n",
              "          const docLinkHtml = 'Like what you see? Visit the ' +\n",
              "            '<a target=\"_blank\" href=https://colab.research.google.com/notebooks/data_table.ipynb>data table notebook</a>'\n",
              "            + ' to learn more about interactive tables.';\n",
              "          element.innerHTML = '';\n",
              "          dataTable['output_type'] = 'display_data';\n",
              "          await google.colab.output.renderOutput(dataTable, element);\n",
              "          const docLink = document.createElement('div');\n",
              "          docLink.innerHTML = docLinkHtml;\n",
              "          element.appendChild(docLink);\n",
              "        }\n",
              "      </script>\n",
              "    </div>\n",
              "  </div>\n",
              "  "
            ]
          },
          "metadata": {},
          "execution_count": 44
        }
      ],
      "source": [
        "df.describe()\n"
      ]
    },
    {
      "cell_type": "markdown",
      "metadata": {
        "id": "DnH8KBdKu1es"
      },
      "source": [
        "#4) Data analysis and visualization"
      ]
    },
    {
      "cell_type": "markdown",
      "metadata": {
        "id": "_V6hRLhn5Fpl"
      },
      "source": [
        "## 4.1 Count of **Make** in descending order "
      ]
    },
    {
      "cell_type": "code",
      "execution_count": null,
      "metadata": {
        "id": "mgS7wDVa0488",
        "colab": {
          "base_uri": "https://localhost:8080/",
          "height": 1000
        },
        "outputId": "3bba8aaf-9074-4f9f-d857-4d59f5ba5b30"
      },
      "outputs": [
        {
          "output_type": "execute_result",
          "data": {
            "text/plain": [
              "             Make  count\n",
              "46         Toyota   1224\n",
              "33         Nissan    960\n",
              "19        Hyundai    841\n",
              "23            Kia    754\n",
              "13           Ford    657\n",
              "4             BMW    654\n",
              "30  Mercedes-Benz    649\n",
              "17          Honda    472\n",
              "29          Mazda    467\n",
              "9       Chevrolet    384\n",
              "25          Lexus    326\n",
              "49     Volkswagen    294\n",
              "22           Jeep    258\n",
              "45          Tesla    177\n",
              "3            Audi    143\n",
              "20       Infiniti    115\n",
              "43         Subaru    109\n",
              "24           Land     94\n",
              "0           Acura     76\n",
              "32     Mitsubishi     67\n",
              "11          Dodge     60\n",
              "37        Porsche     59\n",
              "34           Opel     45\n",
              "48            VAZ     34\n",
              "31           Mini     30\n",
              "8        Cadillac     28\n",
              "10       Chrysler     27\n",
              "50          Volvo     26\n",
              "16            GMC     14\n",
              "21         Jaguar     14\n",
              "26        Lincoln     11\n",
              "6         Bentley      9\n",
              "38            Ram      7\n",
              "1            Alfa      6\n",
              "15            GAZ      6\n",
              "40          Rolls      5\n",
              "12           Fiat      4\n",
              "47            UAZ      4\n",
              "27       Maserati      3\n",
              "7           Buick      3\n",
              "2           Aston      3\n",
              "5             BYD      3\n",
              "44         Suzuki      2\n",
              "18         Hummer      2\n",
              "39        Renault      2\n",
              "35        Peugeot      2\n",
              "42          Smart      1\n",
              "41          Scion      1\n",
              "36       Polestar      1\n",
              "28        Maybach      1\n",
              "14          Foton      1"
            ],
            "text/html": [
              "\n",
              "  <div id=\"df-805f8b7d-4db0-4855-b3db-323ec109df1c\">\n",
              "    <div class=\"colab-df-container\">\n",
              "      <div>\n",
              "<style scoped>\n",
              "    .dataframe tbody tr th:only-of-type {\n",
              "        vertical-align: middle;\n",
              "    }\n",
              "\n",
              "    .dataframe tbody tr th {\n",
              "        vertical-align: top;\n",
              "    }\n",
              "\n",
              "    .dataframe thead th {\n",
              "        text-align: right;\n",
              "    }\n",
              "</style>\n",
              "<table border=\"1\" class=\"dataframe\">\n",
              "  <thead>\n",
              "    <tr style=\"text-align: right;\">\n",
              "      <th></th>\n",
              "      <th>Make</th>\n",
              "      <th>count</th>\n",
              "    </tr>\n",
              "  </thead>\n",
              "  <tbody>\n",
              "    <tr>\n",
              "      <th>46</th>\n",
              "      <td>Toyota</td>\n",
              "      <td>1224</td>\n",
              "    </tr>\n",
              "    <tr>\n",
              "      <th>33</th>\n",
              "      <td>Nissan</td>\n",
              "      <td>960</td>\n",
              "    </tr>\n",
              "    <tr>\n",
              "      <th>19</th>\n",
              "      <td>Hyundai</td>\n",
              "      <td>841</td>\n",
              "    </tr>\n",
              "    <tr>\n",
              "      <th>23</th>\n",
              "      <td>Kia</td>\n",
              "      <td>754</td>\n",
              "    </tr>\n",
              "    <tr>\n",
              "      <th>13</th>\n",
              "      <td>Ford</td>\n",
              "      <td>657</td>\n",
              "    </tr>\n",
              "    <tr>\n",
              "      <th>4</th>\n",
              "      <td>BMW</td>\n",
              "      <td>654</td>\n",
              "    </tr>\n",
              "    <tr>\n",
              "      <th>30</th>\n",
              "      <td>Mercedes-Benz</td>\n",
              "      <td>649</td>\n",
              "    </tr>\n",
              "    <tr>\n",
              "      <th>17</th>\n",
              "      <td>Honda</td>\n",
              "      <td>472</td>\n",
              "    </tr>\n",
              "    <tr>\n",
              "      <th>29</th>\n",
              "      <td>Mazda</td>\n",
              "      <td>467</td>\n",
              "    </tr>\n",
              "    <tr>\n",
              "      <th>9</th>\n",
              "      <td>Chevrolet</td>\n",
              "      <td>384</td>\n",
              "    </tr>\n",
              "    <tr>\n",
              "      <th>25</th>\n",
              "      <td>Lexus</td>\n",
              "      <td>326</td>\n",
              "    </tr>\n",
              "    <tr>\n",
              "      <th>49</th>\n",
              "      <td>Volkswagen</td>\n",
              "      <td>294</td>\n",
              "    </tr>\n",
              "    <tr>\n",
              "      <th>22</th>\n",
              "      <td>Jeep</td>\n",
              "      <td>258</td>\n",
              "    </tr>\n",
              "    <tr>\n",
              "      <th>45</th>\n",
              "      <td>Tesla</td>\n",
              "      <td>177</td>\n",
              "    </tr>\n",
              "    <tr>\n",
              "      <th>3</th>\n",
              "      <td>Audi</td>\n",
              "      <td>143</td>\n",
              "    </tr>\n",
              "    <tr>\n",
              "      <th>20</th>\n",
              "      <td>Infiniti</td>\n",
              "      <td>115</td>\n",
              "    </tr>\n",
              "    <tr>\n",
              "      <th>43</th>\n",
              "      <td>Subaru</td>\n",
              "      <td>109</td>\n",
              "    </tr>\n",
              "    <tr>\n",
              "      <th>24</th>\n",
              "      <td>Land</td>\n",
              "      <td>94</td>\n",
              "    </tr>\n",
              "    <tr>\n",
              "      <th>0</th>\n",
              "      <td>Acura</td>\n",
              "      <td>76</td>\n",
              "    </tr>\n",
              "    <tr>\n",
              "      <th>32</th>\n",
              "      <td>Mitsubishi</td>\n",
              "      <td>67</td>\n",
              "    </tr>\n",
              "    <tr>\n",
              "      <th>11</th>\n",
              "      <td>Dodge</td>\n",
              "      <td>60</td>\n",
              "    </tr>\n",
              "    <tr>\n",
              "      <th>37</th>\n",
              "      <td>Porsche</td>\n",
              "      <td>59</td>\n",
              "    </tr>\n",
              "    <tr>\n",
              "      <th>34</th>\n",
              "      <td>Opel</td>\n",
              "      <td>45</td>\n",
              "    </tr>\n",
              "    <tr>\n",
              "      <th>48</th>\n",
              "      <td>VAZ</td>\n",
              "      <td>34</td>\n",
              "    </tr>\n",
              "    <tr>\n",
              "      <th>31</th>\n",
              "      <td>Mini</td>\n",
              "      <td>30</td>\n",
              "    </tr>\n",
              "    <tr>\n",
              "      <th>8</th>\n",
              "      <td>Cadillac</td>\n",
              "      <td>28</td>\n",
              "    </tr>\n",
              "    <tr>\n",
              "      <th>10</th>\n",
              "      <td>Chrysler</td>\n",
              "      <td>27</td>\n",
              "    </tr>\n",
              "    <tr>\n",
              "      <th>50</th>\n",
              "      <td>Volvo</td>\n",
              "      <td>26</td>\n",
              "    </tr>\n",
              "    <tr>\n",
              "      <th>16</th>\n",
              "      <td>GMC</td>\n",
              "      <td>14</td>\n",
              "    </tr>\n",
              "    <tr>\n",
              "      <th>21</th>\n",
              "      <td>Jaguar</td>\n",
              "      <td>14</td>\n",
              "    </tr>\n",
              "    <tr>\n",
              "      <th>26</th>\n",
              "      <td>Lincoln</td>\n",
              "      <td>11</td>\n",
              "    </tr>\n",
              "    <tr>\n",
              "      <th>6</th>\n",
              "      <td>Bentley</td>\n",
              "      <td>9</td>\n",
              "    </tr>\n",
              "    <tr>\n",
              "      <th>38</th>\n",
              "      <td>Ram</td>\n",
              "      <td>7</td>\n",
              "    </tr>\n",
              "    <tr>\n",
              "      <th>1</th>\n",
              "      <td>Alfa</td>\n",
              "      <td>6</td>\n",
              "    </tr>\n",
              "    <tr>\n",
              "      <th>15</th>\n",
              "      <td>GAZ</td>\n",
              "      <td>6</td>\n",
              "    </tr>\n",
              "    <tr>\n",
              "      <th>40</th>\n",
              "      <td>Rolls</td>\n",
              "      <td>5</td>\n",
              "    </tr>\n",
              "    <tr>\n",
              "      <th>12</th>\n",
              "      <td>Fiat</td>\n",
              "      <td>4</td>\n",
              "    </tr>\n",
              "    <tr>\n",
              "      <th>47</th>\n",
              "      <td>UAZ</td>\n",
              "      <td>4</td>\n",
              "    </tr>\n",
              "    <tr>\n",
              "      <th>27</th>\n",
              "      <td>Maserati</td>\n",
              "      <td>3</td>\n",
              "    </tr>\n",
              "    <tr>\n",
              "      <th>7</th>\n",
              "      <td>Buick</td>\n",
              "      <td>3</td>\n",
              "    </tr>\n",
              "    <tr>\n",
              "      <th>2</th>\n",
              "      <td>Aston</td>\n",
              "      <td>3</td>\n",
              "    </tr>\n",
              "    <tr>\n",
              "      <th>5</th>\n",
              "      <td>BYD</td>\n",
              "      <td>3</td>\n",
              "    </tr>\n",
              "    <tr>\n",
              "      <th>44</th>\n",
              "      <td>Suzuki</td>\n",
              "      <td>2</td>\n",
              "    </tr>\n",
              "    <tr>\n",
              "      <th>18</th>\n",
              "      <td>Hummer</td>\n",
              "      <td>2</td>\n",
              "    </tr>\n",
              "    <tr>\n",
              "      <th>39</th>\n",
              "      <td>Renault</td>\n",
              "      <td>2</td>\n",
              "    </tr>\n",
              "    <tr>\n",
              "      <th>35</th>\n",
              "      <td>Peugeot</td>\n",
              "      <td>2</td>\n",
              "    </tr>\n",
              "    <tr>\n",
              "      <th>42</th>\n",
              "      <td>Smart</td>\n",
              "      <td>1</td>\n",
              "    </tr>\n",
              "    <tr>\n",
              "      <th>41</th>\n",
              "      <td>Scion</td>\n",
              "      <td>1</td>\n",
              "    </tr>\n",
              "    <tr>\n",
              "      <th>36</th>\n",
              "      <td>Polestar</td>\n",
              "      <td>1</td>\n",
              "    </tr>\n",
              "    <tr>\n",
              "      <th>28</th>\n",
              "      <td>Maybach</td>\n",
              "      <td>1</td>\n",
              "    </tr>\n",
              "    <tr>\n",
              "      <th>14</th>\n",
              "      <td>Foton</td>\n",
              "      <td>1</td>\n",
              "    </tr>\n",
              "  </tbody>\n",
              "</table>\n",
              "</div>\n",
              "      <button class=\"colab-df-convert\" onclick=\"convertToInteractive('df-805f8b7d-4db0-4855-b3db-323ec109df1c')\"\n",
              "              title=\"Convert this dataframe to an interactive table.\"\n",
              "              style=\"display:none;\">\n",
              "        \n",
              "  <svg xmlns=\"http://www.w3.org/2000/svg\" height=\"24px\"viewBox=\"0 0 24 24\"\n",
              "       width=\"24px\">\n",
              "    <path d=\"M0 0h24v24H0V0z\" fill=\"none\"/>\n",
              "    <path d=\"M18.56 5.44l.94 2.06.94-2.06 2.06-.94-2.06-.94-.94-2.06-.94 2.06-2.06.94zm-11 1L8.5 8.5l.94-2.06 2.06-.94-2.06-.94L8.5 2.5l-.94 2.06-2.06.94zm10 10l.94 2.06.94-2.06 2.06-.94-2.06-.94-.94-2.06-.94 2.06-2.06.94z\"/><path d=\"M17.41 7.96l-1.37-1.37c-.4-.4-.92-.59-1.43-.59-.52 0-1.04.2-1.43.59L10.3 9.45l-7.72 7.72c-.78.78-.78 2.05 0 2.83L4 21.41c.39.39.9.59 1.41.59.51 0 1.02-.2 1.41-.59l7.78-7.78 2.81-2.81c.8-.78.8-2.07 0-2.86zM5.41 20L4 18.59l7.72-7.72 1.47 1.35L5.41 20z\"/>\n",
              "  </svg>\n",
              "      </button>\n",
              "      \n",
              "  <style>\n",
              "    .colab-df-container {\n",
              "      display:flex;\n",
              "      flex-wrap:wrap;\n",
              "      gap: 12px;\n",
              "    }\n",
              "\n",
              "    .colab-df-convert {\n",
              "      background-color: #E8F0FE;\n",
              "      border: none;\n",
              "      border-radius: 50%;\n",
              "      cursor: pointer;\n",
              "      display: none;\n",
              "      fill: #1967D2;\n",
              "      height: 32px;\n",
              "      padding: 0 0 0 0;\n",
              "      width: 32px;\n",
              "    }\n",
              "\n",
              "    .colab-df-convert:hover {\n",
              "      background-color: #E2EBFA;\n",
              "      box-shadow: 0px 1px 2px rgba(60, 64, 67, 0.3), 0px 1px 3px 1px rgba(60, 64, 67, 0.15);\n",
              "      fill: #174EA6;\n",
              "    }\n",
              "\n",
              "    [theme=dark] .colab-df-convert {\n",
              "      background-color: #3B4455;\n",
              "      fill: #D2E3FC;\n",
              "    }\n",
              "\n",
              "    [theme=dark] .colab-df-convert:hover {\n",
              "      background-color: #434B5C;\n",
              "      box-shadow: 0px 1px 3px 1px rgba(0, 0, 0, 0.15);\n",
              "      filter: drop-shadow(0px 1px 2px rgba(0, 0, 0, 0.3));\n",
              "      fill: #FFFFFF;\n",
              "    }\n",
              "  </style>\n",
              "\n",
              "      <script>\n",
              "        const buttonEl =\n",
              "          document.querySelector('#df-805f8b7d-4db0-4855-b3db-323ec109df1c button.colab-df-convert');\n",
              "        buttonEl.style.display =\n",
              "          google.colab.kernel.accessAllowed ? 'block' : 'none';\n",
              "\n",
              "        async function convertToInteractive(key) {\n",
              "          const element = document.querySelector('#df-805f8b7d-4db0-4855-b3db-323ec109df1c');\n",
              "          const dataTable =\n",
              "            await google.colab.kernel.invokeFunction('convertToInteractive',\n",
              "                                                     [key], {});\n",
              "          if (!dataTable) return;\n",
              "\n",
              "          const docLinkHtml = 'Like what you see? Visit the ' +\n",
              "            '<a target=\"_blank\" href=https://colab.research.google.com/notebooks/data_table.ipynb>data table notebook</a>'\n",
              "            + ' to learn more about interactive tables.';\n",
              "          element.innerHTML = '';\n",
              "          dataTable['output_type'] = 'display_data';\n",
              "          await google.colab.output.renderOutput(dataTable, element);\n",
              "          const docLink = document.createElement('div');\n",
              "          docLink.innerHTML = docLinkHtml;\n",
              "          element.appendChild(docLink);\n",
              "        }\n",
              "      </script>\n",
              "    </div>\n",
              "  </div>\n",
              "  "
            ]
          },
          "metadata": {},
          "execution_count": 45
        }
      ],
      "source": [
        "# Group the data by \"make\" and get the count\n",
        "grouped_df = df.groupby(\"Make\").size().reset_index(name='count')\n",
        "\n",
        "# Create a new DataFrame with the \"make\" and \"count\" columns\n",
        "new_df = grouped_df[[\"Make\", \"count\"]]\n",
        "new_df = new_df.sort_values('count', ascending=False)\n",
        "new_df"
      ]
    },
    {
      "cell_type": "code",
      "execution_count": null,
      "metadata": {
        "id": "DWfL0h2mfE3Y",
        "colab": {
          "base_uri": "https://localhost:8080/"
        },
        "outputId": "5cfb06e6-7b6c-4d2d-88a0-ff0455e57a4a"
      },
      "outputs": [
        {
          "output_type": "execute_result",
          "data": {
            "text/plain": [
              "46    13.512917\n",
              "33    10.598366\n",
              "19     9.284610\n",
              "23     8.324133\n",
              "13     7.253257\n",
              "4      7.220137\n",
              "30     7.164937\n",
              "17     5.210863\n",
              "29     5.155664\n",
              "9      4.239346\n",
              "Name: count, dtype: float64"
            ]
          },
          "metadata": {},
          "execution_count": 46
        }
      ],
      "source": [
        "ndf = new_df.head(10)\n",
        "s = pd.Series(ndf['count'])\n",
        "s = s.mul(100) / 9058\n",
        "s"
      ]
    },
    {
      "cell_type": "code",
      "execution_count": null,
      "metadata": {
        "colab": {
          "base_uri": "https://localhost:8080/",
          "height": 873
        },
        "id": "ZEtBwVQqm_fi",
        "outputId": "226b38a5-b3f1-43e1-8c69-5c48b2585914"
      },
      "outputs": [
        {
          "output_type": "display_data",
          "data": {
            "text/plain": [
              "<Figure size 1440x864 with 1 Axes>"
            ],
            "image/png": "[encoded data removed]"
          },
          "metadata": {}
        }
      ],
      "source": [
        "# Pie chart\n",
        "labels = new_df[\"Make\"].head(10)\n",
        "# colors\n",
        "colors = ['#ff9999','#66b3ff','#99ff99','#ffcc99']\n",
        "# explsion\n",
        "explode = (0.05,0.05,0.05,0.05,0.05,0.05,0.05,0.05,0.05,0.05)\n",
        "fig1, ax1 = plt.subplots(figsize=(20, 12))\n",
        "plt.pie(s, colors = colors, labels=labels, autopct='%1.1f%%', startangle=90, pctdistance=0.85, explode = explode)\n",
        "# draw circle\n",
        "centre_circle = plt.Circle((0,0),0.70,fc='white')\n",
        "fig = plt.gcf()\n",
        "fig.gca().add_artist(centre_circle)\n",
        "# Equal aspect ratio ensures that pie is drawn as a circle\n",
        "ax1.axis('equal')  \n",
        "plt.tight_layout()\n",
        "\n",
        "plt.show()\n"
      ]
    },
    {
      "cell_type": "markdown",
      "metadata": {
        "id": "LUaKcFXGzs_r"
      },
      "source": [
        "## 4.2 The mean **Price** of each **Make**"
      ]
    },
    {
      "cell_type": "code",
      "execution_count": null,
      "metadata": {
        "id": "ozKvThyUpLu_"
      },
      "outputs": [],
      "source": [
        "make_mean = df.groupby('Make')[['Price']].mean()\n",
        "make_mean = make_mean.sort_values('Price', ascending=False)\n",
        "make_mean"
      ]
    },
    {
      "cell_type": "code",
      "execution_count": null,
      "metadata": {
        "colab": {
          "base_uri": "https://localhost:8080/",
          "height": 907
        },
        "id": "HK9q1NrAoeTM",
        "outputId": "123b4ce9-454a-4c83-f651-41b452bfbedd"
      },
      "outputs": [
        {
          "output_type": "display_data",
          "data": {
            "text/plain": [
              "<Figure size 1440x1080 with 1 Axes>"
            ],
            "image/png": "[encoded data removed]"
          },
          "metadata": {
            "needs_background": "light"
          }
        }
      ],
      "source": [
        "make = make_mean.index\n",
        "price = make_mean['Price'].round()\n",
        "fig, ax = plt.subplots(figsize=(20, 15))\n",
        "plt.barh(make, price, color='grey', height=0.7)\n",
        "plt.title('The mean price of the make', color=\"blue\", fontsize=20)\n",
        "plt.xlabel('Price($)', color=\"blue\", fontsize=20)\n",
        "plt.ylabel('Make', color=\"blue\", fontsize=20)\n",
        "for i, v in enumerate(price):\n",
        "    ax.text(v + 12, i, str(v)[:-2] + '$', color='red', fontweight='bold')"
      ]
    },
    {
      "cell_type": "markdown",
      "metadata": {
        "id": "jgtNqJx_z5Xn"
      },
      "source": [
        "##4.3 Top10 expensive cars **Makes**"
      ]
    },
    {
      "cell_type": "code",
      "execution_count": null,
      "metadata": {
        "colab": {
          "base_uri": "https://localhost:8080/",
          "height": 520
        },
        "id": "uGfcpjrQ93jr",
        "outputId": "ee202d2b-d4b0-4e3b-913a-b00ac9b022db"
      },
      "outputs": [
        {
          "output_type": "display_data",
          "data": {
            "text/plain": [
              "<Figure size 720x576 with 1 Axes>"
            ],
            "image/png": "[encoded data removed]"
          },
          "metadata": {
            "needs_background": "light"
          }
        }
      ],
      "source": [
        "# Top10 expensive cars Makes.\n",
        "expensive = df.groupby(\"Make\")[\"Price\"].max().sort_values(ascending=False)\n",
        "expensive = expensive[:10]\n",
        "index = expensive.index\n",
        "fig, ax = plt.subplots(figsize=(10, 8))\n",
        "ax.stem(index, expensive, linefmt=\"grey\", markerfmt=\"D\", use_line_collection = True)\n",
        "ax.set_title('Top 10 expensive cars ', color=\"green\", fontsize=15)\n",
        "ax.set_xlabel('Make', color=\"green\", fontsize=15)\n",
        "ax.set_ylabel('Price($)', color=\"green\", fontsize=15);"
      ]
    },
    {
      "cell_type": "markdown",
      "metadata": {
        "id": "Ub9uu9Br69xo"
      },
      "source": [
        "##4.4 The mean **Price** of each **Engine** type"
      ]
    },
    {
      "cell_type": "code",
      "execution_count": null,
      "metadata": {
        "colab": {
          "base_uri": "https://localhost:8080/",
          "height": 238
        },
        "id": "RxHieCMx0JXQ",
        "outputId": "6ebcfdd1-55e1-4e5f-d59f-74b358f151a3"
      },
      "outputs": [
        {
          "output_type": "execute_result",
          "data": {
            "text/plain": [
              "                    Price\n",
              "Engine                   \n",
              " Բենզին      12784.698946\n",
              " Գազ         11167.658730\n",
              " Դիզել       38370.270270\n",
              " Էլեկտրական  29775.495238\n",
              " Հիբրիդ      15446.571429"
            ],
            "text/html": [
              "\n",
              "  <div id=\"df-36caa140-a845-4a9e-a143-8d0f81ee0753\">\n",
              "    <div class=\"colab-df-container\">\n",
              "      <div>\n",
              "<style scoped>\n",
              "    .dataframe tbody tr th:only-of-type {\n",
              "        vertical-align: middle;\n",
              "    }\n",
              "\n",
              "    .dataframe tbody tr th {\n",
              "        vertical-align: top;\n",
              "    }\n",
              "\n",
              "    .dataframe thead th {\n",
              "        text-align: right;\n",
              "    }\n",
              "</style>\n",
              "<table border=\"1\" class=\"dataframe\">\n",
              "  <thead>\n",
              "    <tr style=\"text-align: right;\">\n",
              "      <th></th>\n",
              "      <th>Price</th>\n",
              "    </tr>\n",
              "    <tr>\n",
              "      <th>Engine</th>\n",
              "      <th></th>\n",
              "    </tr>\n",
              "  </thead>\n",
              "  <tbody>\n",
              "    <tr>\n",
              "      <th>Բենզին</th>\n",
              "      <td>12784.698946</td>\n",
              "    </tr>\n",
              "    <tr>\n",
              "      <th>Գազ</th>\n",
              "      <td>11167.658730</td>\n",
              "    </tr>\n",
              "    <tr>\n",
              "      <th>Դիզել</th>\n",
              "      <td>38370.270270</td>\n",
              "    </tr>\n",
              "    <tr>\n",
              "      <th>Էլեկտրական</th>\n",
              "      <td>29775.495238</td>\n",
              "    </tr>\n",
              "    <tr>\n",
              "      <th>Հիբրիդ</th>\n",
              "      <td>15446.571429</td>\n",
              "    </tr>\n",
              "  </tbody>\n",
              "</table>\n",
              "</div>\n",
              "      <button class=\"colab-df-convert\" onclick=\"convertToInteractive('df-36caa140-a845-4a9e-a143-8d0f81ee0753')\"\n",
              "              title=\"Convert this dataframe to an interactive table.\"\n",
              "              style=\"display:none;\">\n",
              "        \n",
              "  <svg xmlns=\"http://www.w3.org/2000/svg\" height=\"24px\"viewBox=\"0 0 24 24\"\n",
              "       width=\"24px\">\n",
              "    <path d=\"M0 0h24v24H0V0z\" fill=\"none\"/>\n",
              "    <path d=\"M18.56 5.44l.94 2.06.94-2.06 2.06-.94-2.06-.94-.94-2.06-.94 2.06-2.06.94zm-11 1L8.5 8.5l.94-2.06 2.06-.94-2.06-.94L8.5 2.5l-.94 2.06-2.06.94zm10 10l.94 2.06.94-2.06 2.06-.94-2.06-.94-.94-2.06-.94 2.06-2.06.94z\"/><path d=\"M17.41 7.96l-1.37-1.37c-.4-.4-.92-.59-1.43-.59-.52 0-1.04.2-1.43.59L10.3 9.45l-7.72 7.72c-.78.78-.78 2.05 0 2.83L4 21.41c.39.39.9.59 1.41.59.51 0 1.02-.2 1.41-.59l7.78-7.78 2.81-2.81c.8-.78.8-2.07 0-2.86zM5.41 20L4 18.59l7.72-7.72 1.47 1.35L5.41 20z\"/>\n",
              "  </svg>\n",
              "      </button>\n",
              "      \n",
              "  <style>\n",
              "    .colab-df-container {\n",
              "      display:flex;\n",
              "      flex-wrap:wrap;\n",
              "      gap: 12px;\n",
              "    }\n",
              "\n",
              "    .colab-df-convert {\n",
              "      background-color: #E8F0FE;\n",
              "      border: none;\n",
              "      border-radius: 50%;\n",
              "      cursor: pointer;\n",
              "      display: none;\n",
              "      fill: #1967D2;\n",
              "      height: 32px;\n",
              "      padding: 0 0 0 0;\n",
              "      width: 32px;\n",
              "    }\n",
              "\n",
              "    .colab-df-convert:hover {\n",
              "      background-color: #E2EBFA;\n",
              "      box-shadow: 0px 1px 2px rgba(60, 64, 67, 0.3), 0px 1px 3px 1px rgba(60, 64, 67, 0.15);\n",
              "      fill: #174EA6;\n",
              "    }\n",
              "\n",
              "    [theme=dark] .colab-df-convert {\n",
              "      background-color: #3B4455;\n",
              "      fill: #D2E3FC;\n",
              "    }\n",
              "\n",
              "    [theme=dark] .colab-df-convert:hover {\n",
              "      background-color: #434B5C;\n",
              "      box-shadow: 0px 1px 3px 1px rgba(0, 0, 0, 0.15);\n",
              "      filter: drop-shadow(0px 1px 2px rgba(0, 0, 0, 0.3));\n",
              "      fill: #FFFFFF;\n",
              "    }\n",
              "  </style>\n",
              "\n",
              "      <script>\n",
              "        const buttonEl =\n",
              "          document.querySelector('#df-36caa140-a845-4a9e-a143-8d0f81ee0753 button.colab-df-convert');\n",
              "        buttonEl.style.display =\n",
              "          google.colab.kernel.accessAllowed ? 'block' : 'none';\n",
              "\n",
              "        async function convertToInteractive(key) {\n",
              "          const element = document.querySelector('#df-36caa140-a845-4a9e-a143-8d0f81ee0753');\n",
              "          const dataTable =\n",
              "            await google.colab.kernel.invokeFunction('convertToInteractive',\n",
              "                                                     [key], {});\n",
              "          if (!dataTable) return;\n",
              "\n",
              "          const docLinkHtml = 'Like what you see? Visit the ' +\n",
              "            '<a target=\"_blank\" href=https://colab.research.google.com/notebooks/data_table.ipynb>data table notebook</a>'\n",
              "            + ' to learn more about interactive tables.';\n",
              "          element.innerHTML = '';\n",
              "          dataTable['output_type'] = 'display_data';\n",
              "          await google.colab.output.renderOutput(dataTable, element);\n",
              "          const docLink = document.createElement('div');\n",
              "          docLink.innerHTML = docLinkHtml;\n",
              "          element.appendChild(docLink);\n",
              "        }\n",
              "      </script>\n",
              "    </div>\n",
              "  </div>\n",
              "  "
            ]
          },
          "metadata": {},
          "execution_count": 51
        }
      ],
      "source": [
        "Engine = df.groupby('Engine')[['Price']].mean()\n",
        "Engine"
      ]
    },
    {
      "cell_type": "code",
      "execution_count": null,
      "metadata": {
        "colab": {
          "base_uri": "https://localhost:8080/",
          "height": 404
        },
        "id": "m-7_ToC42KIt",
        "outputId": "e34daf8a-b06b-486e-ee03-9951d1946c3b"
      },
      "outputs": [
        {
          "output_type": "display_data",
          "data": {
            "text/plain": [
              "<Figure size 576x432 with 1 Axes>"
            ],
            "image/png": "[encoded data removed]"
          },
          "metadata": {
            "needs_background": "light"
          }
        }
      ],
      "source": [
        "engine = Engine.index\n",
        "price = Engine['Price'].round()\n",
        "fig, ax = plt.subplots(figsize=(8, 6))\n",
        "ax.bar(engine, price, color='grey')\n",
        "ax.set_title('The mean Price of each Engine type')\n",
        "ax.set_xlabel('Engine Type')\n",
        "ax.set_ylabel('Price($)');\n",
        "# for i, v in enumerate(price):\n",
        "#     ax.text(i - 0.25, v + 5, str(v)[:-2] + '$', color='blue', fontweight='bold')"
      ]
    },
    {
      "cell_type": "markdown",
      "metadata": {
        "id": "pvqA0GNt75NG"
      },
      "source": [
        "##4.5 The mean **Price** of each **Color**"
      ]
    },
    {
      "cell_type": "code",
      "execution_count": null,
      "metadata": {
        "colab": {
          "base_uri": "https://localhost:8080/",
          "height": 614
        },
        "id": "G_VMMQhL4veN",
        "outputId": "cf89a280-57f7-448a-d0c3-4f7e0726f38a"
      },
      "outputs": [
        {
          "output_type": "execute_result",
          "data": {
            "text/plain": [
              "                       Price\n",
              "Color                       \n",
              " Արծաթագույն     9093.045710\n",
              " Կարմիր          9588.602941\n",
              " Սմբկագույն      9715.000000\n",
              " Բեժ             9948.148148\n",
              " Կանաչ          11170.263158\n",
              " Ոսկեգույն      12491.666667\n",
              " Մոխրագույն     12856.188649\n",
              " Նարնջագույն    13383.333333\n",
              " Սպիտակ         13496.889571\n",
              " Վարդագույն     13700.000000\n",
              " Կապույտ        14551.370732\n",
              " Բալագույն      14579.032258\n",
              " Երկնագույն     15212.903226\n",
              " Սև             16056.612944\n",
              " Դեղին          20261.538462\n",
              " Այլ գույն      21220.430108\n",
              " Շագանակագույն  21787.500000"
            ],
            "text/html": [
              "\n",
              "  <div id=\"df-aa8ae354-fa71-43a1-a58a-dc1559f77557\">\n",
              "    <div class=\"colab-df-container\">\n",
              "      <div>\n",
              "<style scoped>\n",
              "    .dataframe tbody tr th:only-of-type {\n",
              "        vertical-align: middle;\n",
              "    }\n",
              "\n",
              "    .dataframe tbody tr th {\n",
              "        vertical-align: top;\n",
              "    }\n",
              "\n",
              "    .dataframe thead th {\n",
              "        text-align: right;\n",
              "    }\n",
              "</style>\n",
              "<table border=\"1\" class=\"dataframe\">\n",
              "  <thead>\n",
              "    <tr style=\"text-align: right;\">\n",
              "      <th></th>\n",
              "      <th>Price</th>\n",
              "    </tr>\n",
              "    <tr>\n",
              "      <th>Color</th>\n",
              "      <th></th>\n",
              "    </tr>\n",
              "  </thead>\n",
              "  <tbody>\n",
              "    <tr>\n",
              "      <th>Արծաթագույն</th>\n",
              "      <td>9093.045710</td>\n",
              "    </tr>\n",
              "    <tr>\n",
              "      <th>Կարմիր</th>\n",
              "      <td>9588.602941</td>\n",
              "    </tr>\n",
              "    <tr>\n",
              "      <th>Սմբկագույն</th>\n",
              "      <td>9715.000000</td>\n",
              "    </tr>\n",
              "    <tr>\n",
              "      <th>Բեժ</th>\n",
              "      <td>9948.148148</td>\n",
              "    </tr>\n",
              "    <tr>\n",
              "      <th>Կանաչ</th>\n",
              "      <td>11170.263158</td>\n",
              "    </tr>\n",
              "    <tr>\n",
              "      <th>Ոսկեգույն</th>\n",
              "      <td>12491.666667</td>\n",
              "    </tr>\n",
              "    <tr>\n",
              "      <th>Մոխրագույն</th>\n",
              "      <td>12856.188649</td>\n",
              "    </tr>\n",
              "    <tr>\n",
              "      <th>Նարնջագույն</th>\n",
              "      <td>13383.333333</td>\n",
              "    </tr>\n",
              "    <tr>\n",
              "      <th>Սպիտակ</th>\n",
              "      <td>13496.889571</td>\n",
              "    </tr>\n",
              "    <tr>\n",
              "      <th>Վարդագույն</th>\n",
              "      <td>13700.000000</td>\n",
              "    </tr>\n",
              "    <tr>\n",
              "      <th>Կապույտ</th>\n",
              "      <td>14551.370732</td>\n",
              "    </tr>\n",
              "    <tr>\n",
              "      <th>Բալագույն</th>\n",
              "      <td>14579.032258</td>\n",
              "    </tr>\n",
              "    <tr>\n",
              "      <th>Երկնագույն</th>\n",
              "      <td>15212.903226</td>\n",
              "    </tr>\n",
              "    <tr>\n",
              "      <th>Սև</th>\n",
              "      <td>16056.612944</td>\n",
              "    </tr>\n",
              "    <tr>\n",
              "      <th>Դեղին</th>\n",
              "      <td>20261.538462</td>\n",
              "    </tr>\n",
              "    <tr>\n",
              "      <th>Այլ գույն</th>\n",
              "      <td>21220.430108</td>\n",
              "    </tr>\n",
              "    <tr>\n",
              "      <th>Շագանակագույն</th>\n",
              "      <td>21787.500000</td>\n",
              "    </tr>\n",
              "  </tbody>\n",
              "</table>\n",
              "</div>\n",
              "      <button class=\"colab-df-convert\" onclick=\"convertToInteractive('df-aa8ae354-fa71-43a1-a58a-dc1559f77557')\"\n",
              "              title=\"Convert this dataframe to an interactive table.\"\n",
              "              style=\"display:none;\">\n",
              "        \n",
              "  <svg xmlns=\"http://www.w3.org/2000/svg\" height=\"24px\"viewBox=\"0 0 24 24\"\n",
              "       width=\"24px\">\n",
              "    <path d=\"M0 0h24v24H0V0z\" fill=\"none\"/>\n",
              "    <path d=\"M18.56 5.44l.94 2.06.94-2.06 2.06-.94-2.06-.94-.94-2.06-.94 2.06-2.06.94zm-11 1L8.5 8.5l.94-2.06 2.06-.94-2.06-.94L8.5 2.5l-.94 2.06-2.06.94zm10 10l.94 2.06.94-2.06 2.06-.94-2.06-.94-.94-2.06-.94 2.06-2.06.94z\"/><path d=\"M17.41 7.96l-1.37-1.37c-.4-.4-.92-.59-1.43-.59-.52 0-1.04.2-1.43.59L10.3 9.45l-7.72 7.72c-.78.78-.78 2.05 0 2.83L4 21.41c.39.39.9.59 1.41.59.51 0 1.02-.2 1.41-.59l7.78-7.78 2.81-2.81c.8-.78.8-2.07 0-2.86zM5.41 20L4 18.59l7.72-7.72 1.47 1.35L5.41 20z\"/>\n",
              "  </svg>\n",
              "      </button>\n",
              "      \n",
              "  <style>\n",
              "    .colab-df-container {\n",
              "      display:flex;\n",
              "      flex-wrap:wrap;\n",
              "      gap: 12px;\n",
              "    }\n",
              "\n",
              "    .colab-df-convert {\n",
              "      background-color: #E8F0FE;\n",
              "      border: none;\n",
              "      border-radius: 50%;\n",
              "      cursor: pointer;\n",
              "      display: none;\n",
              "      fill: #1967D2;\n",
              "      height: 32px;\n",
              "      padding: 0 0 0 0;\n",
              "      width: 32px;\n",
              "    }\n",
              "\n",
              "    .colab-df-convert:hover {\n",
              "      background-color: #E2EBFA;\n",
              "      box-shadow: 0px 1px 2px rgba(60, 64, 67, 0.3), 0px 1px 3px 1px rgba(60, 64, 67, 0.15);\n",
              "      fill: #174EA6;\n",
              "    }\n",
              "\n",
              "    [theme=dark] .colab-df-convert {\n",
              "      background-color: #3B4455;\n",
              "      fill: #D2E3FC;\n",
              "    }\n",
              "\n",
              "    [theme=dark] .colab-df-convert:hover {\n",
              "      background-color: #434B5C;\n",
              "      box-shadow: 0px 1px 3px 1px rgba(0, 0, 0, 0.15);\n",
              "      filter: drop-shadow(0px 1px 2px rgba(0, 0, 0, 0.3));\n",
              "      fill: #FFFFFF;\n",
              "    }\n",
              "  </style>\n",
              "\n",
              "      <script>\n",
              "        const buttonEl =\n",
              "          document.querySelector('#df-aa8ae354-fa71-43a1-a58a-dc1559f77557 button.colab-df-convert');\n",
              "        buttonEl.style.display =\n",
              "          google.colab.kernel.accessAllowed ? 'block' : 'none';\n",
              "\n",
              "        async function convertToInteractive(key) {\n",
              "          const element = document.querySelector('#df-aa8ae354-fa71-43a1-a58a-dc1559f77557');\n",
              "          const dataTable =\n",
              "            await google.colab.kernel.invokeFunction('convertToInteractive',\n",
              "                                                     [key], {});\n",
              "          if (!dataTable) return;\n",
              "\n",
              "          const docLinkHtml = 'Like what you see? Visit the ' +\n",
              "            '<a target=\"_blank\" href=https://colab.research.google.com/notebooks/data_table.ipynb>data table notebook</a>'\n",
              "            + ' to learn more about interactive tables.';\n",
              "          element.innerHTML = '';\n",
              "          dataTable['output_type'] = 'display_data';\n",
              "          await google.colab.output.renderOutput(dataTable, element);\n",
              "          const docLink = document.createElement('div');\n",
              "          docLink.innerHTML = docLinkHtml;\n",
              "          element.appendChild(docLink);\n",
              "        }\n",
              "      </script>\n",
              "    </div>\n",
              "  </div>\n",
              "  "
            ]
          },
          "metadata": {},
          "execution_count": 53
        }
      ],
      "source": [
        "Color = df.groupby('Color')[['Price']].mean()\n",
        "Color.sort_values('Price')"
      ]
    },
    {
      "cell_type": "code",
      "execution_count": null,
      "metadata": {
        "colab": {
          "base_uri": "https://localhost:8080/",
          "height": 404
        },
        "id": "5M7iVHL0_Lmk",
        "outputId": "c70516e9-4120-45e8-b232-b1a477b4540f"
      },
      "outputs": [
        {
          "output_type": "display_data",
          "data": {
            "text/plain": [
              "<Figure size 1800x432 with 1 Axes>"
            ],
            "image/png": "[encoded data removed]"
          },
          "metadata": {
            "needs_background": "light"
          }
        }
      ],
      "source": [
        "color = Color.index\n",
        "price = Color['Price'].round()\n",
        "fig, ax = plt.subplots(figsize=(25, 6))\n",
        "ax.bar(color, price, color='green')\n",
        "ax.set_title('The mean Price of each Color type', color=\"red\")\n",
        "ax.set_xlabel('Color Type', color=\"red\")\n",
        "ax.set_ylabel('Price($)', color=\"red\");"
      ]
    },
    {
      "cell_type": "markdown",
      "metadata": {
        "id": "BsPGXA_28C3o"
      },
      "source": [
        "## 4.6  The **Make** mean **Price** depending on **Gearbox**"
      ]
    },
    {
      "cell_type": "code",
      "execution_count": null,
      "metadata": {
        "colab": {
          "base_uri": "https://localhost:8080/",
          "height": 143
        },
        "id": "9v0Twq7D7TYQ",
        "outputId": "8a0b48a7-daa2-44ba-f1e7-ca3f96e6bb2b"
      },
      "outputs": [
        {
          "output_type": "execute_result",
          "data": {
            "text/plain": [
              "                Price\n",
              "Gearbox              \n",
              "0        13560.588925\n",
              "1         8094.943820"
            ],
            "text/html": [
              "\n",
              "  <div id=\"df-93a02e19-0ee7-4bcd-a7fb-cdea234a9410\">\n",
              "    <div class=\"colab-df-container\">\n",
              "      <div>\n",
              "<style scoped>\n",
              "    .dataframe tbody tr th:only-of-type {\n",
              "        vertical-align: middle;\n",
              "    }\n",
              "\n",
              "    .dataframe tbody tr th {\n",
              "        vertical-align: top;\n",
              "    }\n",
              "\n",
              "    .dataframe thead th {\n",
              "        text-align: right;\n",
              "    }\n",
              "</style>\n",
              "<table border=\"1\" class=\"dataframe\">\n",
              "  <thead>\n",
              "    <tr style=\"text-align: right;\">\n",
              "      <th></th>\n",
              "      <th>Price</th>\n",
              "    </tr>\n",
              "    <tr>\n",
              "      <th>Gearbox</th>\n",
              "      <th></th>\n",
              "    </tr>\n",
              "  </thead>\n",
              "  <tbody>\n",
              "    <tr>\n",
              "      <th>0</th>\n",
              "      <td>13560.588925</td>\n",
              "    </tr>\n",
              "    <tr>\n",
              "      <th>1</th>\n",
              "      <td>8094.943820</td>\n",
              "    </tr>\n",
              "  </tbody>\n",
              "</table>\n",
              "</div>\n",
              "      <button class=\"colab-df-convert\" onclick=\"convertToInteractive('df-93a02e19-0ee7-4bcd-a7fb-cdea234a9410')\"\n",
              "              title=\"Convert this dataframe to an interactive table.\"\n",
              "              style=\"display:none;\">\n",
              "        \n",
              "  <svg xmlns=\"http://www.w3.org/2000/svg\" height=\"24px\"viewBox=\"0 0 24 24\"\n",
              "       width=\"24px\">\n",
              "    <path d=\"M0 0h24v24H0V0z\" fill=\"none\"/>\n",
              "    <path d=\"M18.56 5.44l.94 2.06.94-2.06 2.06-.94-2.06-.94-.94-2.06-.94 2.06-2.06.94zm-11 1L8.5 8.5l.94-2.06 2.06-.94-2.06-.94L8.5 2.5l-.94 2.06-2.06.94zm10 10l.94 2.06.94-2.06 2.06-.94-2.06-.94-.94-2.06-.94 2.06-2.06.94z\"/><path d=\"M17.41 7.96l-1.37-1.37c-.4-.4-.92-.59-1.43-.59-.52 0-1.04.2-1.43.59L10.3 9.45l-7.72 7.72c-.78.78-.78 2.05 0 2.83L4 21.41c.39.39.9.59 1.41.59.51 0 1.02-.2 1.41-.59l7.78-7.78 2.81-2.81c.8-.78.8-2.07 0-2.86zM5.41 20L4 18.59l7.72-7.72 1.47 1.35L5.41 20z\"/>\n",
              "  </svg>\n",
              "      </button>\n",
              "      \n",
              "  <style>\n",
              "    .colab-df-container {\n",
              "      display:flex;\n",
              "      flex-wrap:wrap;\n",
              "      gap: 12px;\n",
              "    }\n",
              "\n",
              "    .colab-df-convert {\n",
              "      background-color: #E8F0FE;\n",
              "      border: none;\n",
              "      border-radius: 50%;\n",
              "      cursor: pointer;\n",
              "      display: none;\n",
              "      fill: #1967D2;\n",
              "      height: 32px;\n",
              "      padding: 0 0 0 0;\n",
              "      width: 32px;\n",
              "    }\n",
              "\n",
              "    .colab-df-convert:hover {\n",
              "      background-color: #E2EBFA;\n",
              "      box-shadow: 0px 1px 2px rgba(60, 64, 67, 0.3), 0px 1px 3px 1px rgba(60, 64, 67, 0.15);\n",
              "      fill: #174EA6;\n",
              "    }\n",
              "\n",
              "    [theme=dark] .colab-df-convert {\n",
              "      background-color: #3B4455;\n",
              "      fill: #D2E3FC;\n",
              "    }\n",
              "\n",
              "    [theme=dark] .colab-df-convert:hover {\n",
              "      background-color: #434B5C;\n",
              "      box-shadow: 0px 1px 3px 1px rgba(0, 0, 0, 0.15);\n",
              "      filter: drop-shadow(0px 1px 2px rgba(0, 0, 0, 0.3));\n",
              "      fill: #FFFFFF;\n",
              "    }\n",
              "  </style>\n",
              "\n",
              "      <script>\n",
              "        const buttonEl =\n",
              "          document.querySelector('#df-93a02e19-0ee7-4bcd-a7fb-cdea234a9410 button.colab-df-convert');\n",
              "        buttonEl.style.display =\n",
              "          google.colab.kernel.accessAllowed ? 'block' : 'none';\n",
              "\n",
              "        async function convertToInteractive(key) {\n",
              "          const element = document.querySelector('#df-93a02e19-0ee7-4bcd-a7fb-cdea234a9410');\n",
              "          const dataTable =\n",
              "            await google.colab.kernel.invokeFunction('convertToInteractive',\n",
              "                                                     [key], {});\n",
              "          if (!dataTable) return;\n",
              "\n",
              "          const docLinkHtml = 'Like what you see? Visit the ' +\n",
              "            '<a target=\"_blank\" href=https://colab.research.google.com/notebooks/data_table.ipynb>data table notebook</a>'\n",
              "            + ' to learn more about interactive tables.';\n",
              "          element.innerHTML = '';\n",
              "          dataTable['output_type'] = 'display_data';\n",
              "          await google.colab.output.renderOutput(dataTable, element);\n",
              "          const docLink = document.createElement('div');\n",
              "          docLink.innerHTML = docLinkHtml;\n",
              "          element.appendChild(docLink);\n",
              "        }\n",
              "      </script>\n",
              "    </div>\n",
              "  </div>\n",
              "  "
            ]
          },
          "metadata": {},
          "execution_count": 55
        }
      ],
      "source": [
        "gb = df.groupby('Gearbox')[['Price']].mean()\n",
        "gb"
      ]
    },
    {
      "cell_type": "code",
      "execution_count": null,
      "metadata": {
        "colab": {
          "base_uri": "https://localhost:8080/",
          "height": 297
        },
        "id": "Vc4SEVMwpGqB",
        "outputId": "1aa1411a-aa82-46db-bf4d-bd5f8b1c9010"
      },
      "outputs": [
        {
          "output_type": "display_data",
          "data": {
            "text/plain": [
              "<Figure size 432x288 with 1 Axes>"
            ],
            "image/png": "[encoded data removed]"
          },
          "metadata": {}
        }
      ],
      "source": [
        "# Pie chart\n",
        "labels = ['Automatic', 'Mechanical']\n",
        "sizes = gb['Price']\n",
        "#colors\n",
        "colors = ['#99ff99','#ffcc99']\n",
        " \n",
        "fig1, ax1 = plt.subplots()\n",
        "ax1.pie(sizes, colors = colors, labels=labels, autopct='%1.1f%%', startangle=90)\n",
        "#draw circle\n",
        "centre_circle = plt.Circle((0,0),0.70,fc='white')\n",
        "fig = plt.gcf()\n",
        "fig.gca().add_artist(centre_circle)\n",
        "# Equal aspect ratio ensures that pie is drawn as a circle\n",
        "ax1.axis('equal')  \n",
        "plt.tight_layout()\n",
        "plt.show()"
      ]
    },
    {
      "cell_type": "code",
      "execution_count": null,
      "metadata": {
        "id": "RmpQw6Li8aLY",
        "colab": {
          "base_uri": "https://localhost:8080/",
          "height": 1000
        },
        "outputId": "6e6b3c1c-4a0e-4d38-9293-007b2f0b2ac4"
      },
      "outputs": [
        {
          "output_type": "execute_result",
          "data": {
            "text/plain": [
              "                       Price              \n",
              "Gearbox                    0             1\n",
              "Make                                      \n",
              "Acura           11827.631579           NaN\n",
              "Alfa            10583.333333           NaN\n",
              "Aston          113833.333333           NaN\n",
              "Audi            12154.929577   3500.000000\n",
              "BMW             20978.428793   7893.750000\n",
              "BYD             38650.000000   3400.000000\n",
              "Bentley        159255.555556           NaN\n",
              "Buick            8600.000000           NaN\n",
              "Cadillac        23519.642857           NaN\n",
              "Chevrolet        6822.697917           NaN\n",
              "Chrysler         5871.407407           NaN\n",
              "Dodge           10992.500000           NaN\n",
              "Fiat             4525.000000           NaN\n",
              "Ford             9261.580595  10866.666667\n",
              "Foton                    NaN  20000.000000\n",
              "GAZ                      NaN   8116.666667\n",
              "GMC             21519.285714           NaN\n",
              "Honda            9163.507431   6800.000000\n",
              "Hummer          48000.000000           NaN\n",
              "Hyundai          7854.166667   9500.000000\n",
              "Infiniti        11244.347826           NaN\n",
              "Jaguar          22446.428571           NaN\n",
              "Jeep            12454.127907           NaN\n",
              "Kia              8110.802929   6766.666667\n",
              "Land            31910.706522  37500.000000\n",
              "Lexus           27322.239264           NaN\n",
              "Lincoln         16913.636364           NaN\n",
              "Maserati        18166.666667           NaN\n",
              "Maybach        125000.000000           NaN\n",
              "Mazda           11906.301724   8233.333333\n",
              "Mercedes-Benz   24157.129952   5488.888889\n",
              "Mini             8487.500000  14500.000000\n",
              "Mitsubishi      10563.125000   7066.666667\n",
              "Nissan           6669.037657  19450.000000\n",
              "Opel             6350.000000   5760.000000\n",
              "Peugeot                  NaN   2500.000000\n",
              "Polestar        50000.000000           NaN\n",
              "Porsche         32131.355932           NaN\n",
              "Ram             15528.571429           NaN\n",
              "Renault          5700.000000   2500.000000\n",
              "Rolls           90900.000000           NaN\n",
              "Scion            7300.000000           NaN\n",
              "Smart            4000.000000           NaN\n",
              "Subaru           6652.912621   8233.333333\n",
              "Suzuki           6700.000000           NaN\n",
              "Tesla           25732.426136  14900.000000\n",
              "Toyota          15229.126541  11678.571429\n",
              "UAZ                      NaN   5200.000000\n",
              "VAZ                      NaN   7723.529412\n",
              "Volkswagen      14868.282686   6918.181818\n",
              "Volvo           11398.076923           NaN"
            ],
            "text/html": [
              "\n",
              "  <div id=\"df-5354a84f-8102-4b9f-a6f2-0632193bdb99\">\n",
              "    <div class=\"colab-df-container\">\n",
              "      <div>\n",
              "<style scoped>\n",
              "    .dataframe tbody tr th:only-of-type {\n",
              "        vertical-align: middle;\n",
              "    }\n",
              "\n",
              "    .dataframe tbody tr th {\n",
              "        vertical-align: top;\n",
              "    }\n",
              "\n",
              "    .dataframe thead tr th {\n",
              "        text-align: left;\n",
              "    }\n",
              "\n",
              "    .dataframe thead tr:last-of-type th {\n",
              "        text-align: right;\n",
              "    }\n",
              "</style>\n",
              "<table border=\"1\" class=\"dataframe\">\n",
              "  <thead>\n",
              "    <tr>\n",
              "      <th></th>\n",
              "      <th colspan=\"2\" halign=\"left\">Price</th>\n",
              "    </tr>\n",
              "    <tr>\n",
              "      <th>Gearbox</th>\n",
              "      <th>0</th>\n",
              "      <th>1</th>\n",
              "    </tr>\n",
              "    <tr>\n",
              "      <th>Make</th>\n",
              "      <th></th>\n",
              "      <th></th>\n",
              "    </tr>\n",
              "  </thead>\n",
              "  <tbody>\n",
              "    <tr>\n",
              "      <th>Acura</th>\n",
              "      <td>11827.631579</td>\n",
              "      <td>NaN</td>\n",
              "    </tr>\n",
              "    <tr>\n",
              "      <th>Alfa</th>\n",
              "      <td>10583.333333</td>\n",
              "      <td>NaN</td>\n",
              "    </tr>\n",
              "    <tr>\n",
              "      <th>Aston</th>\n",
              "      <td>113833.333333</td>\n",
              "      <td>NaN</td>\n",
              "    </tr>\n",
              "    <tr>\n",
              "      <th>Audi</th>\n",
              "      <td>12154.929577</td>\n",
              "      <td>3500.000000</td>\n",
              "    </tr>\n",
              "    <tr>\n",
              "      <th>BMW</th>\n",
              "      <td>20978.428793</td>\n",
              "      <td>7893.750000</td>\n",
              "    </tr>\n",
              "    <tr>\n",
              "      <th>BYD</th>\n",
              "      <td>38650.000000</td>\n",
              "      <td>3400.000000</td>\n",
              "    </tr>\n",
              "    <tr>\n",
              "      <th>Bentley</th>\n",
              "      <td>159255.555556</td>\n",
              "      <td>NaN</td>\n",
              "    </tr>\n",
              "    <tr>\n",
              "      <th>Buick</th>\n",
              "      <td>8600.000000</td>\n",
              "      <td>NaN</td>\n",
              "    </tr>\n",
              "    <tr>\n",
              "      <th>Cadillac</th>\n",
              "      <td>23519.642857</td>\n",
              "      <td>NaN</td>\n",
              "    </tr>\n",
              "    <tr>\n",
              "      <th>Chevrolet</th>\n",
              "      <td>6822.697917</td>\n",
              "      <td>NaN</td>\n",
              "    </tr>\n",
              "    <tr>\n",
              "      <th>Chrysler</th>\n",
              "      <td>5871.407407</td>\n",
              "      <td>NaN</td>\n",
              "    </tr>\n",
              "    <tr>\n",
              "      <th>Dodge</th>\n",
              "      <td>10992.500000</td>\n",
              "      <td>NaN</td>\n",
              "    </tr>\n",
              "    <tr>\n",
              "      <th>Fiat</th>\n",
              "      <td>4525.000000</td>\n",
              "      <td>NaN</td>\n",
              "    </tr>\n",
              "    <tr>\n",
              "      <th>Ford</th>\n",
              "      <td>9261.580595</td>\n",
              "      <td>10866.666667</td>\n",
              "    </tr>\n",
              "    <tr>\n",
              "      <th>Foton</th>\n",
              "      <td>NaN</td>\n",
              "      <td>20000.000000</td>\n",
              "    </tr>\n",
              "    <tr>\n",
              "      <th>GAZ</th>\n",
              "      <td>NaN</td>\n",
              "      <td>8116.666667</td>\n",
              "    </tr>\n",
              "    <tr>\n",
              "      <th>GMC</th>\n",
              "      <td>21519.285714</td>\n",
              "      <td>NaN</td>\n",
              "    </tr>\n",
              "    <tr>\n",
              "      <th>Honda</th>\n",
              "      <td>9163.507431</td>\n",
              "      <td>6800.000000</td>\n",
              "    </tr>\n",
              "    <tr>\n",
              "      <th>Hummer</th>\n",
              "      <td>48000.000000</td>\n",
              "      <td>NaN</td>\n",
              "    </tr>\n",
              "    <tr>\n",
              "      <th>Hyundai</th>\n",
              "      <td>7854.166667</td>\n",
              "      <td>9500.000000</td>\n",
              "    </tr>\n",
              "    <tr>\n",
              "      <th>Infiniti</th>\n",
              "      <td>11244.347826</td>\n",
              "      <td>NaN</td>\n",
              "    </tr>\n",
              "    <tr>\n",
              "      <th>Jaguar</th>\n",
              "      <td>22446.428571</td>\n",
              "      <td>NaN</td>\n",
              "    </tr>\n",
              "    <tr>\n",
              "      <th>Jeep</th>\n",
              "      <td>12454.127907</td>\n",
              "      <td>NaN</td>\n",
              "    </tr>\n",
              "    <tr>\n",
              "      <th>Kia</th>\n",
              "      <td>8110.802929</td>\n",
              "      <td>6766.666667</td>\n",
              "    </tr>\n",
              "    <tr>\n",
              "      <th>Land</th>\n",
              "      <td>31910.706522</td>\n",
              "      <td>37500.000000</td>\n",
              "    </tr>\n",
              "    <tr>\n",
              "      <th>Lexus</th>\n",
              "      <td>27322.239264</td>\n",
              "      <td>NaN</td>\n",
              "    </tr>\n",
              "    <tr>\n",
              "      <th>Lincoln</th>\n",
              "      <td>16913.636364</td>\n",
              "      <td>NaN</td>\n",
              "    </tr>\n",
              "    <tr>\n",
              "      <th>Maserati</th>\n",
              "      <td>18166.666667</td>\n",
              "      <td>NaN</td>\n",
              "    </tr>\n",
              "    <tr>\n",
              "      <th>Maybach</th>\n",
              "      <td>125000.000000</td>\n",
              "      <td>NaN</td>\n",
              "    </tr>\n",
              "    <tr>\n",
              "      <th>Mazda</th>\n",
              "      <td>11906.301724</td>\n",
              "      <td>8233.333333</td>\n",
              "    </tr>\n",
              "    <tr>\n",
              "      <th>Mercedes-Benz</th>\n",
              "      <td>24157.129952</td>\n",
              "      <td>5488.888889</td>\n",
              "    </tr>\n",
              "    <tr>\n",
              "      <th>Mini</th>\n",
              "      <td>8487.500000</td>\n",
              "      <td>14500.000000</td>\n",
              "    </tr>\n",
              "    <tr>\n",
              "      <th>Mitsubishi</th>\n",
              "      <td>10563.125000</td>\n",
              "      <td>7066.666667</td>\n",
              "    </tr>\n",
              "    <tr>\n",
              "      <th>Nissan</th>\n",
              "      <td>6669.037657</td>\n",
              "      <td>19450.000000</td>\n",
              "    </tr>\n",
              "    <tr>\n",
              "      <th>Opel</th>\n",
              "      <td>6350.000000</td>\n",
              "      <td>5760.000000</td>\n",
              "    </tr>\n",
              "    <tr>\n",
              "      <th>Peugeot</th>\n",
              "      <td>NaN</td>\n",
              "      <td>2500.000000</td>\n",
              "    </tr>\n",
              "    <tr>\n",
              "      <th>Polestar</th>\n",
              "      <td>50000.000000</td>\n",
              "      <td>NaN</td>\n",
              "    </tr>\n",
              "    <tr>\n",
              "      <th>Porsche</th>\n",
              "      <td>32131.355932</td>\n",
              "      <td>NaN</td>\n",
              "    </tr>\n",
              "    <tr>\n",
              "      <th>Ram</th>\n",
              "      <td>15528.571429</td>\n",
              "      <td>NaN</td>\n",
              "    </tr>\n",
              "    <tr>\n",
              "      <th>Renault</th>\n",
              "      <td>5700.000000</td>\n",
              "      <td>2500.000000</td>\n",
              "    </tr>\n",
              "    <tr>\n",
              "      <th>Rolls</th>\n",
              "      <td>90900.000000</td>\n",
              "      <td>NaN</td>\n",
              "    </tr>\n",
              "    <tr>\n",
              "      <th>Scion</th>\n",
              "      <td>7300.000000</td>\n",
              "      <td>NaN</td>\n",
              "    </tr>\n",
              "    <tr>\n",
              "      <th>Smart</th>\n",
              "      <td>4000.000000</td>\n",
              "      <td>NaN</td>\n",
              "    </tr>\n",
              "    <tr>\n",
              "      <th>Subaru</th>\n",
              "      <td>6652.912621</td>\n",
              "      <td>8233.333333</td>\n",
              "    </tr>\n",
              "    <tr>\n",
              "      <th>Suzuki</th>\n",
              "      <td>6700.000000</td>\n",
              "      <td>NaN</td>\n",
              "    </tr>\n",
              "    <tr>\n",
              "      <th>Tesla</th>\n",
              "      <td>25732.426136</td>\n",
              "      <td>14900.000000</td>\n",
              "    </tr>\n",
              "    <tr>\n",
              "      <th>Toyota</th>\n",
              "      <td>15229.126541</td>\n",
              "      <td>11678.571429</td>\n",
              "    </tr>\n",
              "    <tr>\n",
              "      <th>UAZ</th>\n",
              "      <td>NaN</td>\n",
              "      <td>5200.000000</td>\n",
              "    </tr>\n",
              "    <tr>\n",
              "      <th>VAZ</th>\n",
              "      <td>NaN</td>\n",
              "      <td>7723.529412</td>\n",
              "    </tr>\n",
              "    <tr>\n",
              "      <th>Volkswagen</th>\n",
              "      <td>14868.282686</td>\n",
              "      <td>6918.181818</td>\n",
              "    </tr>\n",
              "    <tr>\n",
              "      <th>Volvo</th>\n",
              "      <td>11398.076923</td>\n",
              "      <td>NaN</td>\n",
              "    </tr>\n",
              "  </tbody>\n",
              "</table>\n",
              "</div>\n",
              "      <button class=\"colab-df-convert\" onclick=\"convertToInteractive('df-5354a84f-8102-4b9f-a6f2-0632193bdb99')\"\n",
              "              title=\"Convert this dataframe to an interactive table.\"\n",
              "              style=\"display:none;\">\n",
              "        \n",
              "  <svg xmlns=\"http://www.w3.org/2000/svg\" height=\"24px\"viewBox=\"0 0 24 24\"\n",
              "       width=\"24px\">\n",
              "    <path d=\"M0 0h24v24H0V0z\" fill=\"none\"/>\n",
              "    <path d=\"M18.56 5.44l.94 2.06.94-2.06 2.06-.94-2.06-.94-.94-2.06-.94 2.06-2.06.94zm-11 1L8.5 8.5l.94-2.06 2.06-.94-2.06-.94L8.5 2.5l-.94 2.06-2.06.94zm10 10l.94 2.06.94-2.06 2.06-.94-2.06-.94-.94-2.06-.94 2.06-2.06.94z\"/><path d=\"M17.41 7.96l-1.37-1.37c-.4-.4-.92-.59-1.43-.59-.52 0-1.04.2-1.43.59L10.3 9.45l-7.72 7.72c-.78.78-.78 2.05 0 2.83L4 21.41c.39.39.9.59 1.41.59.51 0 1.02-.2 1.41-.59l7.78-7.78 2.81-2.81c.8-.78.8-2.07 0-2.86zM5.41 20L4 18.59l7.72-7.72 1.47 1.35L5.41 20z\"/>\n",
              "  </svg>\n",
              "      </button>\n",
              "      \n",
              "  <style>\n",
              "    .colab-df-container {\n",
              "      display:flex;\n",
              "      flex-wrap:wrap;\n",
              "      gap: 12px;\n",
              "    }\n",
              "\n",
              "    .colab-df-convert {\n",
              "      background-color: #E8F0FE;\n",
              "      border: none;\n",
              "      border-radius: 50%;\n",
              "      cursor: pointer;\n",
              "      display: none;\n",
              "      fill: #1967D2;\n",
              "      height: 32px;\n",
              "      padding: 0 0 0 0;\n",
              "      width: 32px;\n",
              "    }\n",
              "\n",
              "    .colab-df-convert:hover {\n",
              "      background-color: #E2EBFA;\n",
              "      box-shadow: 0px 1px 2px rgba(60, 64, 67, 0.3), 0px 1px 3px 1px rgba(60, 64, 67, 0.15);\n",
              "      fill: #174EA6;\n",
              "    }\n",
              "\n",
              "    [theme=dark] .colab-df-convert {\n",
              "      background-color: #3B4455;\n",
              "      fill: #D2E3FC;\n",
              "    }\n",
              "\n",
              "    [theme=dark] .colab-df-convert:hover {\n",
              "      background-color: #434B5C;\n",
              "      box-shadow: 0px 1px 3px 1px rgba(0, 0, 0, 0.15);\n",
              "      filter: drop-shadow(0px 1px 2px rgba(0, 0, 0, 0.3));\n",
              "      fill: #FFFFFF;\n",
              "    }\n",
              "  </style>\n",
              "\n",
              "      <script>\n",
              "        const buttonEl =\n",
              "          document.querySelector('#df-5354a84f-8102-4b9f-a6f2-0632193bdb99 button.colab-df-convert');\n",
              "        buttonEl.style.display =\n",
              "          google.colab.kernel.accessAllowed ? 'block' : 'none';\n",
              "\n",
              "        async function convertToInteractive(key) {\n",
              "          const element = document.querySelector('#df-5354a84f-8102-4b9f-a6f2-0632193bdb99');\n",
              "          const dataTable =\n",
              "            await google.colab.kernel.invokeFunction('convertToInteractive',\n",
              "                                                     [key], {});\n",
              "          if (!dataTable) return;\n",
              "\n",
              "          const docLinkHtml = 'Like what you see? Visit the ' +\n",
              "            '<a target=\"_blank\" href=https://colab.research.google.com/notebooks/data_table.ipynb>data table notebook</a>'\n",
              "            + ' to learn more about interactive tables.';\n",
              "          element.innerHTML = '';\n",
              "          dataTable['output_type'] = 'display_data';\n",
              "          await google.colab.output.renderOutput(dataTable, element);\n",
              "          const docLink = document.createElement('div');\n",
              "          docLink.innerHTML = docLinkHtml;\n",
              "          element.appendChild(docLink);\n",
              "        }\n",
              "      </script>\n",
              "    </div>\n",
              "  </div>\n",
              "  "
            ]
          },
          "metadata": {},
          "execution_count": 57
        }
      ],
      "source": [
        "Gearbox = df.groupby(['Make','Gearbox'])[['Price']].mean().unstack()\n",
        "Gearbox"
      ]
    },
    {
      "cell_type": "code",
      "execution_count": null,
      "metadata": {
        "colab": {
          "base_uri": "https://localhost:8080/",
          "height": 629
        },
        "id": "s8mkj6MN8l_i",
        "outputId": "bd82ff3a-5b3a-4aa5-87ad-07af743b45e1"
      },
      "outputs": [
        {
          "output_type": "display_data",
          "data": {
            "text/plain": [
              "<Figure size 2880x1152 with 1 Axes>"
            ],
            "image/png": "[encoded data removed]"
          },
          "metadata": {
            "needs_background": "light"
          }
        }
      ],
      "source": [
        "column = Gearbox.index\n",
        "mechanical = Gearbox['Price'][0].values.round()\n",
        "automatic = Gearbox['Price'][1].values.round()\n",
        "fig, ax = plt.subplots(figsize=(40, 16))\n",
        "x = np.arange(len(column)) \n",
        "width = 0.4\n",
        "plt.bar(x - width/2, automatic, width, label='Mechanical')\n",
        "plt.bar(x + width/2, mechanical, width, label='Automatic', color='r')\n",
        "plt.ylabel('Price($)', fontsize=30, color=\"green\")\n",
        "plt.xlabel('Make', fontsize=30, color=\"green\")\n",
        "plt.title('***')\n",
        "plt.xticks(x, column)\n",
        "ax.legend()\n",
        "plt.show();"
      ]
    },
    {
      "cell_type": "markdown",
      "metadata": {
        "id": "l_yrp7PtQzIX"
      },
      "source": [
        "## 4.7  The **Make** mean **Price** depending on **Hand drive**"
      ]
    },
    {
      "cell_type": "code",
      "execution_count": null,
      "metadata": {
        "colab": {
          "base_uri": "https://localhost:8080/",
          "height": 143
        },
        "id": "pCO9UxfWwxAA",
        "outputId": "1640b6cd-41ba-4025-ffc0-8e84dbc495b2"
      },
      "outputs": [
        {
          "output_type": "execute_result",
          "data": {
            "text/plain": [
              "                   Price\n",
              "Hand drive              \n",
              "0            7571.290323\n",
              "1           13474.119618"
            ],
            "text/html": [
              "\n",
              "  <div id=\"df-815fd9a8-80b0-400e-83be-254eb6c82573\">\n",
              "    <div class=\"colab-df-container\">\n",
              "      <div>\n",
              "<style scoped>\n",
              "    .dataframe tbody tr th:only-of-type {\n",
              "        vertical-align: middle;\n",
              "    }\n",
              "\n",
              "    .dataframe tbody tr th {\n",
              "        vertical-align: top;\n",
              "    }\n",
              "\n",
              "    .dataframe thead th {\n",
              "        text-align: right;\n",
              "    }\n",
              "</style>\n",
              "<table border=\"1\" class=\"dataframe\">\n",
              "  <thead>\n",
              "    <tr style=\"text-align: right;\">\n",
              "      <th></th>\n",
              "      <th>Price</th>\n",
              "    </tr>\n",
              "    <tr>\n",
              "      <th>Hand drive</th>\n",
              "      <th></th>\n",
              "    </tr>\n",
              "  </thead>\n",
              "  <tbody>\n",
              "    <tr>\n",
              "      <th>0</th>\n",
              "      <td>7571.290323</td>\n",
              "    </tr>\n",
              "    <tr>\n",
              "      <th>1</th>\n",
              "      <td>13474.119618</td>\n",
              "    </tr>\n",
              "  </tbody>\n",
              "</table>\n",
              "</div>\n",
              "      <button class=\"colab-df-convert\" onclick=\"convertToInteractive('df-815fd9a8-80b0-400e-83be-254eb6c82573')\"\n",
              "              title=\"Convert this dataframe to an interactive table.\"\n",
              "              style=\"display:none;\">\n",
              "        \n",
              "  <svg xmlns=\"http://www.w3.org/2000/svg\" height=\"24px\"viewBox=\"0 0 24 24\"\n",
              "       width=\"24px\">\n",
              "    <path d=\"M0 0h24v24H0V0z\" fill=\"none\"/>\n",
              "    <path d=\"M18.56 5.44l.94 2.06.94-2.06 2.06-.94-2.06-.94-.94-2.06-.94 2.06-2.06.94zm-11 1L8.5 8.5l.94-2.06 2.06-.94-2.06-.94L8.5 2.5l-.94 2.06-2.06.94zm10 10l.94 2.06.94-2.06 2.06-.94-2.06-.94-.94-2.06-.94 2.06-2.06.94z\"/><path d=\"M17.41 7.96l-1.37-1.37c-.4-.4-.92-.59-1.43-.59-.52 0-1.04.2-1.43.59L10.3 9.45l-7.72 7.72c-.78.78-.78 2.05 0 2.83L4 21.41c.39.39.9.59 1.41.59.51 0 1.02-.2 1.41-.59l7.78-7.78 2.81-2.81c.8-.78.8-2.07 0-2.86zM5.41 20L4 18.59l7.72-7.72 1.47 1.35L5.41 20z\"/>\n",
              "  </svg>\n",
              "      </button>\n",
              "      \n",
              "  <style>\n",
              "    .colab-df-container {\n",
              "      display:flex;\n",
              "      flex-wrap:wrap;\n",
              "      gap: 12px;\n",
              "    }\n",
              "\n",
              "    .colab-df-convert {\n",
              "      background-color: #E8F0FE;\n",
              "      border: none;\n",
              "      border-radius: 50%;\n",
              "      cursor: pointer;\n",
              "      display: none;\n",
              "      fill: #1967D2;\n",
              "      height: 32px;\n",
              "      padding: 0 0 0 0;\n",
              "      width: 32px;\n",
              "    }\n",
              "\n",
              "    .colab-df-convert:hover {\n",
              "      background-color: #E2EBFA;\n",
              "      box-shadow: 0px 1px 2px rgba(60, 64, 67, 0.3), 0px 1px 3px 1px rgba(60, 64, 67, 0.15);\n",
              "      fill: #174EA6;\n",
              "    }\n",
              "\n",
              "    [theme=dark] .colab-df-convert {\n",
              "      background-color: #3B4455;\n",
              "      fill: #D2E3FC;\n",
              "    }\n",
              "\n",
              "    [theme=dark] .colab-df-convert:hover {\n",
              "      background-color: #434B5C;\n",
              "      box-shadow: 0px 1px 3px 1px rgba(0, 0, 0, 0.15);\n",
              "      filter: drop-shadow(0px 1px 2px rgba(0, 0, 0, 0.3));\n",
              "      fill: #FFFFFF;\n",
              "    }\n",
              "  </style>\n",
              "\n",
              "      <script>\n",
              "        const buttonEl =\n",
              "          document.querySelector('#df-815fd9a8-80b0-400e-83be-254eb6c82573 button.colab-df-convert');\n",
              "        buttonEl.style.display =\n",
              "          google.colab.kernel.accessAllowed ? 'block' : 'none';\n",
              "\n",
              "        async function convertToInteractive(key) {\n",
              "          const element = document.querySelector('#df-815fd9a8-80b0-400e-83be-254eb6c82573');\n",
              "          const dataTable =\n",
              "            await google.colab.kernel.invokeFunction('convertToInteractive',\n",
              "                                                     [key], {});\n",
              "          if (!dataTable) return;\n",
              "\n",
              "          const docLinkHtml = 'Like what you see? Visit the ' +\n",
              "            '<a target=\"_blank\" href=https://colab.research.google.com/notebooks/data_table.ipynb>data table notebook</a>'\n",
              "            + ' to learn more about interactive tables.';\n",
              "          element.innerHTML = '';\n",
              "          dataTable['output_type'] = 'display_data';\n",
              "          await google.colab.output.renderOutput(dataTable, element);\n",
              "          const docLink = document.createElement('div');\n",
              "          docLink.innerHTML = docLinkHtml;\n",
              "          element.appendChild(docLink);\n",
              "        }\n",
              "      </script>\n",
              "    </div>\n",
              "  </div>\n",
              "  "
            ]
          },
          "metadata": {},
          "execution_count": 59
        }
      ],
      "source": [
        "hd = df.groupby('Hand drive')[['Price']].mean()\n",
        "hd"
      ]
    },
    {
      "cell_type": "code",
      "execution_count": null,
      "metadata": {
        "colab": {
          "base_uri": "https://localhost:8080/",
          "height": 297
        },
        "id": "6SnKV3FvoV8j",
        "outputId": "e3c665d4-6d2b-4989-9bf6-46468b5a3e4c"
      },
      "outputs": [
        {
          "output_type": "display_data",
          "data": {
            "text/plain": [
              "<Figure size 432x288 with 1 Axes>"
            ],
            "image/png": "[encoded data removed]"
          },
          "metadata": {}
        }
      ],
      "source": [
        "# Pie chart\n",
        "labels = ['Right', 'Left']\n",
        "sizes = hd['Price']\n",
        "#colors\n",
        "colors = ['#ff9999','#66b3ff']\n",
        " \n",
        "fig1, ax1 = plt.subplots()\n",
        "ax1.pie(sizes, colors = colors, labels=labels, autopct='%1.1f%%', startangle=90)\n",
        "#draw circle\n",
        "centre_circle = plt.Circle((0,0),0.70,fc='white')\n",
        "fig = plt.gcf()\n",
        "fig.gca().add_artist(centre_circle)\n",
        "# Equal aspect ratio ensures that pie is drawn as a circle\n",
        "ax1.axis('equal')  \n",
        "plt.tight_layout()\n",
        "plt.show()"
      ]
    },
    {
      "cell_type": "code",
      "execution_count": null,
      "metadata": {
        "colab": {
          "base_uri": "https://localhost:8080/",
          "height": 510
        },
        "id": "mshdh2YzY-jj",
        "outputId": "9f17759a-b774-4e86-a059-669fc9c992d7"
      },
      "outputs": [
        {
          "output_type": "display_data",
          "data": {
            "text/plain": [
              "<Figure size 3600x1152 with 1 Axes>"
            ],
            "image/png": "[encoded data removed]"
          },
          "metadata": {
            "needs_background": "light"
          }
        }
      ],
      "source": [
        "hand = df.groupby(['Make','Hand drive'])[['Price']].mean().unstack()\n",
        "column = hand.index\n",
        "left = hand['Price'][1].values.round()\n",
        "right = hand['Price'][0].values.round()\n",
        "fig, ax = plt.subplots(figsize=(50, 16))\n",
        "x = np.arange(len(column)) \n",
        "width = 0.4\n",
        "plt.bar(x - width/2, left, width, label='Left')\n",
        "plt.bar(x + width/2, right, width, label='Right', color='r')\n",
        "plt.ylabel('Price($)', fontsize=30, color=\"green\")\n",
        "plt.xlabel('Make', fontsize=30, color=\"green\")\n",
        "plt.title('***')\n",
        "plt.xticks(x, column)\n",
        "ax.legend()\n",
        "plt.show();"
      ]
    },
    {
      "cell_type": "markdown",
      "metadata": {
        "id": "p7FRMkq09jn_"
      },
      "source": [
        "## 4.8 The mean **PRICE** per **Engine** of the **Make**"
      ]
    },
    {
      "cell_type": "code",
      "execution_count": null,
      "metadata": {
        "id": "3uGvkEX29j-l"
      },
      "outputs": [],
      "source": [
        "df_engine = df.groupby(['Make', 'Engine'])[['Price']].mean().unstack()"
      ]
    },
    {
      "cell_type": "code",
      "execution_count": null,
      "metadata": {
        "colab": {
          "base_uri": "https://localhost:8080/",
          "height": 504
        },
        "id": "evqXC9Po9ufM",
        "outputId": "2c56a27f-b120-4590-cdf1-40a6e7fa839d"
      },
      "outputs": [
        {
          "output_type": "display_data",
          "data": {
            "text/plain": [
              "<Figure size 3600x1152 with 1 Axes>"
            ],
            "image/png": "[encoded data removed]"
          },
          "metadata": {
            "needs_background": "light"
          }
        }
      ],
      "source": [
        "make_engine = df_engine.index\n",
        "petrol = df_engine['Price'][' Բենզին'].values\n",
        "gas = df_engine['Price'][' Գազ'].values\n",
        "diesel = df_engine['Price'][' Դիզել'].values\n",
        "electric = df_engine['Price'][' Էլեկտրական'].values\n",
        "hybrid = df_engine['Price'][' Հիբրիդ'].values\n",
        "\n",
        "x = np.arange(len(make_engine))\n",
        "width = 0.2\n",
        "fig, ax = plt.subplots(figsize=(50, 16))\n",
        "ax.bar(x - 1.9*width, petrol, width, label='Բենզին')\n",
        "ax.bar(x - width, gas, width, label='Գազ')\n",
        "ax.bar(x , diesel, width, label='Դիզել')\n",
        "ax.bar(x + width, electric, width, label='Էլեկտրական')\n",
        "ax.bar(x + 1.9*width, hybrid, width, label='Հիբրիդ')\n",
        "ax.set_title('The mean PRICE per Engine of the Make')\n",
        "ax.set_xlabel('Make')\n",
        "ax.set_ylabel('Price($)')\n",
        "plt.xticks(x, np.array(make_engine))\n",
        "ax.legend()\n",
        "plt.show()"
      ]
    },
    {
      "cell_type": "markdown",
      "metadata": {
        "id": "IlIUSzC7Eiev"
      },
      "source": [
        "## 4.9 Comparison of minimum and maximum prices of **Make**"
      ]
    },
    {
      "cell_type": "code",
      "execution_count": null,
      "metadata": {
        "id": "0G1baLWOAvcm"
      },
      "outputs": [],
      "source": [
        "# Group the data by \"Make\" and \"Price\" columns  and get the min\n",
        "min_price = df.groupby(['Make'])[['Price']].min()\n",
        "\n",
        "# Group the data by \"Make\" and \"Price\" columns  and get the max\n",
        "max_price = df.groupby(['Make'])[['Price']].max()"
      ]
    },
    {
      "cell_type": "code",
      "execution_count": null,
      "metadata": {
        "colab": {
          "base_uri": "https://localhost:8080/",
          "height": 510
        },
        "id": "9W-tmWGNEBn1",
        "outputId": "f525a982-b04c-4154-e7dd-720893b0cabf"
      },
      "outputs": [
        {
          "output_type": "display_data",
          "data": {
            "text/plain": [
              "<Figure size 3600x1152 with 1 Axes>"
            ],
            "image/png": "[encoded data removed]"
          },
          "metadata": {
            "needs_background": "light"
          }
        }
      ],
      "source": [
        "column = min_price.index\n",
        "min = min_price['Price'].values.round()\n",
        "max = max_price['Price'].values.round()\n",
        "fig, ax = plt.subplots(figsize=(50, 16))\n",
        "x = np.arange(len(column)) \n",
        "width = 0.4\n",
        "plt.bar(x - width/2, min, width, label='Min', color='yellow')\n",
        "plt.bar(x + width/2, max, width, label='Max', color='green')\n",
        "plt.ylabel('Price($)', fontsize=30, color=\"black\")\n",
        "plt.xlabel('Make', fontsize=30, color=\"black\")\n",
        "plt.title('Comparison of minimum and maximum prices of Make')\n",
        "plt.xticks(x, column)\n",
        "plt.style.use('seaborn-dark-palette')\n",
        "plt.style.use('seaborn-whitegrid')\n",
        "ax.legend()\n",
        "plt.show();"
      ]
    },
    {
      "cell_type": "markdown",
      "metadata": {
        "id": "8xeVKCUxHy9k"
      },
      "source": [
        "## 4.10 Count of each **Body style**"
      ]
    },
    {
      "cell_type": "code",
      "execution_count": null,
      "metadata": {
        "colab": {
          "base_uri": "https://localhost:8080/",
          "height": 332
        },
        "id": "0JgHBSN6Hs-v",
        "outputId": "d02b1f75-e418-4b37-8bb0-8210ef7aea51"
      },
      "outputs": [
        {
          "output_type": "execute_result",
          "data": {
            "text/plain": [
              "                 Body style  count\n",
              "0                 Ամենագնաց   3268\n",
              "1       Կաբրիոլետ / Ռոդսթեր     27\n",
              "2                     Կուպե    252\n",
              "3                   Հետչբեք    374\n",
              "4   Մինիվեն / Միկրոավտոբուս     71\n",
              "5                Ունիվերսալ    297\n",
              "6                     Պիկապ    263\n",
              "7                     Սեդան   4567\n",
              "8                   Ֆուրգոն     16"
            ],
            "text/html": [
              "\n",
              "  <div id=\"df-57ad0b49-e035-4db9-b1ab-db735f5c1c77\">\n",
              "    <div class=\"colab-df-container\">\n",
              "      <div>\n",
              "<style scoped>\n",
              "    .dataframe tbody tr th:only-of-type {\n",
              "        vertical-align: middle;\n",
              "    }\n",
              "\n",
              "    .dataframe tbody tr th {\n",
              "        vertical-align: top;\n",
              "    }\n",
              "\n",
              "    .dataframe thead th {\n",
              "        text-align: right;\n",
              "    }\n",
              "</style>\n",
              "<table border=\"1\" class=\"dataframe\">\n",
              "  <thead>\n",
              "    <tr style=\"text-align: right;\">\n",
              "      <th></th>\n",
              "      <th>Body style</th>\n",
              "      <th>count</th>\n",
              "    </tr>\n",
              "  </thead>\n",
              "  <tbody>\n",
              "    <tr>\n",
              "      <th>0</th>\n",
              "      <td>Ամենագնաց</td>\n",
              "      <td>3268</td>\n",
              "    </tr>\n",
              "    <tr>\n",
              "      <th>1</th>\n",
              "      <td>Կաբրիոլետ / Ռոդսթեր</td>\n",
              "      <td>27</td>\n",
              "    </tr>\n",
              "    <tr>\n",
              "      <th>2</th>\n",
              "      <td>Կուպե</td>\n",
              "      <td>252</td>\n",
              "    </tr>\n",
              "    <tr>\n",
              "      <th>3</th>\n",
              "      <td>Հետչբեք</td>\n",
              "      <td>374</td>\n",
              "    </tr>\n",
              "    <tr>\n",
              "      <th>4</th>\n",
              "      <td>Մինիվեն / Միկրոավտոբուս</td>\n",
              "      <td>71</td>\n",
              "    </tr>\n",
              "    <tr>\n",
              "      <th>5</th>\n",
              "      <td>Ունիվերսալ</td>\n",
              "      <td>297</td>\n",
              "    </tr>\n",
              "    <tr>\n",
              "      <th>6</th>\n",
              "      <td>Պիկապ</td>\n",
              "      <td>263</td>\n",
              "    </tr>\n",
              "    <tr>\n",
              "      <th>7</th>\n",
              "      <td>Սեդան</td>\n",
              "      <td>4567</td>\n",
              "    </tr>\n",
              "    <tr>\n",
              "      <th>8</th>\n",
              "      <td>Ֆուրգոն</td>\n",
              "      <td>16</td>\n",
              "    </tr>\n",
              "  </tbody>\n",
              "</table>\n",
              "</div>\n",
              "      <button class=\"colab-df-convert\" onclick=\"convertToInteractive('df-57ad0b49-e035-4db9-b1ab-db735f5c1c77')\"\n",
              "              title=\"Convert this dataframe to an interactive table.\"\n",
              "              style=\"display:none;\">\n",
              "        \n",
              "  <svg xmlns=\"http://www.w3.org/2000/svg\" height=\"24px\"viewBox=\"0 0 24 24\"\n",
              "       width=\"24px\">\n",
              "    <path d=\"M0 0h24v24H0V0z\" fill=\"none\"/>\n",
              "    <path d=\"M18.56 5.44l.94 2.06.94-2.06 2.06-.94-2.06-.94-.94-2.06-.94 2.06-2.06.94zm-11 1L8.5 8.5l.94-2.06 2.06-.94-2.06-.94L8.5 2.5l-.94 2.06-2.06.94zm10 10l.94 2.06.94-2.06 2.06-.94-2.06-.94-.94-2.06-.94 2.06-2.06.94z\"/><path d=\"M17.41 7.96l-1.37-1.37c-.4-.4-.92-.59-1.43-.59-.52 0-1.04.2-1.43.59L10.3 9.45l-7.72 7.72c-.78.78-.78 2.05 0 2.83L4 21.41c.39.39.9.59 1.41.59.51 0 1.02-.2 1.41-.59l7.78-7.78 2.81-2.81c.8-.78.8-2.07 0-2.86zM5.41 20L4 18.59l7.72-7.72 1.47 1.35L5.41 20z\"/>\n",
              "  </svg>\n",
              "      </button>\n",
              "      \n",
              "  <style>\n",
              "    .colab-df-container {\n",
              "      display:flex;\n",
              "      flex-wrap:wrap;\n",
              "      gap: 12px;\n",
              "    }\n",
              "\n",
              "    .colab-df-convert {\n",
              "      background-color: #E8F0FE;\n",
              "      border: none;\n",
              "      border-radius: 50%;\n",
              "      cursor: pointer;\n",
              "      display: none;\n",
              "      fill: #1967D2;\n",
              "      height: 32px;\n",
              "      padding: 0 0 0 0;\n",
              "      width: 32px;\n",
              "    }\n",
              "\n",
              "    .colab-df-convert:hover {\n",
              "      background-color: #E2EBFA;\n",
              "      box-shadow: 0px 1px 2px rgba(60, 64, 67, 0.3), 0px 1px 3px 1px rgba(60, 64, 67, 0.15);\n",
              "      fill: #174EA6;\n",
              "    }\n",
              "\n",
              "    [theme=dark] .colab-df-convert {\n",
              "      background-color: #3B4455;\n",
              "      fill: #D2E3FC;\n",
              "    }\n",
              "\n",
              "    [theme=dark] .colab-df-convert:hover {\n",
              "      background-color: #434B5C;\n",
              "      box-shadow: 0px 1px 3px 1px rgba(0, 0, 0, 0.15);\n",
              "      filter: drop-shadow(0px 1px 2px rgba(0, 0, 0, 0.3));\n",
              "      fill: #FFFFFF;\n",
              "    }\n",
              "  </style>\n",
              "\n",
              "      <script>\n",
              "        const buttonEl =\n",
              "          document.querySelector('#df-57ad0b49-e035-4db9-b1ab-db735f5c1c77 button.colab-df-convert');\n",
              "        buttonEl.style.display =\n",
              "          google.colab.kernel.accessAllowed ? 'block' : 'none';\n",
              "\n",
              "        async function convertToInteractive(key) {\n",
              "          const element = document.querySelector('#df-57ad0b49-e035-4db9-b1ab-db735f5c1c77');\n",
              "          const dataTable =\n",
              "            await google.colab.kernel.invokeFunction('convertToInteractive',\n",
              "                                                     [key], {});\n",
              "          if (!dataTable) return;\n",
              "\n",
              "          const docLinkHtml = 'Like what you see? Visit the ' +\n",
              "            '<a target=\"_blank\" href=https://colab.research.google.com/notebooks/data_table.ipynb>data table notebook</a>'\n",
              "            + ' to learn more about interactive tables.';\n",
              "          element.innerHTML = '';\n",
              "          dataTable['output_type'] = 'display_data';\n",
              "          await google.colab.output.renderOutput(dataTable, element);\n",
              "          const docLink = document.createElement('div');\n",
              "          docLink.innerHTML = docLinkHtml;\n",
              "          element.appendChild(docLink);\n",
              "        }\n",
              "      </script>\n",
              "    </div>\n",
              "  </div>\n",
              "  "
            ]
          },
          "metadata": {},
          "execution_count": 66
        }
      ],
      "source": [
        "# Group the data by \"Body style\" and get the count\n",
        "grouped_body = df.groupby(\"Body style\").size().reset_index(name='count')\n",
        "\n",
        "# Create a new DataFrame with the \"Body style\" and \"count\" columns\n",
        "df_body = grouped_body[[\"Body style\", \"count\"]]\n",
        "df_body"
      ]
    },
    {
      "cell_type": "code",
      "source": [
        "# Pie chart\n",
        "labels = ['SUV / Truck', 'Convertible', 'Coupe', 'Hatchback', 'Minivan', 'Wagon', 'Pickup', 'Sedan', 'Van']\n",
        "sizes =  df_body['count']\n",
        "#colors\n",
        "colors = [\"#9467bd\", \"#bcbd22\",\"#e377c2\",\"#17becf\", \"#8c564b\", \"#d62728\", \"#1f77b4\", \"#ff7f0e\",\"#2ca02c\"   ]\n",
        " \n",
        "fig1, ax1 = plt.subplots(figsize=(10,6))\n",
        "ax1.pie(sizes, colors = colors, labels=labels, startangle=90)\n",
        "#draw circle\n",
        "centre_circle = plt.Circle((0,0),0.60,fc='white')\n",
        "fig = plt.gcf()\n",
        "fig.gca().add_artist(centre_circle)\n",
        "# Equal aspect ratio ensures that pie is drawn as a circle\n",
        "ax1.axis('equal')  \n",
        "plt.tight_layout()\n",
        "plt.show();"
      ],
      "metadata": {
        "colab": {
          "base_uri": "https://localhost:8080/",
          "height": 448
        },
        "id": "QTDd3-V77Ln6",
        "outputId": "a3ea34cb-59eb-4aee-d15d-99617b8ee686"
      },
      "execution_count": null,
      "outputs": [
        {
          "output_type": "display_data",
          "data": {
            "text/plain": [
              "<Figure size 720x432 with 1 Axes>"
            ],
            "image/png": "[encoded data removed]"
          },
          "metadata": {}
        }
      ]
    },
    {
      "cell_type": "markdown",
      "metadata": {
        "id": "FGbw1yvQXbHI"
      },
      "source": [
        "## 4.11 The mean **Price** depending on **Year**"
      ]
    },
    {
      "cell_type": "code",
      "execution_count": null,
      "metadata": {
        "id": "floONDjfzybz"
      },
      "outputs": [],
      "source": [
        "# Group the data by \"Year\" and \"Price\" columns  and get the means\n",
        "df.groupby('Year')['Price'].mean()"
      ]
    },
    {
      "cell_type": "code",
      "source": [
        "df[\"Year\"] = df[\"Year\"].astype(int)\n",
        "df[\"Price\"] = df[\"Price\"].astype(int)"
      ],
      "metadata": {
        "id": "nsz2SsJHKYHZ"
      },
      "execution_count": null,
      "outputs": []
    },
    {
      "cell_type": "code",
      "source": [
        "x = df[[\"Make\", \"Price\"]]\n",
        "y = df[[\"Make\", \"Year\"]]"
      ],
      "metadata": {
        "id": "2aYiQeMVMZab"
      },
      "execution_count": null,
      "outputs": []
    },
    {
      "cell_type": "code",
      "execution_count": null,
      "metadata": {
        "id": "Cy6RgMEfz7Ar",
        "colab": {
          "base_uri": "https://localhost:8080/",
          "height": 513
        },
        "outputId": "f82519ed-83c3-46bb-d45e-9d6ec25e2f49"
      },
      "outputs": [
        {
          "output_type": "stream",
          "name": "stderr",
          "text": [
            "/usr/local/lib/python3.8/dist-packages/seaborn/_decorators.py:36: FutureWarning: Pass the following variables as keyword args: x, y. From version 0.12, the only valid positional argument will be `data`, and passing other arguments without an explicit keyword will result in an error or misinterpretation.\n",
            "  warnings.warn(\n"
          ]
        },
        {
          "output_type": "execute_result",
          "data": {
            "text/plain": [
              "Text(0.5, 1.0, 'Distribution')"
            ]
          },
          "metadata": {},
          "execution_count": 71
        },
        {
          "output_type": "display_data",
          "data": {
            "text/plain": [
              "<Figure size 432x432 with 3 Axes>"
            ],
            "image/png": "[encoded data removed]"
          },
          "metadata": {}
        }
      ],
      "source": [
        "#distribution\n",
        "x = df[\"Price\"]\n",
        "y = df[\"Year\"]\n",
        "sns_plot = sns.jointplot(x, y)\n",
        "plt.title('Distribution')"
      ]
    },
    {
      "cell_type": "markdown",
      "source": [
        "##4.12 The **Price** depending on **Year** and **Mileage**"
      ],
      "metadata": {
        "id": "IAqFHejuGLdF"
      }
    },
    {
      "cell_type": "code",
      "source": [
        "from mpl_toolkits.mplot3d import Axes3D\n",
        "\n",
        "\n",
        "# Extract the year and price columns\n",
        "year = df[\"Year\"]\n",
        "price = df[\"Price\"]\n",
        "mileage = df['Mileage']\n",
        "\n",
        "# Create a figure and axis for the 3D scatter plot\n",
        "fig = plt.figure(figsize=(20,16))\n",
        "ax = fig.add_subplot(111, projection='3d')\n",
        "\n",
        "# Plot the year and price data as a 3D scatter plot\n",
        "ax.scatter(year, price, mileage, c='blue', marker='o')\n",
        "\n",
        "# Label the x, y, and z axes\n",
        "ax.set_xlabel('Year', fontsize=20)\n",
        "ax.set_ylabel('Price', fontsize=20)\n",
        "ax.set_zlabel('Mileage', fontsize=20)\n",
        "\n",
        "# Show the plot\n",
        "plt.show()"
      ],
      "metadata": {
        "id": "8w1Eq64bDPQf"
      },
      "execution_count": null,
      "outputs": []
    },
    {
      "cell_type": "code",
      "source": [
        "df[\"Price\"].mean()"
      ],
      "metadata": {
        "colab": {
          "base_uri": "https://localhost:8080/"
        },
        "id": "MSLOBhOXGsPT",
        "outputId": "cd63c70f-abea-4040-8763-ca85790f29cc"
      },
      "execution_count": null,
      "outputs": [
        {
          "output_type": "execute_result",
          "data": {
            "text/plain": [
              "13454.088122605364"
            ]
          },
          "metadata": {},
          "execution_count": 73
        }
      ]
    },
    {
      "cell_type": "markdown",
      "source": [
        "##4.13 Correlation Matrices"
      ],
      "metadata": {
        "id": "0WAarcm8Gm99"
      }
    },
    {
      "cell_type": "code",
      "source": [
        "df.corr()"
      ],
      "metadata": {
        "colab": {
          "base_uri": "https://localhost:8080/",
          "height": 238
        },
        "id": "kKfVXxKCFdld",
        "outputId": "ed12ea5b-f01f-4b23-dc62-bdd65259f60e"
      },
      "execution_count": null,
      "outputs": [
        {
          "output_type": "execute_result",
          "data": {
            "text/plain": [
              "                   Price      Year   Mileage   Gearbox  Hand drive  \\\n",
              "Price           1.000000  0.103828 -0.040199 -0.044590    0.020261   \n",
              "Year            0.103828  1.000000 -0.593423 -0.403418    0.182476   \n",
              "Mileage        -0.040199 -0.593423  1.000000  0.225932   -0.090793   \n",
              "Gearbox        -0.044590 -0.403418  0.225932  1.000000    0.008226   \n",
              "Hand drive      0.020261  0.182476 -0.090793  0.008226    1.000000   \n",
              "Custom cleared  0.379747 -0.493063  0.455824  0.231101   -0.109349   \n",
              "\n",
              "                Custom cleared  \n",
              "Price                 0.379747  \n",
              "Year                 -0.493063  \n",
              "Mileage               0.455824  \n",
              "Gearbox               0.231101  \n",
              "Hand drive           -0.109349  \n",
              "Custom cleared        1.000000  "
            ],
            "text/html": [
              "\n",
              "  <div id=\"df-6c57fb16-c2cc-4aa9-ae63-311216639acb\">\n",
              "    <div class=\"colab-df-container\">\n",
              "      <div>\n",
              "<style scoped>\n",
              "    .dataframe tbody tr th:only-of-type {\n",
              "        vertical-align: middle;\n",
              "    }\n",
              "\n",
              "    .dataframe tbody tr th {\n",
              "        vertical-align: top;\n",
              "    }\n",
              "\n",
              "    .dataframe thead th {\n",
              "        text-align: right;\n",
              "    }\n",
              "</style>\n",
              "<table border=\"1\" class=\"dataframe\">\n",
              "  <thead>\n",
              "    <tr style=\"text-align: right;\">\n",
              "      <th></th>\n",
              "      <th>Price</th>\n",
              "      <th>Year</th>\n",
              "      <th>Mileage</th>\n",
              "      <th>Gearbox</th>\n",
              "      <th>Hand drive</th>\n",
              "      <th>Custom cleared</th>\n",
              "    </tr>\n",
              "  </thead>\n",
              "  <tbody>\n",
              "    <tr>\n",
              "      <th>Price</th>\n",
              "      <td>1.000000</td>\n",
              "      <td>0.103828</td>\n",
              "      <td>-0.040199</td>\n",
              "      <td>-0.044590</td>\n",
              "      <td>0.020261</td>\n",
              "      <td>0.379747</td>\n",
              "    </tr>\n",
              "    <tr>\n",
              "      <th>Year</th>\n",
              "      <td>0.103828</td>\n",
              "      <td>1.000000</td>\n",
              "      <td>-0.593423</td>\n",
              "      <td>-0.403418</td>\n",
              "      <td>0.182476</td>\n",
              "      <td>-0.493063</td>\n",
              "    </tr>\n",
              "    <tr>\n",
              "      <th>Mileage</th>\n",
              "      <td>-0.040199</td>\n",
              "      <td>-0.593423</td>\n",
              "      <td>1.000000</td>\n",
              "      <td>0.225932</td>\n",
              "      <td>-0.090793</td>\n",
              "      <td>0.455824</td>\n",
              "    </tr>\n",
              "    <tr>\n",
              "      <th>Gearbox</th>\n",
              "      <td>-0.044590</td>\n",
              "      <td>-0.403418</td>\n",
              "      <td>0.225932</td>\n",
              "      <td>1.000000</td>\n",
              "      <td>0.008226</td>\n",
              "      <td>0.231101</td>\n",
              "    </tr>\n",
              "    <tr>\n",
              "      <th>Hand drive</th>\n",
              "      <td>0.020261</td>\n",
              "      <td>0.182476</td>\n",
              "      <td>-0.090793</td>\n",
              "      <td>0.008226</td>\n",
              "      <td>1.000000</td>\n",
              "      <td>-0.109349</td>\n",
              "    </tr>\n",
              "    <tr>\n",
              "      <th>Custom cleared</th>\n",
              "      <td>0.379747</td>\n",
              "      <td>-0.493063</td>\n",
              "      <td>0.455824</td>\n",
              "      <td>0.231101</td>\n",
              "      <td>-0.109349</td>\n",
              "      <td>1.000000</td>\n",
              "    </tr>\n",
              "  </tbody>\n",
              "</table>\n",
              "</div>\n",
              "      <button class=\"colab-df-convert\" onclick=\"convertToInteractive('df-6c57fb16-c2cc-4aa9-ae63-311216639acb')\"\n",
              "              title=\"Convert this dataframe to an interactive table.\"\n",
              "              style=\"display:none;\">\n",
              "        \n",
              "  <svg xmlns=\"http://www.w3.org/2000/svg\" height=\"24px\"viewBox=\"0 0 24 24\"\n",
              "       width=\"24px\">\n",
              "    <path d=\"M0 0h24v24H0V0z\" fill=\"none\"/>\n",
              "    <path d=\"M18.56 5.44l.94 2.06.94-2.06 2.06-.94-2.06-.94-.94-2.06-.94 2.06-2.06.94zm-11 1L8.5 8.5l.94-2.06 2.06-.94-2.06-.94L8.5 2.5l-.94 2.06-2.06.94zm10 10l.94 2.06.94-2.06 2.06-.94-2.06-.94-.94-2.06-.94 2.06-2.06.94z\"/><path d=\"M17.41 7.96l-1.37-1.37c-.4-.4-.92-.59-1.43-.59-.52 0-1.04.2-1.43.59L10.3 9.45l-7.72 7.72c-.78.78-.78 2.05 0 2.83L4 21.41c.39.39.9.59 1.41.59.51 0 1.02-.2 1.41-.59l7.78-7.78 2.81-2.81c.8-.78.8-2.07 0-2.86zM5.41 20L4 18.59l7.72-7.72 1.47 1.35L5.41 20z\"/>\n",
              "  </svg>\n",
              "      </button>\n",
              "      \n",
              "  <style>\n",
              "    .colab-df-container {\n",
              "      display:flex;\n",
              "      flex-wrap:wrap;\n",
              "      gap: 12px;\n",
              "    }\n",
              "\n",
              "    .colab-df-convert {\n",
              "      background-color: #E8F0FE;\n",
              "      border: none;\n",
              "      border-radius: 50%;\n",
              "      cursor: pointer;\n",
              "      display: none;\n",
              "      fill: #1967D2;\n",
              "      height: 32px;\n",
              "      padding: 0 0 0 0;\n",
              "      width: 32px;\n",
              "    }\n",
              "\n",
              "    .colab-df-convert:hover {\n",
              "      background-color: #E2EBFA;\n",
              "      box-shadow: 0px 1px 2px rgba(60, 64, 67, 0.3), 0px 1px 3px 1px rgba(60, 64, 67, 0.15);\n",
              "      fill: #174EA6;\n",
              "    }\n",
              "\n",
              "    [theme=dark] .colab-df-convert {\n",
              "      background-color: #3B4455;\n",
              "      fill: #D2E3FC;\n",
              "    }\n",
              "\n",
              "    [theme=dark] .colab-df-convert:hover {\n",
              "      background-color: #434B5C;\n",
              "      box-shadow: 0px 1px 3px 1px rgba(0, 0, 0, 0.15);\n",
              "      filter: drop-shadow(0px 1px 2px rgba(0, 0, 0, 0.3));\n",
              "      fill: #FFFFFF;\n",
              "    }\n",
              "  </style>\n",
              "\n",
              "      <script>\n",
              "        const buttonEl =\n",
              "          document.querySelector('#df-6c57fb16-c2cc-4aa9-ae63-311216639acb button.colab-df-convert');\n",
              "        buttonEl.style.display =\n",
              "          google.colab.kernel.accessAllowed ? 'block' : 'none';\n",
              "\n",
              "        async function convertToInteractive(key) {\n",
              "          const element = document.querySelector('#df-6c57fb16-c2cc-4aa9-ae63-311216639acb');\n",
              "          const dataTable =\n",
              "            await google.colab.kernel.invokeFunction('convertToInteractive',\n",
              "                                                     [key], {});\n",
              "          if (!dataTable) return;\n",
              "\n",
              "          const docLinkHtml = 'Like what you see? Visit the ' +\n",
              "            '<a target=\"_blank\" href=https://colab.research.google.com/notebooks/data_table.ipynb>data table notebook</a>'\n",
              "            + ' to learn more about interactive tables.';\n",
              "          element.innerHTML = '';\n",
              "          dataTable['output_type'] = 'display_data';\n",
              "          await google.colab.output.renderOutput(dataTable, element);\n",
              "          const docLink = document.createElement('div');\n",
              "          docLink.innerHTML = docLinkHtml;\n",
              "          element.appendChild(docLink);\n",
              "        }\n",
              "      </script>\n",
              "    </div>\n",
              "  </div>\n",
              "  "
            ]
          },
          "metadata": {},
          "execution_count": 137
        }
      ]
    },
    {
      "cell_type": "code",
      "source": [
        "sns.heatmap(df.corr());"
      ],
      "metadata": {
        "colab": {
          "base_uri": "https://localhost:8080/",
          "height": 326
        },
        "id": "M5wEFUGCQ-Z6",
        "outputId": "4cac948e-5cf8-4037-c664-72969a6712b2"
      },
      "execution_count": null,
      "outputs": [
        {
          "output_type": "display_data",
          "data": {
            "text/plain": [
              "<Figure size 432x288 with 2 Axes>"
            ],
            "image/png": "[encoded data removed]"
          },
          "metadata": {}
        }
      ]
    },
    {
      "cell_type": "code",
      "source": [
        "sns.heatmap(df.corr(), \n",
        "        xticklabels=df.corr().columns,\n",
        "        yticklabels=df.corr().columns, cmap = \"viridis\", annot=True)"
      ],
      "metadata": {
        "colab": {
          "base_uri": "https://localhost:8080/",
          "height": 343
        },
        "id": "c2zyHtHtRa2R",
        "outputId": "71097f23-a5f9-4ace-83a9-9cf7658b89f3"
      },
      "execution_count": null,
      "outputs": [
        {
          "output_type": "execute_result",
          "data": {
            "text/plain": [
              "<matplotlib.axes._subplots.AxesSubplot at 0x7ff6bf4fa160>"
            ]
          },
          "metadata": {},
          "execution_count": 139
        },
        {
          "output_type": "display_data",
          "data": {
            "text/plain": [
              "<Figure size 432x288 with 2 Axes>"
            ],
            "image/png": "[encoded data removed]"
          },
          "metadata": {}
        }
      ]
    },
    {
      "cell_type": "code",
      "source": [
        "sns.pairplot(df.corr())"
      ],
      "metadata": {
        "colab": {
          "base_uri": "https://localhost:8080/",
          "height": 891
        },
        "id": "rfI2CLIVGo2b",
        "outputId": "d22681e7-7bb3-4636-a6b7-70db9f1fbea3"
      },
      "execution_count": null,
      "outputs": [
        {
          "output_type": "execute_result",
          "data": {
            "text/plain": [
              "<seaborn.axisgrid.PairGrid at 0x7ff6bf5d3ee0>"
            ]
          },
          "metadata": {},
          "execution_count": 143
        },
        {
          "output_type": "display_data",
          "data": {
            "text/plain": [
              "<Figure size 1080x1080 with 42 Axes>"
            ],
            "image/png": "[encoded data removed]"
          },
          "metadata": {}
        }
      ]
    },
    {
      "cell_type": "markdown",
      "source": [
        "#5) Conclusion"
      ],
      "metadata": {
        "id": "NPGJhcYeXUBe"
      }
    },
    {
      "cell_type": "markdown",
      "source": [
        "Ստացված տվյալների և վերլուծությունների հիման վրա կարող ենք եզրակացնել՝\n",
        "\n",
        "\n",
        "1.   հայաստանյան մեքենաների շուկայում ամենամեծ տարածում ունի **'Toyota'** մակնիշի մեքենաները\n",
        "2.   ՀՀ-ում մեքենայի **միջին արժեքը**, կախված մակնիշից, կազմում է 2500-ից  մինչև 160,000 ԱՄՆ դոլար\n",
        "3.   **Դիզելային** շարժիչով մեքենաներն ավելի թանկ են, իսկ **գազով** շարժիչները ավելի էժան են\n",
        "4.   Եզակի(որոնց քանակը շուկայում քիչ է) գույները ավելի թանկ են քան լայն տարածում ունեցողները\n",
        "5.   Շուկայում **ավտոմատ** փոխանցման տուփով մեքենաներն ավելի շատ են քան **մեխանիկակաները**, կա մեծ գնային տարբերություն կախված փոխանցման տուփից(տե'ս 4.6)\n",
        "6.   Շուկայում **Ձախ** ղեկով մեքենաներն ավելի շատ են քան **Աջ** ղեկովները, կա մեծ գնային տարբերություն կախված ղեկի աջ կամ ձախ լինելուց (տե'ս 4.7)\n",
        "7.  Այն մակնիշները, որոնք ներկայացված են ՀՀ շուկայում վաղուց, նրանց փոքրագույն և մեծագույն արժեքները խիստ տարբերվում են, իսկ որոնք շուկայում նոր են գների տարբերությունը թույլ է\n",
        "8.  Շուկայում գերակշռում է **Սեդան** և **Ամենագնաց** թափք ունեցող մեքենաները\n",
        "9.  Ըստ **գնի** և **տարեթվի** երկչափ բաշխման, մեքենաները հիմնակնում բաշխված են 2010-2020 թվականների և 10.000  - 30.000 ԱՄՆ դոլար գների միջև\n",
        "10. Ամենամեծ **կորելացիան** գնի և մաքսզերծվածության մեջ է\n",
        "\n"
      ],
      "metadata": {
        "id": "ZHvWSrs5Xw38"
      }
    }
  ],
  "metadata": {
    "colab": {
      "provenance": [],
      "collapsed_sections": [
        "VVl8OBomyURh",
        "IA08S5Yv2Cj2",
        "IYcvlNi-YLSn",
        "KGVBjGwZEpMO",
        "2gRFIpovEIUK",
        "jgtNqJx_z5Xn",
        "pvqA0GNt75NG",
        "BsPGXA_28C3o",
        "l_yrp7PtQzIX",
        "IlIUSzC7Eiev",
        "8xeVKCUxHy9k"
      ],
      "toc_visible": true
    },
    "kernelspec": {
      "display_name": "Python 3",
      "name": "python3"
    },
    "language_info": {
      "name": "python"
    }
  },
  "nbformat": 4,
  "nbformat_minor": 0
}